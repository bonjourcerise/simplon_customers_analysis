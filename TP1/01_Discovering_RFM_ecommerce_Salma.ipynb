{
 "cells": [
  {
   "cell_type": "markdown",
   "id": "comprehensive-warehouse",
   "metadata": {},
   "source": [
    "# Customer analysis"
   ]
  },
  {
   "cell_type": "markdown",
   "id": "working-earth",
   "metadata": {},
   "source": [
    "In this exercise, you work for a consulting firm as data analyst. One of your clients asked for help to understand its customer buying behavior. \n",
    "\n",
    "You dispose of a dataset from its e-commerce website with 13 features : \n",
    "\n",
    "- order_id : ID if the order\n",
    "- order_status : Status of the order\n",
    "- order_purchase_timestamp : Timestamp of the purchase\n",
    "- order_delivered_customer_date : Timestamp of the delivery to the customer\n",
    "- payment_type : Method of payment\n",
    "- payment_installments : Number of payments for this purchase (does NOT affect the payment value)\n",
    "- payment_value : Total amount of the payment\n",
    "- review_score : Score given by the client, ranges from 1 to 5\n",
    "- customer_unique_id : ID of the customer who purchased\n",
    "- customer_zip_code_prefix : Zip code of the customer\n",
    "- customer_city : City of the customer\n",
    "- customer_state : State of the customer\n",
    "- product_category_name_english : Name of the product category in English\n",
    "\n",
    "With this data, you have to analyze customer behavior with two techniques:\n",
    "\n",
    "- Customer segmentation with RFM\n",
    "- Cohort analysis from Sept 2016 to October 2018.\n",
    "\n",
    "At the end, you have to present your analysis with actionable insights to improve the customer relationship of your client. "
   ]
  },
  {
   "cell_type": "markdown",
   "id": "e34741c0",
   "metadata": {},
   "source": [
    "# Understanding RFM Segmentation "
   ]
  },
  {
   "cell_type": "markdown",
   "id": "fe5120cd",
   "metadata": {
    "ExecuteTime": {
     "end_time": "2021-09-30T14:30:02.324575Z",
     "start_time": "2021-09-30T14:30:02.319234Z"
    }
   },
   "source": [
    "❓ What are the 3 metrics used in an RFM Segmentation? (hint : What does RFM stand for?) "
   ]
  },
  {
   "cell_type": "code",
   "execution_count": null,
   "id": "ee33d315",
   "metadata": {},
   "outputs": [],
   "source": [
    "#RFM is a method that helps you analyze and understand your customers based on their score on each of these three factors: \n",
    "#Recency, Frequency, and Monetary Value"
   ]
  },
  {
   "cell_type": "markdown",
   "id": "f556245c",
   "metadata": {},
   "source": [
    "❓ Can you summarize what each metric measures in one sentence?"
   ]
  },
  {
   "cell_type": "code",
   "execution_count": null,
   "id": "bfa42146",
   "metadata": {},
   "outputs": [],
   "source": [
    "#Recency : how recently\n",
    "#Frequency: with what frequency\n",
    "#Monetary Value: what value did they buy"
   ]
  },
  {
   "cell_type": "markdown",
   "id": "98be1bfe",
   "metadata": {},
   "source": [
    "❓ What data / or type of data do you need for each metric ? "
   ]
  },
  {
   "cell_type": "code",
   "execution_count": null,
   "id": "257cfa02",
   "metadata": {},
   "outputs": [],
   "source": [
    "#Recency: customer_unique_id / order_purchase_timestamp / \n",
    "#Frequency: customer_unique_id / order_id / order_purchase_timestamp\n",
    "#Monetary Value: customer_unique_id / payment_value / order_purchase_timestamp"
   ]
  },
  {
   "cell_type": "markdown",
   "id": "40dc1822",
   "metadata": {},
   "source": [
    "Let's explore the dataset!"
   ]
  },
  {
   "cell_type": "markdown",
   "id": "digital-cycling",
   "metadata": {},
   "source": [
    "# Exploratory Data Analysis"
   ]
  },
  {
   "cell_type": "markdown",
   "id": "9fe4d6d2",
   "metadata": {},
   "source": [
    "Load the dataset and start an Exploratory Data Analysis"
   ]
  },
  {
   "cell_type": "code",
   "execution_count": 1,
   "id": "6086548b",
   "metadata": {},
   "outputs": [],
   "source": [
    "import pandas as pd "
   ]
  },
  {
   "cell_type": "code",
   "execution_count": 39,
   "id": "1caf4ef5",
   "metadata": {
    "ExecuteTime": {
     "end_time": "2021-10-03T14:07:52.111600Z",
     "start_time": "2021-10-03T14:07:51.598182Z"
    }
   },
   "outputs": [
    {
     "data": {
      "text/html": [
       "<div>\n",
       "<style scoped>\n",
       "    .dataframe tbody tr th:only-of-type {\n",
       "        vertical-align: middle;\n",
       "    }\n",
       "\n",
       "    .dataframe tbody tr th {\n",
       "        vertical-align: top;\n",
       "    }\n",
       "\n",
       "    .dataframe thead th {\n",
       "        text-align: right;\n",
       "    }\n",
       "</style>\n",
       "<table border=\"1\" class=\"dataframe\">\n",
       "  <thead>\n",
       "    <tr style=\"text-align: right;\">\n",
       "      <th></th>\n",
       "      <th>order_id</th>\n",
       "      <th>order_status</th>\n",
       "      <th>order_purchase_timestamp</th>\n",
       "      <th>order_delivered_customer_date</th>\n",
       "      <th>payment_type</th>\n",
       "      <th>payment_installments</th>\n",
       "      <th>payment_value</th>\n",
       "      <th>review_score</th>\n",
       "      <th>customer_unique_id</th>\n",
       "      <th>customer_zip_code_prefix</th>\n",
       "      <th>customer_city</th>\n",
       "      <th>customer_state</th>\n",
       "      <th>product_category_name_english</th>\n",
       "    </tr>\n",
       "  </thead>\n",
       "  <tbody>\n",
       "    <tr>\n",
       "      <th>0</th>\n",
       "      <td>e481f51cbdc54678b7cc49136f2d6af7</td>\n",
       "      <td>delivered</td>\n",
       "      <td>2017-10-02 10:56:33</td>\n",
       "      <td>2017-10-10 21:25:13</td>\n",
       "      <td>credit_card</td>\n",
       "      <td>1.0</td>\n",
       "      <td>18.12</td>\n",
       "      <td>4</td>\n",
       "      <td>7c396fd4830fd04220f754e42b4e5bff</td>\n",
       "      <td>3149</td>\n",
       "      <td>sao paulo</td>\n",
       "      <td>SP</td>\n",
       "      <td>housewares</td>\n",
       "    </tr>\n",
       "    <tr>\n",
       "      <th>1</th>\n",
       "      <td>e481f51cbdc54678b7cc49136f2d6af7</td>\n",
       "      <td>delivered</td>\n",
       "      <td>2017-10-02 10:56:33</td>\n",
       "      <td>2017-10-10 21:25:13</td>\n",
       "      <td>voucher</td>\n",
       "      <td>1.0</td>\n",
       "      <td>2.00</td>\n",
       "      <td>4</td>\n",
       "      <td>7c396fd4830fd04220f754e42b4e5bff</td>\n",
       "      <td>3149</td>\n",
       "      <td>sao paulo</td>\n",
       "      <td>SP</td>\n",
       "      <td>housewares</td>\n",
       "    </tr>\n",
       "    <tr>\n",
       "      <th>2</th>\n",
       "      <td>e481f51cbdc54678b7cc49136f2d6af7</td>\n",
       "      <td>delivered</td>\n",
       "      <td>2017-10-02 10:56:33</td>\n",
       "      <td>2017-10-10 21:25:13</td>\n",
       "      <td>voucher</td>\n",
       "      <td>1.0</td>\n",
       "      <td>18.59</td>\n",
       "      <td>4</td>\n",
       "      <td>7c396fd4830fd04220f754e42b4e5bff</td>\n",
       "      <td>3149</td>\n",
       "      <td>sao paulo</td>\n",
       "      <td>SP</td>\n",
       "      <td>housewares</td>\n",
       "    </tr>\n",
       "    <tr>\n",
       "      <th>3</th>\n",
       "      <td>53cdb2fc8bc7dce0b6741e2150273451</td>\n",
       "      <td>delivered</td>\n",
       "      <td>2018-07-24 20:41:37</td>\n",
       "      <td>2018-08-07 15:27:45</td>\n",
       "      <td>boleto</td>\n",
       "      <td>1.0</td>\n",
       "      <td>141.46</td>\n",
       "      <td>4</td>\n",
       "      <td>af07308b275d755c9edb36a90c618231</td>\n",
       "      <td>47813</td>\n",
       "      <td>barreiras</td>\n",
       "      <td>BA</td>\n",
       "      <td>perfumery</td>\n",
       "    </tr>\n",
       "    <tr>\n",
       "      <th>4</th>\n",
       "      <td>47770eb9100c2d0c44946d9cf07ec65d</td>\n",
       "      <td>delivered</td>\n",
       "      <td>2018-08-08 08:38:49</td>\n",
       "      <td>2018-08-17 18:06:29</td>\n",
       "      <td>credit_card</td>\n",
       "      <td>3.0</td>\n",
       "      <td>179.12</td>\n",
       "      <td>5</td>\n",
       "      <td>3a653a41f6f9fc3d2a113cf8398680e8</td>\n",
       "      <td>75265</td>\n",
       "      <td>vianopolis</td>\n",
       "      <td>GO</td>\n",
       "      <td>auto</td>\n",
       "    </tr>\n",
       "  </tbody>\n",
       "</table>\n",
       "</div>"
      ],
      "text/plain": [
       "                           order_id order_status order_purchase_timestamp  \\\n",
       "0  e481f51cbdc54678b7cc49136f2d6af7    delivered      2017-10-02 10:56:33   \n",
       "1  e481f51cbdc54678b7cc49136f2d6af7    delivered      2017-10-02 10:56:33   \n",
       "2  e481f51cbdc54678b7cc49136f2d6af7    delivered      2017-10-02 10:56:33   \n",
       "3  53cdb2fc8bc7dce0b6741e2150273451    delivered      2018-07-24 20:41:37   \n",
       "4  47770eb9100c2d0c44946d9cf07ec65d    delivered      2018-08-08 08:38:49   \n",
       "\n",
       "  order_delivered_customer_date payment_type  payment_installments  \\\n",
       "0           2017-10-10 21:25:13  credit_card                   1.0   \n",
       "1           2017-10-10 21:25:13      voucher                   1.0   \n",
       "2           2017-10-10 21:25:13      voucher                   1.0   \n",
       "3           2018-08-07 15:27:45       boleto                   1.0   \n",
       "4           2018-08-17 18:06:29  credit_card                   3.0   \n",
       "\n",
       "   payment_value  review_score                customer_unique_id  \\\n",
       "0          18.12             4  7c396fd4830fd04220f754e42b4e5bff   \n",
       "1           2.00             4  7c396fd4830fd04220f754e42b4e5bff   \n",
       "2          18.59             4  7c396fd4830fd04220f754e42b4e5bff   \n",
       "3         141.46             4  af07308b275d755c9edb36a90c618231   \n",
       "4         179.12             5  3a653a41f6f9fc3d2a113cf8398680e8   \n",
       "\n",
       "   customer_zip_code_prefix customer_city customer_state  \\\n",
       "0                      3149     sao paulo             SP   \n",
       "1                      3149     sao paulo             SP   \n",
       "2                      3149     sao paulo             SP   \n",
       "3                     47813     barreiras             BA   \n",
       "4                     75265    vianopolis             GO   \n",
       "\n",
       "  product_category_name_english  \n",
       "0                    housewares  \n",
       "1                    housewares  \n",
       "2                    housewares  \n",
       "3                     perfumery  \n",
       "4                          auto  "
      ]
     },
     "execution_count": 39,
     "metadata": {},
     "output_type": "execute_result"
    }
   ],
   "source": [
    "df = pd.read_csv('C:/Users/User/Desktop/Analyse de client/db_customers.csv')\n",
    "df.head()"
   ]
  },
  {
   "cell_type": "code",
   "execution_count": 9,
   "id": "27db018f",
   "metadata": {},
   "outputs": [
    {
     "data": {
      "text/plain": [
       "(105383, 13)"
      ]
     },
     "execution_count": 9,
     "metadata": {},
     "output_type": "execute_result"
    }
   ],
   "source": [
    "df.shape"
   ]
  },
  {
   "cell_type": "code",
   "execution_count": 6,
   "id": "bc31f974",
   "metadata": {},
   "outputs": [
    {
     "name": "stdout",
     "output_type": "stream",
     "text": [
      "<class 'pandas.core.frame.DataFrame'>\n",
      "RangeIndex: 105383 entries, 0 to 105382\n",
      "Data columns (total 13 columns):\n",
      " #   Column                         Non-Null Count   Dtype  \n",
      "---  ------                         --------------   -----  \n",
      " 0   order_id                       105383 non-null  object \n",
      " 1   order_status                   105383 non-null  object \n",
      " 2   order_purchase_timestamp       105383 non-null  object \n",
      " 3   order_delivered_customer_date  102224 non-null  object \n",
      " 4   payment_type                   105382 non-null  object \n",
      " 5   payment_installments           105382 non-null  float64\n",
      " 6   payment_value                  105382 non-null  float64\n",
      " 7   review_score                   105383 non-null  int64  \n",
      " 8   customer_unique_id             105383 non-null  object \n",
      " 9   customer_zip_code_prefix       105383 non-null  int64  \n",
      " 10  customer_city                  105383 non-null  object \n",
      " 11  customer_state                 105383 non-null  object \n",
      " 12  product_category_name_english  102973 non-null  object \n",
      "dtypes: float64(2), int64(2), object(9)\n",
      "memory usage: 10.5+ MB\n"
     ]
    }
   ],
   "source": [
    "df.info()"
   ]
  },
  {
   "cell_type": "markdown",
   "id": "7a1219f8",
   "metadata": {},
   "source": [
    "❓ Which features should be formated in datetime ? \n",
    "Convert them"
   ]
  },
  {
   "cell_type": "code",
   "execution_count": 40,
   "id": "57a528fd",
   "metadata": {
    "ExecuteTime": {
     "end_time": "2021-10-03T14:07:52.225702Z",
     "start_time": "2021-10-03T14:07:52.135148Z"
    }
   },
   "outputs": [],
   "source": [
    "#Recence \n",
    "from datetime import datetime\n",
    "df['order_purchase_timestamp'] = df['order_purchase_timestamp'].apply(pd.to_datetime)"
   ]
  },
  {
   "cell_type": "code",
   "execution_count": 41,
   "id": "813e1ffe",
   "metadata": {},
   "outputs": [],
   "source": [
    "df['order_delivered_customer_date'] = df['order_delivered_customer_date'].apply(pd.to_datetime)"
   ]
  },
  {
   "cell_type": "code",
   "execution_count": 42,
   "id": "eaef5a94",
   "metadata": {},
   "outputs": [
    {
     "name": "stdout",
     "output_type": "stream",
     "text": [
      "<class 'pandas.core.frame.DataFrame'>\n",
      "RangeIndex: 105383 entries, 0 to 105382\n",
      "Data columns (total 13 columns):\n",
      " #   Column                         Non-Null Count   Dtype         \n",
      "---  ------                         --------------   -----         \n",
      " 0   order_id                       105383 non-null  object        \n",
      " 1   order_status                   105383 non-null  object        \n",
      " 2   order_purchase_timestamp       105383 non-null  datetime64[ns]\n",
      " 3   order_delivered_customer_date  102224 non-null  datetime64[ns]\n",
      " 4   payment_type                   105382 non-null  object        \n",
      " 5   payment_installments           105382 non-null  float64       \n",
      " 6   payment_value                  105382 non-null  float64       \n",
      " 7   review_score                   105383 non-null  int64         \n",
      " 8   customer_unique_id             105383 non-null  object        \n",
      " 9   customer_zip_code_prefix       105383 non-null  int64         \n",
      " 10  customer_city                  105383 non-null  object        \n",
      " 11  customer_state                 105383 non-null  object        \n",
      " 12  product_category_name_english  102973 non-null  object        \n",
      "dtypes: datetime64[ns](2), float64(2), int64(2), object(7)\n",
      "memory usage: 10.5+ MB\n"
     ]
    }
   ],
   "source": [
    "df.info()"
   ]
  },
  {
   "cell_type": "code",
   "execution_count": 43,
   "id": "c6c946e9",
   "metadata": {},
   "outputs": [
    {
     "data": {
      "text/html": [
       "<div>\n",
       "<style scoped>\n",
       "    .dataframe tbody tr th:only-of-type {\n",
       "        vertical-align: middle;\n",
       "    }\n",
       "\n",
       "    .dataframe tbody tr th {\n",
       "        vertical-align: top;\n",
       "    }\n",
       "\n",
       "    .dataframe thead th {\n",
       "        text-align: right;\n",
       "    }\n",
       "</style>\n",
       "<table border=\"1\" class=\"dataframe\">\n",
       "  <thead>\n",
       "    <tr style=\"text-align: right;\">\n",
       "      <th></th>\n",
       "      <th>order_id</th>\n",
       "      <th>order_status</th>\n",
       "      <th>order_purchase_timestamp</th>\n",
       "      <th>order_delivered_customer_date</th>\n",
       "      <th>payment_type</th>\n",
       "      <th>payment_installments</th>\n",
       "      <th>payment_value</th>\n",
       "      <th>review_score</th>\n",
       "      <th>customer_unique_id</th>\n",
       "      <th>customer_zip_code_prefix</th>\n",
       "      <th>customer_city</th>\n",
       "      <th>customer_state</th>\n",
       "      <th>product_category_name_english</th>\n",
       "    </tr>\n",
       "  </thead>\n",
       "  <tbody>\n",
       "    <tr>\n",
       "      <th>0</th>\n",
       "      <td>e481f51cbdc54678b7cc49136f2d6af7</td>\n",
       "      <td>delivered</td>\n",
       "      <td>2017-10-02 10:56:33</td>\n",
       "      <td>2017-10-10 21:25:13</td>\n",
       "      <td>credit_card</td>\n",
       "      <td>1.0</td>\n",
       "      <td>18.12</td>\n",
       "      <td>4</td>\n",
       "      <td>7c396fd4830fd04220f754e42b4e5bff</td>\n",
       "      <td>3149</td>\n",
       "      <td>sao paulo</td>\n",
       "      <td>SP</td>\n",
       "      <td>housewares</td>\n",
       "    </tr>\n",
       "    <tr>\n",
       "      <th>1</th>\n",
       "      <td>e481f51cbdc54678b7cc49136f2d6af7</td>\n",
       "      <td>delivered</td>\n",
       "      <td>2017-10-02 10:56:33</td>\n",
       "      <td>2017-10-10 21:25:13</td>\n",
       "      <td>voucher</td>\n",
       "      <td>1.0</td>\n",
       "      <td>2.00</td>\n",
       "      <td>4</td>\n",
       "      <td>7c396fd4830fd04220f754e42b4e5bff</td>\n",
       "      <td>3149</td>\n",
       "      <td>sao paulo</td>\n",
       "      <td>SP</td>\n",
       "      <td>housewares</td>\n",
       "    </tr>\n",
       "    <tr>\n",
       "      <th>2</th>\n",
       "      <td>e481f51cbdc54678b7cc49136f2d6af7</td>\n",
       "      <td>delivered</td>\n",
       "      <td>2017-10-02 10:56:33</td>\n",
       "      <td>2017-10-10 21:25:13</td>\n",
       "      <td>voucher</td>\n",
       "      <td>1.0</td>\n",
       "      <td>18.59</td>\n",
       "      <td>4</td>\n",
       "      <td>7c396fd4830fd04220f754e42b4e5bff</td>\n",
       "      <td>3149</td>\n",
       "      <td>sao paulo</td>\n",
       "      <td>SP</td>\n",
       "      <td>housewares</td>\n",
       "    </tr>\n",
       "    <tr>\n",
       "      <th>3</th>\n",
       "      <td>53cdb2fc8bc7dce0b6741e2150273451</td>\n",
       "      <td>delivered</td>\n",
       "      <td>2018-07-24 20:41:37</td>\n",
       "      <td>2018-08-07 15:27:45</td>\n",
       "      <td>boleto</td>\n",
       "      <td>1.0</td>\n",
       "      <td>141.46</td>\n",
       "      <td>4</td>\n",
       "      <td>af07308b275d755c9edb36a90c618231</td>\n",
       "      <td>47813</td>\n",
       "      <td>barreiras</td>\n",
       "      <td>BA</td>\n",
       "      <td>perfumery</td>\n",
       "    </tr>\n",
       "    <tr>\n",
       "      <th>4</th>\n",
       "      <td>47770eb9100c2d0c44946d9cf07ec65d</td>\n",
       "      <td>delivered</td>\n",
       "      <td>2018-08-08 08:38:49</td>\n",
       "      <td>2018-08-17 18:06:29</td>\n",
       "      <td>credit_card</td>\n",
       "      <td>3.0</td>\n",
       "      <td>179.12</td>\n",
       "      <td>5</td>\n",
       "      <td>3a653a41f6f9fc3d2a113cf8398680e8</td>\n",
       "      <td>75265</td>\n",
       "      <td>vianopolis</td>\n",
       "      <td>GO</td>\n",
       "      <td>auto</td>\n",
       "    </tr>\n",
       "  </tbody>\n",
       "</table>\n",
       "</div>"
      ],
      "text/plain": [
       "                           order_id order_status order_purchase_timestamp  \\\n",
       "0  e481f51cbdc54678b7cc49136f2d6af7    delivered      2017-10-02 10:56:33   \n",
       "1  e481f51cbdc54678b7cc49136f2d6af7    delivered      2017-10-02 10:56:33   \n",
       "2  e481f51cbdc54678b7cc49136f2d6af7    delivered      2017-10-02 10:56:33   \n",
       "3  53cdb2fc8bc7dce0b6741e2150273451    delivered      2018-07-24 20:41:37   \n",
       "4  47770eb9100c2d0c44946d9cf07ec65d    delivered      2018-08-08 08:38:49   \n",
       "\n",
       "  order_delivered_customer_date payment_type  payment_installments  \\\n",
       "0           2017-10-10 21:25:13  credit_card                   1.0   \n",
       "1           2017-10-10 21:25:13      voucher                   1.0   \n",
       "2           2017-10-10 21:25:13      voucher                   1.0   \n",
       "3           2018-08-07 15:27:45       boleto                   1.0   \n",
       "4           2018-08-17 18:06:29  credit_card                   3.0   \n",
       "\n",
       "   payment_value  review_score                customer_unique_id  \\\n",
       "0          18.12             4  7c396fd4830fd04220f754e42b4e5bff   \n",
       "1           2.00             4  7c396fd4830fd04220f754e42b4e5bff   \n",
       "2          18.59             4  7c396fd4830fd04220f754e42b4e5bff   \n",
       "3         141.46             4  af07308b275d755c9edb36a90c618231   \n",
       "4         179.12             5  3a653a41f6f9fc3d2a113cf8398680e8   \n",
       "\n",
       "   customer_zip_code_prefix customer_city customer_state  \\\n",
       "0                      3149     sao paulo             SP   \n",
       "1                      3149     sao paulo             SP   \n",
       "2                      3149     sao paulo             SP   \n",
       "3                     47813     barreiras             BA   \n",
       "4                     75265    vianopolis             GO   \n",
       "\n",
       "  product_category_name_english  \n",
       "0                    housewares  \n",
       "1                    housewares  \n",
       "2                    housewares  \n",
       "3                     perfumery  \n",
       "4                          auto  "
      ]
     },
     "execution_count": 43,
     "metadata": {},
     "output_type": "execute_result"
    }
   ],
   "source": [
    "df.head()"
   ]
  },
  {
   "cell_type": "markdown",
   "id": "b51c5e36",
   "metadata": {},
   "source": [
    "❓ Which features are Categorical ? List the unique values on these features."
   ]
  },
  {
   "cell_type": "code",
   "execution_count": 18,
   "id": "aff4f5cb",
   "metadata": {},
   "outputs": [
    {
     "data": {
      "text/plain": [
       "array(['sao paulo', 'barreiras', 'vianopolis', ..., 'messias targino',\n",
       "       'campo do tenente', 'nova vicosa'], dtype=object)"
      ]
     },
     "execution_count": 18,
     "metadata": {},
     "output_type": "execute_result"
    }
   ],
   "source": [
    "df[\"customer_city\"].unique() "
   ]
  },
  {
   "cell_type": "code",
   "execution_count": 19,
   "id": "93f5a245",
   "metadata": {},
   "outputs": [
    {
     "data": {
      "text/plain": [
       "array(['SP', 'BA', 'GO', 'RN', 'PR', 'RS', 'RJ', 'MG', 'SC', 'RR', 'PE',\n",
       "       'TO', 'CE', 'DF', 'SE', 'MT', 'PB', 'PA', 'RO', 'ES', 'AP', 'MS',\n",
       "       'MA', 'PI', 'AL', 'AC', 'AM'], dtype=object)"
      ]
     },
     "execution_count": 19,
     "metadata": {},
     "output_type": "execute_result"
    }
   ],
   "source": [
    "df[\"customer_state\"].unique() "
   ]
  },
  {
   "cell_type": "code",
   "execution_count": 17,
   "id": "55d45b20",
   "metadata": {},
   "outputs": [
    {
     "data": {
      "text/plain": [
       "array(['housewares', 'perfumery', 'auto', 'pet_shop', 'stationery', nan,\n",
       "       'furniture_decor', 'office_furniture', 'garden_tools',\n",
       "       'computers_accessories', 'bed_bath_table', 'toys',\n",
       "       'construction_tools_construction', 'telephony', 'health_beauty',\n",
       "       'electronics', 'baby', 'cool_stuff', 'watches_gifts',\n",
       "       'air_conditioning', 'sports_leisure', 'books_general_interest',\n",
       "       'small_appliances', 'food', 'luggage_accessories',\n",
       "       'fashion_underwear_beach', 'christmas_supplies',\n",
       "       'fashion_bags_accessories', 'musical_instruments',\n",
       "       'construction_tools_lights', 'books_technical',\n",
       "       'costruction_tools_garden', 'home_appliances', 'market_place',\n",
       "       'agro_industry_and_commerce', 'party_supplies', 'home_confort',\n",
       "       'cds_dvds_musicals', 'industry_commerce_and_business',\n",
       "       'consoles_games', 'furniture_bedroom', 'construction_tools_safety',\n",
       "       'fixed_telephony', 'drinks',\n",
       "       'kitchen_dining_laundry_garden_furniture', 'fashion_shoes',\n",
       "       'home_construction', 'audio', 'home_appliances_2',\n",
       "       'fashion_male_clothing', 'cine_photo', 'furniture_living_room',\n",
       "       'art', 'food_drink', 'tablets_printing_image', 'fashion_sport',\n",
       "       'la_cuisine', 'flowers', 'computers', 'home_comfort_2',\n",
       "       'small_appliances_home_oven_and_coffee', 'dvds_blu_ray',\n",
       "       'costruction_tools_tools', 'fashio_female_clothing',\n",
       "       'furniture_mattress_and_upholstery', 'signaling_and_security',\n",
       "       'diapers_and_hygiene', 'books_imported',\n",
       "       'fashion_childrens_clothes', 'music', 'arts_and_craftmanship',\n",
       "       'security_and_services'], dtype=object)"
      ]
     },
     "execution_count": 17,
     "metadata": {},
     "output_type": "execute_result"
    }
   ],
   "source": [
    "df[\"product_category_name_english\"].unique() "
   ]
  },
  {
   "cell_type": "code",
   "execution_count": 15,
   "id": "817fa67a",
   "metadata": {},
   "outputs": [
    {
     "data": {
      "text/plain": [
       "credit_card    77844\n",
       "boleto         20066\n",
       "voucher         5923\n",
       "debit_card      1546\n",
       "not_defined        3\n",
       "Name: payment_type, dtype: int64"
      ]
     },
     "execution_count": 15,
     "metadata": {},
     "output_type": "execute_result"
    }
   ],
   "source": [
    "df[\"payment_type\"].value_counts()"
   ]
  },
  {
   "cell_type": "code",
   "execution_count": 8,
   "id": "4f134505",
   "metadata": {},
   "outputs": [
    {
     "data": {
      "text/plain": [
       "array(['delivered', 'invoiced', 'shipped', 'processing', 'unavailable',\n",
       "       'canceled', 'created', 'approved'], dtype=object)"
      ]
     },
     "execution_count": 8,
     "metadata": {},
     "output_type": "execute_result"
    }
   ],
   "source": [
    "df['order_status'].unique()"
   ]
  },
  {
   "cell_type": "code",
   "execution_count": 14,
   "id": "3dfa4e37",
   "metadata": {},
   "outputs": [
    {
     "data": {
      "text/plain": [
       "delivered      102225\n",
       "shipped          1180\n",
       "canceled          669\n",
       "unavailable       651\n",
       "invoiced          330\n",
       "processing        321\n",
       "created             5\n",
       "approved            2\n",
       "Name: order_status, dtype: int64"
      ]
     },
     "execution_count": 14,
     "metadata": {},
     "output_type": "execute_result"
    }
   ],
   "source": [
    "df['order_status'].value_counts()"
   ]
  },
  {
   "cell_type": "markdown",
   "id": "ea7199d9",
   "metadata": {},
   "source": [
    "❓ Check for missing values. What do you notice ? \n"
   ]
  },
  {
   "cell_type": "code",
   "execution_count": 13,
   "id": "19eef9bd",
   "metadata": {},
   "outputs": [
    {
     "data": {
      "text/plain": [
       "order_id                            0\n",
       "order_status                        0\n",
       "order_purchase_timestamp            0\n",
       "order_delivered_customer_date    3159\n",
       "payment_type                        1\n",
       "payment_installments                1\n",
       "payment_value                       1\n",
       "review_score                        0\n",
       "customer_unique_id                  0\n",
       "customer_zip_code_prefix            0\n",
       "customer_city                       0\n",
       "customer_state                      0\n",
       "product_category_name_english    2410\n",
       "dtype: int64"
      ]
     },
     "execution_count": 13,
     "metadata": {},
     "output_type": "execute_result"
    }
   ],
   "source": [
    "df.isnull().sum()"
   ]
  },
  {
   "cell_type": "markdown",
   "id": "c20dae84",
   "metadata": {},
   "source": [
    "❓ Can you find an explanation for the missing `order_delivered_customer_date` ? \n",
    "(hint : Check for non delivered orders)"
   ]
  },
  {
   "cell_type": "code",
   "execution_count": null,
   "id": "1e298334",
   "metadata": {},
   "outputs": [],
   "source": [
    "# 1 not paid yet\n",
    "# 3158 not delivered yet "
   ]
  },
  {
   "cell_type": "markdown",
   "id": "8fda8f88",
   "metadata": {},
   "source": [
    "❓ What are the proportions of each `order_status` ? "
   ]
  },
  {
   "cell_type": "code",
   "execution_count": 21,
   "id": "fbf2835b",
   "metadata": {},
   "outputs": [
    {
     "data": {
      "text/plain": [
       "delivered      0.970033\n",
       "shipped        0.011197\n",
       "canceled       0.006348\n",
       "unavailable    0.006177\n",
       "invoiced       0.003131\n",
       "processing     0.003046\n",
       "created        0.000047\n",
       "approved       0.000019\n",
       "Name: order_status, dtype: float64"
      ]
     },
     "execution_count": 21,
     "metadata": {},
     "output_type": "execute_result"
    }
   ],
   "source": [
    "df['order_status'].value_counts(normalize=True)"
   ]
  },
  {
   "cell_type": "markdown",
   "id": "ec529161",
   "metadata": {},
   "source": [
    "❓ Which `order_status` do you think should be removed from the analysis"
   ]
  },
  {
   "cell_type": "code",
   "execution_count": null,
   "id": "08091a60",
   "metadata": {},
   "outputs": [],
   "source": [
    "# Removed : canceled  unavailable  invoiced   processing  created   approved  \n",
    "# We keep 98% of data, delivered and shipped "
   ]
  },
  {
   "cell_type": "code",
   "execution_count": 48,
   "id": "d5cb3734",
   "metadata": {},
   "outputs": [
    {
     "data": {
      "text/plain": [
       "delivered    102225\n",
       "shipped        1180\n",
       "Name: order_status, dtype: int64"
      ]
     },
     "execution_count": 48,
     "metadata": {},
     "output_type": "execute_result"
    }
   ],
   "source": [
    "df_new = df[(df['order_status'] != \"delivered\") & (df['order_status'] != \"shipped\")].index\n",
    "df.drop(df_new , inplace=True)\n",
    "df['order_status'].value_counts()"
   ]
  },
  {
   "cell_type": "markdown",
   "id": "ee08d779",
   "metadata": {},
   "source": [
    "❓ What feature would you choose in the e-commerce dataset provided? "
   ]
  },
  {
   "cell_type": "code",
   "execution_count": null,
   "id": "cd567260",
   "metadata": {},
   "outputs": [],
   "source": [
    "#Recency: customer_unique_id / order_purchase_timestamp / \n",
    "#Frequency: customer_unique_id / order_id / order_purchase_timestamp\n",
    "#Monetary Value: customer_unique_id / payment_value / order_purchase_timestamp\n",
    "\n",
    "# Features to keep : order_id / customer_unique_id  / order_purchase_timestamp / payment_value "
   ]
  },
  {
   "cell_type": "code",
   "execution_count": 50,
   "id": "2761a0a5",
   "metadata": {},
   "outputs": [
    {
     "data": {
      "text/html": [
       "<div>\n",
       "<style scoped>\n",
       "    .dataframe tbody tr th:only-of-type {\n",
       "        vertical-align: middle;\n",
       "    }\n",
       "\n",
       "    .dataframe tbody tr th {\n",
       "        vertical-align: top;\n",
       "    }\n",
       "\n",
       "    .dataframe thead th {\n",
       "        text-align: right;\n",
       "    }\n",
       "</style>\n",
       "<table border=\"1\" class=\"dataframe\">\n",
       "  <thead>\n",
       "    <tr style=\"text-align: right;\">\n",
       "      <th></th>\n",
       "      <th>customer_unique_id</th>\n",
       "      <th>order_id</th>\n",
       "      <th>order_purchase_timestamp</th>\n",
       "      <th>payment_value</th>\n",
       "    </tr>\n",
       "  </thead>\n",
       "  <tbody>\n",
       "    <tr>\n",
       "      <th>0</th>\n",
       "      <td>7c396fd4830fd04220f754e42b4e5bff</td>\n",
       "      <td>e481f51cbdc54678b7cc49136f2d6af7</td>\n",
       "      <td>2017-10-02 10:56:33</td>\n",
       "      <td>18.12</td>\n",
       "    </tr>\n",
       "    <tr>\n",
       "      <th>1</th>\n",
       "      <td>7c396fd4830fd04220f754e42b4e5bff</td>\n",
       "      <td>e481f51cbdc54678b7cc49136f2d6af7</td>\n",
       "      <td>2017-10-02 10:56:33</td>\n",
       "      <td>2.00</td>\n",
       "    </tr>\n",
       "    <tr>\n",
       "      <th>2</th>\n",
       "      <td>7c396fd4830fd04220f754e42b4e5bff</td>\n",
       "      <td>e481f51cbdc54678b7cc49136f2d6af7</td>\n",
       "      <td>2017-10-02 10:56:33</td>\n",
       "      <td>18.59</td>\n",
       "    </tr>\n",
       "    <tr>\n",
       "      <th>3</th>\n",
       "      <td>af07308b275d755c9edb36a90c618231</td>\n",
       "      <td>53cdb2fc8bc7dce0b6741e2150273451</td>\n",
       "      <td>2018-07-24 20:41:37</td>\n",
       "      <td>141.46</td>\n",
       "    </tr>\n",
       "    <tr>\n",
       "      <th>4</th>\n",
       "      <td>3a653a41f6f9fc3d2a113cf8398680e8</td>\n",
       "      <td>47770eb9100c2d0c44946d9cf07ec65d</td>\n",
       "      <td>2018-08-08 08:38:49</td>\n",
       "      <td>179.12</td>\n",
       "    </tr>\n",
       "  </tbody>\n",
       "</table>\n",
       "</div>"
      ],
      "text/plain": [
       "                 customer_unique_id                          order_id  \\\n",
       "0  7c396fd4830fd04220f754e42b4e5bff  e481f51cbdc54678b7cc49136f2d6af7   \n",
       "1  7c396fd4830fd04220f754e42b4e5bff  e481f51cbdc54678b7cc49136f2d6af7   \n",
       "2  7c396fd4830fd04220f754e42b4e5bff  e481f51cbdc54678b7cc49136f2d6af7   \n",
       "3  af07308b275d755c9edb36a90c618231  53cdb2fc8bc7dce0b6741e2150273451   \n",
       "4  3a653a41f6f9fc3d2a113cf8398680e8  47770eb9100c2d0c44946d9cf07ec65d   \n",
       "\n",
       "  order_purchase_timestamp  payment_value  \n",
       "0      2017-10-02 10:56:33          18.12  \n",
       "1      2017-10-02 10:56:33           2.00  \n",
       "2      2017-10-02 10:56:33          18.59  \n",
       "3      2018-07-24 20:41:37         141.46  \n",
       "4      2018-08-08 08:38:49         179.12  "
      ]
     },
     "execution_count": 50,
     "metadata": {},
     "output_type": "execute_result"
    }
   ],
   "source": [
    "df_RFM = df[[\"customer_unique_id\", \"order_id\", \"order_purchase_timestamp\", \"payment_value\" ]]\n",
    "df_RFM.head()"
   ]
  },
  {
   "cell_type": "code",
   "execution_count": 49,
   "id": "8961a988",
   "metadata": {},
   "outputs": [
    {
     "name": "stdout",
     "output_type": "stream",
     "text": [
      "<class 'pandas.core.frame.DataFrame'>\n",
      "Int64Index: 103405 entries, 0 to 105382\n",
      "Data columns (total 13 columns):\n",
      " #   Column                         Non-Null Count   Dtype         \n",
      "---  ------                         --------------   -----         \n",
      " 0   order_id                       103405 non-null  object        \n",
      " 1   order_status                   103405 non-null  object        \n",
      " 2   order_purchase_timestamp       103405 non-null  datetime64[ns]\n",
      " 3   order_delivered_customer_date  102217 non-null  datetime64[ns]\n",
      " 4   payment_type                   103404 non-null  object        \n",
      " 5   payment_installments           103404 non-null  float64       \n",
      " 6   payment_value                  103404 non-null  float64       \n",
      " 7   review_score                   103405 non-null  int64         \n",
      " 8   customer_unique_id             103405 non-null  object        \n",
      " 9   customer_zip_code_prefix       103405 non-null  int64         \n",
      " 10  customer_city                  103405 non-null  object        \n",
      " 11  customer_state                 103405 non-null  object        \n",
      " 12  product_category_name_english  101866 non-null  object        \n",
      "dtypes: datetime64[ns](2), float64(2), int64(2), object(7)\n",
      "memory usage: 15.1+ MB\n"
     ]
    }
   ],
   "source": [
    "df.info()"
   ]
  },
  {
   "cell_type": "markdown",
   "id": "15ef2508",
   "metadata": {},
   "source": [
    "❓ What method would you use to group the data? "
   ]
  },
  {
   "cell_type": "code",
   "execution_count": null,
   "id": "088b9274",
   "metadata": {},
   "outputs": [],
   "source": [
    "#groupby "
   ]
  },
  {
   "cell_type": "markdown",
   "id": "88b13787",
   "metadata": {},
   "source": [
    "❓ What feature would you use to group the data? "
   ]
  },
  {
   "cell_type": "code",
   "execution_count": null,
   "id": "ebcf4a86",
   "metadata": {},
   "outputs": [],
   "source": [
    "#customer_unique_id"
   ]
  },
  {
   "cell_type": "markdown",
   "id": "3e6e7dd2",
   "metadata": {
    "ExecuteTime": {
     "end_time": "2021-09-30T14:45:48.656723Z",
     "start_time": "2021-09-30T14:45:48.652125Z"
    }
   },
   "source": [
    "Group the data. (Hint: you can carry out the grouping one by one and then merge, or even better use the .agg method and get a robust grouping in one line of code)"
   ]
  },
  {
   "cell_type": "code",
   "execution_count": 69,
   "id": "2c358114",
   "metadata": {},
   "outputs": [
    {
     "data": {
      "text/html": [
       "<div>\n",
       "<style scoped>\n",
       "    .dataframe tbody tr th:only-of-type {\n",
       "        vertical-align: middle;\n",
       "    }\n",
       "\n",
       "    .dataframe tbody tr th {\n",
       "        vertical-align: top;\n",
       "    }\n",
       "\n",
       "    .dataframe thead th {\n",
       "        text-align: right;\n",
       "    }\n",
       "</style>\n",
       "<table border=\"1\" class=\"dataframe\">\n",
       "  <thead>\n",
       "    <tr style=\"text-align: right;\">\n",
       "      <th></th>\n",
       "      <th>order_purchase_timestamp</th>\n",
       "    </tr>\n",
       "    <tr>\n",
       "      <th>customer_unique_id</th>\n",
       "      <th></th>\n",
       "    </tr>\n",
       "  </thead>\n",
       "  <tbody>\n",
       "    <tr>\n",
       "      <th>0000366f3b9a7992bf8c76cfdf3221e2</th>\n",
       "      <td>2018-05-10 10:56:27</td>\n",
       "    </tr>\n",
       "    <tr>\n",
       "      <th>0000b849f77a49e4a4ce2b2a4ca5be3f</th>\n",
       "      <td>2018-05-07 11:11:27</td>\n",
       "    </tr>\n",
       "    <tr>\n",
       "      <th>0000f46a3911fa3c0805444483337064</th>\n",
       "      <td>2017-03-10 21:05:03</td>\n",
       "    </tr>\n",
       "    <tr>\n",
       "      <th>0000f6ccb0745a6a4b88665a16c9f078</th>\n",
       "      <td>2017-10-12 20:29:41</td>\n",
       "    </tr>\n",
       "    <tr>\n",
       "      <th>0004aac84e0df4da2b147fca70cf8255</th>\n",
       "      <td>2017-11-14 19:45:42</td>\n",
       "    </tr>\n",
       "  </tbody>\n",
       "</table>\n",
       "</div>"
      ],
      "text/plain": [
       "                                 order_purchase_timestamp\n",
       "customer_unique_id                                       \n",
       "0000366f3b9a7992bf8c76cfdf3221e2      2018-05-10 10:56:27\n",
       "0000b849f77a49e4a4ce2b2a4ca5be3f      2018-05-07 11:11:27\n",
       "0000f46a3911fa3c0805444483337064      2017-03-10 21:05:03\n",
       "0000f6ccb0745a6a4b88665a16c9f078      2017-10-12 20:29:41\n",
       "0004aac84e0df4da2b147fca70cf8255      2017-11-14 19:45:42"
      ]
     },
     "execution_count": 69,
     "metadata": {},
     "output_type": "execute_result"
    }
   ],
   "source": [
    "clients_group = df_RFM.groupby('customer_unique_id')[[\"order_purchase_timestamp\"]].max() \n",
    "clients_group.head()"
   ]
  },
  {
   "cell_type": "markdown",
   "id": "41ade656",
   "metadata": {},
   "source": [
    "What type of data is the R supposed to be? Is it in the right format? (Hint : investigate the difference between `datetime` and `timedelta`) "
   ]
  },
  {
   "cell_type": "code",
   "execution_count": null,
   "id": "7c9ddc4c",
   "metadata": {},
   "outputs": [],
   "source": [
    "#Timedelta operations on data "
   ]
  },
  {
   "cell_type": "code",
   "execution_count": 58,
   "id": "37ca7953",
   "metadata": {},
   "outputs": [],
   "source": [
    "from datetime import timedelta"
   ]
  },
  {
   "cell_type": "markdown",
   "id": "e9412e54",
   "metadata": {
    "ExecuteTime": {
     "end_time": "2021-09-30T17:12:07.784903Z",
     "start_time": "2021-09-30T17:12:07.774134Z"
    }
   },
   "source": [
    "So there is one more step to carry out before the data is ready : Calculate the recency base on the date of the purchase"
   ]
  },
  {
   "cell_type": "markdown",
   "id": "1d5c27fa",
   "metadata": {},
   "source": [
    "❓ What is the date of the least purchase?"
   ]
  },
  {
   "cell_type": "code",
   "execution_count": 63,
   "id": "7a483e98",
   "metadata": {},
   "outputs": [
    {
     "data": {
      "text/plain": [
       "Timestamp('2016-09-04 21:15:19')"
      ]
     },
     "execution_count": 63,
     "metadata": {},
     "output_type": "execute_result"
    }
   ],
   "source": [
    "date_least = min(df.order_purchase_timestamp)\n",
    "date_least"
   ]
  },
  {
   "cell_type": "markdown",
   "id": "2d623bbb",
   "metadata": {
    "ExecuteTime": {
     "end_time": "2021-09-30T17:14:26.599702Z",
     "start_time": "2021-09-30T17:14:26.592777Z"
    }
   },
   "source": [
    "❓What is the date of the most recent purchase?"
   ]
  },
  {
   "cell_type": "code",
   "execution_count": 51,
   "id": "4afe4d58",
   "metadata": {},
   "outputs": [
    {
     "data": {
      "text/plain": [
       "Timestamp('2018-09-03 09:06:57')"
      ]
     },
     "execution_count": 51,
     "metadata": {},
     "output_type": "execute_result"
    }
   ],
   "source": [
    "date_ref = max(df.order_purchase_timestamp)\n",
    "date_ref"
   ]
  },
  {
   "cell_type": "code",
   "execution_count": 53,
   "id": "4d0dedcb",
   "metadata": {},
   "outputs": [
    {
     "data": {
      "text/html": [
       "<div>\n",
       "<style scoped>\n",
       "    .dataframe tbody tr th:only-of-type {\n",
       "        vertical-align: middle;\n",
       "    }\n",
       "\n",
       "    .dataframe tbody tr th {\n",
       "        vertical-align: top;\n",
       "    }\n",
       "\n",
       "    .dataframe thead th {\n",
       "        text-align: right;\n",
       "    }\n",
       "</style>\n",
       "<table border=\"1\" class=\"dataframe\">\n",
       "  <thead>\n",
       "    <tr style=\"text-align: right;\">\n",
       "      <th></th>\n",
       "      <th>customer_unique_id</th>\n",
       "      <th>order_id</th>\n",
       "      <th>order_purchase_timestamp</th>\n",
       "      <th>payment_value</th>\n",
       "    </tr>\n",
       "  </thead>\n",
       "  <tbody>\n",
       "    <tr>\n",
       "      <th>0</th>\n",
       "      <td>7c396fd4830fd04220f754e42b4e5bff</td>\n",
       "      <td>e481f51cbdc54678b7cc49136f2d6af7</td>\n",
       "      <td>2017-10-02 10:56:33</td>\n",
       "      <td>18.12</td>\n",
       "    </tr>\n",
       "    <tr>\n",
       "      <th>1</th>\n",
       "      <td>7c396fd4830fd04220f754e42b4e5bff</td>\n",
       "      <td>e481f51cbdc54678b7cc49136f2d6af7</td>\n",
       "      <td>2017-10-02 10:56:33</td>\n",
       "      <td>2.00</td>\n",
       "    </tr>\n",
       "    <tr>\n",
       "      <th>2</th>\n",
       "      <td>7c396fd4830fd04220f754e42b4e5bff</td>\n",
       "      <td>e481f51cbdc54678b7cc49136f2d6af7</td>\n",
       "      <td>2017-10-02 10:56:33</td>\n",
       "      <td>18.59</td>\n",
       "    </tr>\n",
       "    <tr>\n",
       "      <th>3</th>\n",
       "      <td>af07308b275d755c9edb36a90c618231</td>\n",
       "      <td>53cdb2fc8bc7dce0b6741e2150273451</td>\n",
       "      <td>2018-07-24 20:41:37</td>\n",
       "      <td>141.46</td>\n",
       "    </tr>\n",
       "    <tr>\n",
       "      <th>4</th>\n",
       "      <td>3a653a41f6f9fc3d2a113cf8398680e8</td>\n",
       "      <td>47770eb9100c2d0c44946d9cf07ec65d</td>\n",
       "      <td>2018-08-08 08:38:49</td>\n",
       "      <td>179.12</td>\n",
       "    </tr>\n",
       "  </tbody>\n",
       "</table>\n",
       "</div>"
      ],
      "text/plain": [
       "                 customer_unique_id                          order_id  \\\n",
       "0  7c396fd4830fd04220f754e42b4e5bff  e481f51cbdc54678b7cc49136f2d6af7   \n",
       "1  7c396fd4830fd04220f754e42b4e5bff  e481f51cbdc54678b7cc49136f2d6af7   \n",
       "2  7c396fd4830fd04220f754e42b4e5bff  e481f51cbdc54678b7cc49136f2d6af7   \n",
       "3  af07308b275d755c9edb36a90c618231  53cdb2fc8bc7dce0b6741e2150273451   \n",
       "4  3a653a41f6f9fc3d2a113cf8398680e8  47770eb9100c2d0c44946d9cf07ec65d   \n",
       "\n",
       "  order_purchase_timestamp  payment_value  \n",
       "0      2017-10-02 10:56:33          18.12  \n",
       "1      2017-10-02 10:56:33           2.00  \n",
       "2      2017-10-02 10:56:33          18.59  \n",
       "3      2018-07-24 20:41:37         141.46  \n",
       "4      2018-08-08 08:38:49         179.12  "
      ]
     },
     "execution_count": 53,
     "metadata": {},
     "output_type": "execute_result"
    }
   ],
   "source": [
    "df_RFM.head()"
   ]
  },
  {
   "cell_type": "code",
   "execution_count": 70,
   "id": "63af7616",
   "metadata": {},
   "outputs": [
    {
     "data": {
      "text/html": [
       "<div>\n",
       "<style scoped>\n",
       "    .dataframe tbody tr th:only-of-type {\n",
       "        vertical-align: middle;\n",
       "    }\n",
       "\n",
       "    .dataframe tbody tr th {\n",
       "        vertical-align: top;\n",
       "    }\n",
       "\n",
       "    .dataframe thead th {\n",
       "        text-align: right;\n",
       "    }\n",
       "</style>\n",
       "<table border=\"1\" class=\"dataframe\">\n",
       "  <thead>\n",
       "    <tr style=\"text-align: right;\">\n",
       "      <th></th>\n",
       "      <th>order_purchase_timestamp</th>\n",
       "    </tr>\n",
       "    <tr>\n",
       "      <th>customer_unique_id</th>\n",
       "      <th></th>\n",
       "    </tr>\n",
       "  </thead>\n",
       "  <tbody>\n",
       "    <tr>\n",
       "      <th>0000366f3b9a7992bf8c76cfdf3221e2</th>\n",
       "      <td>2018-05-10 10:56:27</td>\n",
       "    </tr>\n",
       "    <tr>\n",
       "      <th>0000b849f77a49e4a4ce2b2a4ca5be3f</th>\n",
       "      <td>2018-05-07 11:11:27</td>\n",
       "    </tr>\n",
       "    <tr>\n",
       "      <th>0000f46a3911fa3c0805444483337064</th>\n",
       "      <td>2017-03-10 21:05:03</td>\n",
       "    </tr>\n",
       "    <tr>\n",
       "      <th>0000f6ccb0745a6a4b88665a16c9f078</th>\n",
       "      <td>2017-10-12 20:29:41</td>\n",
       "    </tr>\n",
       "    <tr>\n",
       "      <th>0004aac84e0df4da2b147fca70cf8255</th>\n",
       "      <td>2017-11-14 19:45:42</td>\n",
       "    </tr>\n",
       "  </tbody>\n",
       "</table>\n",
       "</div>"
      ],
      "text/plain": [
       "                                 order_purchase_timestamp\n",
       "customer_unique_id                                       \n",
       "0000366f3b9a7992bf8c76cfdf3221e2      2018-05-10 10:56:27\n",
       "0000b849f77a49e4a4ce2b2a4ca5be3f      2018-05-07 11:11:27\n",
       "0000f46a3911fa3c0805444483337064      2017-03-10 21:05:03\n",
       "0000f6ccb0745a6a4b88665a16c9f078      2017-10-12 20:29:41\n",
       "0004aac84e0df4da2b147fca70cf8255      2017-11-14 19:45:42"
      ]
     },
     "execution_count": 70,
     "metadata": {},
     "output_type": "execute_result"
    }
   ],
   "source": [
    "#clients_group = df_RFM.groupby('customer_unique_id')[[\"order_purchase_timestamp\"]].max() \n",
    "clients_group.head()"
   ]
  },
  {
   "cell_type": "code",
   "execution_count": 73,
   "id": "c3078de3",
   "metadata": {},
   "outputs": [],
   "source": [
    "recens_date = df['order_purchase_timestamp'].max() + timedelta(days=1)"
   ]
  },
  {
   "cell_type": "code",
   "execution_count": 74,
   "id": "52cb378a",
   "metadata": {},
   "outputs": [],
   "source": [
    "clients_group['Recency'] = clients_group.order_purchase_timestamp.apply(lambda x : (recens_date - x).days)"
   ]
  },
  {
   "cell_type": "code",
   "execution_count": 75,
   "id": "e28300d3",
   "metadata": {},
   "outputs": [
    {
     "data": {
      "text/html": [
       "<div>\n",
       "<style scoped>\n",
       "    .dataframe tbody tr th:only-of-type {\n",
       "        vertical-align: middle;\n",
       "    }\n",
       "\n",
       "    .dataframe tbody tr th {\n",
       "        vertical-align: top;\n",
       "    }\n",
       "\n",
       "    .dataframe thead th {\n",
       "        text-align: right;\n",
       "    }\n",
       "</style>\n",
       "<table border=\"1\" class=\"dataframe\">\n",
       "  <thead>\n",
       "    <tr style=\"text-align: right;\">\n",
       "      <th></th>\n",
       "      <th>order_purchase_timestamp</th>\n",
       "      <th>Recency</th>\n",
       "    </tr>\n",
       "    <tr>\n",
       "      <th>customer_unique_id</th>\n",
       "      <th></th>\n",
       "      <th></th>\n",
       "    </tr>\n",
       "  </thead>\n",
       "  <tbody>\n",
       "    <tr>\n",
       "      <th>0000366f3b9a7992bf8c76cfdf3221e2</th>\n",
       "      <td>2018-05-10 10:56:27</td>\n",
       "      <td>116</td>\n",
       "    </tr>\n",
       "    <tr>\n",
       "      <th>0000b849f77a49e4a4ce2b2a4ca5be3f</th>\n",
       "      <td>2018-05-07 11:11:27</td>\n",
       "      <td>119</td>\n",
       "    </tr>\n",
       "    <tr>\n",
       "      <th>0000f46a3911fa3c0805444483337064</th>\n",
       "      <td>2017-03-10 21:05:03</td>\n",
       "      <td>542</td>\n",
       "    </tr>\n",
       "    <tr>\n",
       "      <th>0000f6ccb0745a6a4b88665a16c9f078</th>\n",
       "      <td>2017-10-12 20:29:41</td>\n",
       "      <td>326</td>\n",
       "    </tr>\n",
       "    <tr>\n",
       "      <th>0004aac84e0df4da2b147fca70cf8255</th>\n",
       "      <td>2017-11-14 19:45:42</td>\n",
       "      <td>293</td>\n",
       "    </tr>\n",
       "  </tbody>\n",
       "</table>\n",
       "</div>"
      ],
      "text/plain": [
       "                                 order_purchase_timestamp  Recency\n",
       "customer_unique_id                                                \n",
       "0000366f3b9a7992bf8c76cfdf3221e2      2018-05-10 10:56:27      116\n",
       "0000b849f77a49e4a4ce2b2a4ca5be3f      2018-05-07 11:11:27      119\n",
       "0000f46a3911fa3c0805444483337064      2017-03-10 21:05:03      542\n",
       "0000f6ccb0745a6a4b88665a16c9f078      2017-10-12 20:29:41      326\n",
       "0004aac84e0df4da2b147fca70cf8255      2017-11-14 19:45:42      293"
      ]
     },
     "execution_count": 75,
     "metadata": {},
     "output_type": "execute_result"
    }
   ],
   "source": [
    "clients_group.head()"
   ]
  },
  {
   "cell_type": "code",
   "execution_count": 62,
   "id": "eb44f844",
   "metadata": {},
   "outputs": [
    {
     "data": {
      "text/plain": [
       "order_purchase_timestamp    timedelta64[ns]\n",
       "dtype: object"
      ]
     },
     "execution_count": 62,
     "metadata": {},
     "output_type": "execute_result"
    }
   ],
   "source": [
    "Recence.dtypes"
   ]
  },
  {
   "cell_type": "markdown",
   "id": "1c87c583",
   "metadata": {},
   "source": [
    "❓What is the date of the most recent purchase?"
   ]
  },
  {
   "cell_type": "code",
   "execution_count": 59,
   "id": "454d6c52",
   "metadata": {},
   "outputs": [
    {
     "data": {
      "text/plain": [
       "Timestamp('2018-09-03 09:06:57')"
      ]
     },
     "execution_count": 59,
     "metadata": {},
     "output_type": "execute_result"
    }
   ],
   "source": [
    "date_ref = max(df.order_purchase_timestamp)\n",
    "date_ref"
   ]
  },
  {
   "cell_type": "markdown",
   "id": "4c54092d",
   "metadata": {},
   "source": [
    "❓How would you calculate the recency? (hint: what date would you use to compare with the purchase date? Today? probably not...)"
   ]
  },
  {
   "cell_type": "code",
   "execution_count": null,
   "id": "537c40bb",
   "metadata": {},
   "outputs": [],
   "source": [
    "#The most recent purchase in the dataset "
   ]
  },
  {
   "cell_type": "markdown",
   "id": "f6705b2f",
   "metadata": {},
   "source": [
    "Create a feature calculating the difference between `the most recent purchased + 1 day`, and `order_purchase_timestamp`."
   ]
  },
  {
   "cell_type": "code",
   "execution_count": 76,
   "id": "881822f2",
   "metadata": {},
   "outputs": [
    {
     "data": {
      "text/html": [
       "<div>\n",
       "<style scoped>\n",
       "    .dataframe tbody tr th:only-of-type {\n",
       "        vertical-align: middle;\n",
       "    }\n",
       "\n",
       "    .dataframe tbody tr th {\n",
       "        vertical-align: top;\n",
       "    }\n",
       "\n",
       "    .dataframe thead th {\n",
       "        text-align: right;\n",
       "    }\n",
       "</style>\n",
       "<table border=\"1\" class=\"dataframe\">\n",
       "  <thead>\n",
       "    <tr style=\"text-align: right;\">\n",
       "      <th></th>\n",
       "      <th>order_purchase_timestamp</th>\n",
       "      <th>Recency</th>\n",
       "    </tr>\n",
       "    <tr>\n",
       "      <th>customer_unique_id</th>\n",
       "      <th></th>\n",
       "      <th></th>\n",
       "    </tr>\n",
       "  </thead>\n",
       "  <tbody>\n",
       "    <tr>\n",
       "      <th>0000366f3b9a7992bf8c76cfdf3221e2</th>\n",
       "      <td>2018-05-10 10:56:27</td>\n",
       "      <td>116</td>\n",
       "    </tr>\n",
       "    <tr>\n",
       "      <th>0000b849f77a49e4a4ce2b2a4ca5be3f</th>\n",
       "      <td>2018-05-07 11:11:27</td>\n",
       "      <td>119</td>\n",
       "    </tr>\n",
       "    <tr>\n",
       "      <th>0000f46a3911fa3c0805444483337064</th>\n",
       "      <td>2017-03-10 21:05:03</td>\n",
       "      <td>542</td>\n",
       "    </tr>\n",
       "    <tr>\n",
       "      <th>0000f6ccb0745a6a4b88665a16c9f078</th>\n",
       "      <td>2017-10-12 20:29:41</td>\n",
       "      <td>326</td>\n",
       "    </tr>\n",
       "    <tr>\n",
       "      <th>0004aac84e0df4da2b147fca70cf8255</th>\n",
       "      <td>2017-11-14 19:45:42</td>\n",
       "      <td>293</td>\n",
       "    </tr>\n",
       "  </tbody>\n",
       "</table>\n",
       "</div>"
      ],
      "text/plain": [
       "                                 order_purchase_timestamp  Recency\n",
       "customer_unique_id                                                \n",
       "0000366f3b9a7992bf8c76cfdf3221e2      2018-05-10 10:56:27      116\n",
       "0000b849f77a49e4a4ce2b2a4ca5be3f      2018-05-07 11:11:27      119\n",
       "0000f46a3911fa3c0805444483337064      2017-03-10 21:05:03      542\n",
       "0000f6ccb0745a6a4b88665a16c9f078      2017-10-12 20:29:41      326\n",
       "0004aac84e0df4da2b147fca70cf8255      2017-11-14 19:45:42      293"
      ]
     },
     "execution_count": 76,
     "metadata": {},
     "output_type": "execute_result"
    }
   ],
   "source": [
    "#Fait au dessus\n",
    "clients_group.head()"
   ]
  },
  {
   "cell_type": "markdown",
   "id": "258ca32b",
   "metadata": {},
   "source": [
    "Now that you have created a new dataset with the right columns, explore it to understand what you created."
   ]
  },
  {
   "cell_type": "code",
   "execution_count": 77,
   "id": "effc3fa1",
   "metadata": {},
   "outputs": [
    {
     "data": {
      "text/html": [
       "<div>\n",
       "<style scoped>\n",
       "    .dataframe tbody tr th:only-of-type {\n",
       "        vertical-align: middle;\n",
       "    }\n",
       "\n",
       "    .dataframe tbody tr th {\n",
       "        vertical-align: top;\n",
       "    }\n",
       "\n",
       "    .dataframe thead th {\n",
       "        text-align: right;\n",
       "    }\n",
       "</style>\n",
       "<table border=\"1\" class=\"dataframe\">\n",
       "  <thead>\n",
       "    <tr style=\"text-align: right;\">\n",
       "      <th></th>\n",
       "      <th>customer_unique_id</th>\n",
       "      <th>order_id</th>\n",
       "      <th>order_purchase_timestamp</th>\n",
       "      <th>payment_value</th>\n",
       "    </tr>\n",
       "  </thead>\n",
       "  <tbody>\n",
       "    <tr>\n",
       "      <th>0</th>\n",
       "      <td>7c396fd4830fd04220f754e42b4e5bff</td>\n",
       "      <td>e481f51cbdc54678b7cc49136f2d6af7</td>\n",
       "      <td>2017-10-02 10:56:33</td>\n",
       "      <td>18.12</td>\n",
       "    </tr>\n",
       "    <tr>\n",
       "      <th>1</th>\n",
       "      <td>7c396fd4830fd04220f754e42b4e5bff</td>\n",
       "      <td>e481f51cbdc54678b7cc49136f2d6af7</td>\n",
       "      <td>2017-10-02 10:56:33</td>\n",
       "      <td>2.00</td>\n",
       "    </tr>\n",
       "    <tr>\n",
       "      <th>2</th>\n",
       "      <td>7c396fd4830fd04220f754e42b4e5bff</td>\n",
       "      <td>e481f51cbdc54678b7cc49136f2d6af7</td>\n",
       "      <td>2017-10-02 10:56:33</td>\n",
       "      <td>18.59</td>\n",
       "    </tr>\n",
       "    <tr>\n",
       "      <th>3</th>\n",
       "      <td>af07308b275d755c9edb36a90c618231</td>\n",
       "      <td>53cdb2fc8bc7dce0b6741e2150273451</td>\n",
       "      <td>2018-07-24 20:41:37</td>\n",
       "      <td>141.46</td>\n",
       "    </tr>\n",
       "    <tr>\n",
       "      <th>4</th>\n",
       "      <td>3a653a41f6f9fc3d2a113cf8398680e8</td>\n",
       "      <td>47770eb9100c2d0c44946d9cf07ec65d</td>\n",
       "      <td>2018-08-08 08:38:49</td>\n",
       "      <td>179.12</td>\n",
       "    </tr>\n",
       "  </tbody>\n",
       "</table>\n",
       "</div>"
      ],
      "text/plain": [
       "                 customer_unique_id                          order_id  \\\n",
       "0  7c396fd4830fd04220f754e42b4e5bff  e481f51cbdc54678b7cc49136f2d6af7   \n",
       "1  7c396fd4830fd04220f754e42b4e5bff  e481f51cbdc54678b7cc49136f2d6af7   \n",
       "2  7c396fd4830fd04220f754e42b4e5bff  e481f51cbdc54678b7cc49136f2d6af7   \n",
       "3  af07308b275d755c9edb36a90c618231  53cdb2fc8bc7dce0b6741e2150273451   \n",
       "4  3a653a41f6f9fc3d2a113cf8398680e8  47770eb9100c2d0c44946d9cf07ec65d   \n",
       "\n",
       "  order_purchase_timestamp  payment_value  \n",
       "0      2017-10-02 10:56:33          18.12  \n",
       "1      2017-10-02 10:56:33           2.00  \n",
       "2      2017-10-02 10:56:33          18.59  \n",
       "3      2018-07-24 20:41:37         141.46  \n",
       "4      2018-08-08 08:38:49         179.12  "
      ]
     },
     "execution_count": 77,
     "metadata": {},
     "output_type": "execute_result"
    }
   ],
   "source": [
    "df_RFM.head()"
   ]
  },
  {
   "cell_type": "code",
   "execution_count": 79,
   "id": "be33e8b9",
   "metadata": {},
   "outputs": [
    {
     "data": {
      "text/html": [
       "<div>\n",
       "<style scoped>\n",
       "    .dataframe tbody tr th:only-of-type {\n",
       "        vertical-align: middle;\n",
       "    }\n",
       "\n",
       "    .dataframe tbody tr th {\n",
       "        vertical-align: top;\n",
       "    }\n",
       "\n",
       "    .dataframe thead th {\n",
       "        text-align: right;\n",
       "    }\n",
       "</style>\n",
       "<table border=\"1\" class=\"dataframe\">\n",
       "  <thead>\n",
       "    <tr style=\"text-align: right;\">\n",
       "      <th></th>\n",
       "      <th>customer_unique_id</th>\n",
       "      <th>Montant</th>\n",
       "      <th>Fréquence</th>\n",
       "      <th>Paniermoy</th>\n",
       "    </tr>\n",
       "  </thead>\n",
       "  <tbody>\n",
       "    <tr>\n",
       "      <th>0</th>\n",
       "      <td>0000366f3b9a7992bf8c76cfdf3221e2</td>\n",
       "      <td>141.90</td>\n",
       "      <td>1</td>\n",
       "      <td>141.90</td>\n",
       "    </tr>\n",
       "    <tr>\n",
       "      <th>1</th>\n",
       "      <td>0000b849f77a49e4a4ce2b2a4ca5be3f</td>\n",
       "      <td>27.19</td>\n",
       "      <td>1</td>\n",
       "      <td>27.19</td>\n",
       "    </tr>\n",
       "    <tr>\n",
       "      <th>2</th>\n",
       "      <td>0000f46a3911fa3c0805444483337064</td>\n",
       "      <td>86.22</td>\n",
       "      <td>1</td>\n",
       "      <td>86.22</td>\n",
       "    </tr>\n",
       "    <tr>\n",
       "      <th>3</th>\n",
       "      <td>0000f6ccb0745a6a4b88665a16c9f078</td>\n",
       "      <td>43.62</td>\n",
       "      <td>1</td>\n",
       "      <td>43.62</td>\n",
       "    </tr>\n",
       "    <tr>\n",
       "      <th>4</th>\n",
       "      <td>0004aac84e0df4da2b147fca70cf8255</td>\n",
       "      <td>196.89</td>\n",
       "      <td>1</td>\n",
       "      <td>196.89</td>\n",
       "    </tr>\n",
       "    <tr>\n",
       "      <th>...</th>\n",
       "      <td>...</td>\n",
       "      <td>...</td>\n",
       "      <td>...</td>\n",
       "      <td>...</td>\n",
       "    </tr>\n",
       "    <tr>\n",
       "      <th>94394</th>\n",
       "      <td>fffcf5a5ff07b0908bd4e2dbc735a684</td>\n",
       "      <td>2067.42</td>\n",
       "      <td>1</td>\n",
       "      <td>2067.42</td>\n",
       "    </tr>\n",
       "    <tr>\n",
       "      <th>94395</th>\n",
       "      <td>fffea47cd6d3cc0a88bd621562a9d061</td>\n",
       "      <td>84.58</td>\n",
       "      <td>1</td>\n",
       "      <td>84.58</td>\n",
       "    </tr>\n",
       "    <tr>\n",
       "      <th>94396</th>\n",
       "      <td>ffff371b4d645b6ecea244b27531430a</td>\n",
       "      <td>112.46</td>\n",
       "      <td>1</td>\n",
       "      <td>112.46</td>\n",
       "    </tr>\n",
       "    <tr>\n",
       "      <th>94397</th>\n",
       "      <td>ffff5962728ec6157033ef9805bacc48</td>\n",
       "      <td>133.69</td>\n",
       "      <td>1</td>\n",
       "      <td>133.69</td>\n",
       "    </tr>\n",
       "    <tr>\n",
       "      <th>94398</th>\n",
       "      <td>ffffd2657e2aad2907e67c3e9daecbeb</td>\n",
       "      <td>71.56</td>\n",
       "      <td>1</td>\n",
       "      <td>71.56</td>\n",
       "    </tr>\n",
       "  </tbody>\n",
       "</table>\n",
       "<p>94399 rows × 4 columns</p>\n",
       "</div>"
      ],
      "text/plain": [
       "                     customer_unique_id  Montant  Fréquence  Paniermoy\n",
       "0      0000366f3b9a7992bf8c76cfdf3221e2   141.90          1     141.90\n",
       "1      0000b849f77a49e4a4ce2b2a4ca5be3f    27.19          1      27.19\n",
       "2      0000f46a3911fa3c0805444483337064    86.22          1      86.22\n",
       "3      0000f6ccb0745a6a4b88665a16c9f078    43.62          1      43.62\n",
       "4      0004aac84e0df4da2b147fca70cf8255   196.89          1     196.89\n",
       "...                                 ...      ...        ...        ...\n",
       "94394  fffcf5a5ff07b0908bd4e2dbc735a684  2067.42          1    2067.42\n",
       "94395  fffea47cd6d3cc0a88bd621562a9d061    84.58          1      84.58\n",
       "94396  ffff371b4d645b6ecea244b27531430a   112.46          1     112.46\n",
       "94397  ffff5962728ec6157033ef9805bacc48   133.69          1     133.69\n",
       "94398  ffffd2657e2aad2907e67c3e9daecbeb    71.56          1      71.56\n",
       "\n",
       "[94399 rows x 4 columns]"
      ]
     },
     "execution_count": 79,
     "metadata": {},
     "output_type": "execute_result"
    }
   ],
   "source": [
    "#Frequence\n",
    "dfAgg=df_RFM.groupby(['customer_unique_id']).agg(Montant=pd.NamedAgg(column='payment_value', aggfunc=sum), Fréquence=pd.NamedAgg(column='payment_value', aggfunc='count'),Paniermoy=pd.NamedAgg(column='payment_value', aggfunc='mean')).reset_index()\n",
    "dfAgg"
   ]
  },
  {
   "cell_type": "code",
   "execution_count": 80,
   "id": "6614efc2",
   "metadata": {},
   "outputs": [
    {
     "data": {
      "text/plain": [
       "array([ 1,  2,  4,  6,  3, 12,  5,  8, 11,  9, 14, 24, 10, 19, 22, 15,  7,\n",
       "       26, 13,  0, 29, 16, 54, 23], dtype=int64)"
      ]
     },
     "execution_count": 80,
     "metadata": {},
     "output_type": "execute_result"
    }
   ],
   "source": [
    "dfAgg[\"Fréquence\"].unique()"
   ]
  },
  {
   "cell_type": "code",
   "execution_count": null,
   "id": "a466eb47",
   "metadata": {},
   "outputs": [],
   "source": []
  },
  {
   "cell_type": "code",
   "execution_count": 94,
   "id": "f971dfe2",
   "metadata": {},
   "outputs": [
    {
     "data": {
      "text/html": [
       "<div>\n",
       "<style scoped>\n",
       "    .dataframe tbody tr th:only-of-type {\n",
       "        vertical-align: middle;\n",
       "    }\n",
       "\n",
       "    .dataframe tbody tr th {\n",
       "        vertical-align: top;\n",
       "    }\n",
       "\n",
       "    .dataframe thead th {\n",
       "        text-align: right;\n",
       "    }\n",
       "</style>\n",
       "<table border=\"1\" class=\"dataframe\">\n",
       "  <thead>\n",
       "    <tr style=\"text-align: right;\">\n",
       "      <th></th>\n",
       "      <th>customer_unique_id</th>\n",
       "      <th>order_purchase_timestamp</th>\n",
       "      <th>Recency</th>\n",
       "      <th>Montant</th>\n",
       "      <th>Fréquence</th>\n",
       "      <th>Paniermoy</th>\n",
       "    </tr>\n",
       "  </thead>\n",
       "  <tbody>\n",
       "    <tr>\n",
       "      <th>0</th>\n",
       "      <td>0000366f3b9a7992bf8c76cfdf3221e2</td>\n",
       "      <td>2018-05-10 10:56:27</td>\n",
       "      <td>116</td>\n",
       "      <td>141.90</td>\n",
       "      <td>1</td>\n",
       "      <td>141.90</td>\n",
       "    </tr>\n",
       "    <tr>\n",
       "      <th>1</th>\n",
       "      <td>0000b849f77a49e4a4ce2b2a4ca5be3f</td>\n",
       "      <td>2018-05-07 11:11:27</td>\n",
       "      <td>119</td>\n",
       "      <td>27.19</td>\n",
       "      <td>1</td>\n",
       "      <td>27.19</td>\n",
       "    </tr>\n",
       "    <tr>\n",
       "      <th>2</th>\n",
       "      <td>0000f46a3911fa3c0805444483337064</td>\n",
       "      <td>2017-03-10 21:05:03</td>\n",
       "      <td>542</td>\n",
       "      <td>86.22</td>\n",
       "      <td>1</td>\n",
       "      <td>86.22</td>\n",
       "    </tr>\n",
       "    <tr>\n",
       "      <th>3</th>\n",
       "      <td>0000f6ccb0745a6a4b88665a16c9f078</td>\n",
       "      <td>2017-10-12 20:29:41</td>\n",
       "      <td>326</td>\n",
       "      <td>43.62</td>\n",
       "      <td>1</td>\n",
       "      <td>43.62</td>\n",
       "    </tr>\n",
       "    <tr>\n",
       "      <th>4</th>\n",
       "      <td>0004aac84e0df4da2b147fca70cf8255</td>\n",
       "      <td>2017-11-14 19:45:42</td>\n",
       "      <td>293</td>\n",
       "      <td>196.89</td>\n",
       "      <td>1</td>\n",
       "      <td>196.89</td>\n",
       "    </tr>\n",
       "  </tbody>\n",
       "</table>\n",
       "</div>"
      ],
      "text/plain": [
       "                 customer_unique_id order_purchase_timestamp  Recency  \\\n",
       "0  0000366f3b9a7992bf8c76cfdf3221e2      2018-05-10 10:56:27      116   \n",
       "1  0000b849f77a49e4a4ce2b2a4ca5be3f      2018-05-07 11:11:27      119   \n",
       "2  0000f46a3911fa3c0805444483337064      2017-03-10 21:05:03      542   \n",
       "3  0000f6ccb0745a6a4b88665a16c9f078      2017-10-12 20:29:41      326   \n",
       "4  0004aac84e0df4da2b147fca70cf8255      2017-11-14 19:45:42      293   \n",
       "\n",
       "   Montant  Fréquence  Paniermoy  \n",
       "0   141.90          1     141.90  \n",
       "1    27.19          1      27.19  \n",
       "2    86.22          1      86.22  \n",
       "3    43.62          1      43.62  \n",
       "4   196.89          1     196.89  "
      ]
     },
     "execution_count": 94,
     "metadata": {},
     "output_type": "execute_result"
    }
   ],
   "source": [
    "RFM = clients_group.merge(dfAgg, how = 'left', left_on='customer_unique_id', right_on='customer_unique_id')\n",
    "RFM.head()"
   ]
  },
  {
   "cell_type": "code",
   "execution_count": 96,
   "id": "0180a828",
   "metadata": {},
   "outputs": [],
   "source": [
    "df_ecom = RFM.drop([\"order_purchase_timestamp\",\"Paniermoy\"], axis = 1)"
   ]
  },
  {
   "cell_type": "code",
   "execution_count": 97,
   "id": "05e0bdfc",
   "metadata": {},
   "outputs": [
    {
     "data": {
      "text/html": [
       "<div>\n",
       "<style scoped>\n",
       "    .dataframe tbody tr th:only-of-type {\n",
       "        vertical-align: middle;\n",
       "    }\n",
       "\n",
       "    .dataframe tbody tr th {\n",
       "        vertical-align: top;\n",
       "    }\n",
       "\n",
       "    .dataframe thead th {\n",
       "        text-align: right;\n",
       "    }\n",
       "</style>\n",
       "<table border=\"1\" class=\"dataframe\">\n",
       "  <thead>\n",
       "    <tr style=\"text-align: right;\">\n",
       "      <th></th>\n",
       "      <th>customer_unique_id</th>\n",
       "      <th>Recency</th>\n",
       "      <th>Montant</th>\n",
       "      <th>Fréquence</th>\n",
       "    </tr>\n",
       "  </thead>\n",
       "  <tbody>\n",
       "    <tr>\n",
       "      <th>0</th>\n",
       "      <td>0000366f3b9a7992bf8c76cfdf3221e2</td>\n",
       "      <td>116</td>\n",
       "      <td>141.90</td>\n",
       "      <td>1</td>\n",
       "    </tr>\n",
       "    <tr>\n",
       "      <th>1</th>\n",
       "      <td>0000b849f77a49e4a4ce2b2a4ca5be3f</td>\n",
       "      <td>119</td>\n",
       "      <td>27.19</td>\n",
       "      <td>1</td>\n",
       "    </tr>\n",
       "    <tr>\n",
       "      <th>2</th>\n",
       "      <td>0000f46a3911fa3c0805444483337064</td>\n",
       "      <td>542</td>\n",
       "      <td>86.22</td>\n",
       "      <td>1</td>\n",
       "    </tr>\n",
       "    <tr>\n",
       "      <th>3</th>\n",
       "      <td>0000f6ccb0745a6a4b88665a16c9f078</td>\n",
       "      <td>326</td>\n",
       "      <td>43.62</td>\n",
       "      <td>1</td>\n",
       "    </tr>\n",
       "    <tr>\n",
       "      <th>4</th>\n",
       "      <td>0004aac84e0df4da2b147fca70cf8255</td>\n",
       "      <td>293</td>\n",
       "      <td>196.89</td>\n",
       "      <td>1</td>\n",
       "    </tr>\n",
       "  </tbody>\n",
       "</table>\n",
       "</div>"
      ],
      "text/plain": [
       "                 customer_unique_id  Recency  Montant  Fréquence\n",
       "0  0000366f3b9a7992bf8c76cfdf3221e2      116   141.90          1\n",
       "1  0000b849f77a49e4a4ce2b2a4ca5be3f      119    27.19          1\n",
       "2  0000f46a3911fa3c0805444483337064      542    86.22          1\n",
       "3  0000f6ccb0745a6a4b88665a16c9f078      326    43.62          1\n",
       "4  0004aac84e0df4da2b147fca70cf8255      293   196.89          1"
      ]
     },
     "execution_count": 97,
     "metadata": {},
     "output_type": "execute_result"
    }
   ],
   "source": [
    "df_ecom.head()"
   ]
  },
  {
   "cell_type": "markdown",
   "id": "813d87c9",
   "metadata": {},
   "source": [
    "❓Which column is the R? The F? The M?"
   ]
  },
  {
   "cell_type": "code",
   "execution_count": null,
   "id": "b7385417",
   "metadata": {},
   "outputs": [],
   "source": [
    "#R: Recence \n",
    "#F: Fréquence \n",
    "#M: Montant "
   ]
  },
  {
   "cell_type": "markdown",
   "id": "06477a58",
   "metadata": {},
   "source": [
    "Now for each metric independantly, build clutsers (Hint 1: you can use `.describe()` to have insights about each metrics. Hint 2: Don't choose more than 3 clusters)"
   ]
  },
  {
   "cell_type": "code",
   "execution_count": 98,
   "id": "50619e6f",
   "metadata": {},
   "outputs": [
    {
     "data": {
      "text/html": [
       "<div>\n",
       "<style scoped>\n",
       "    .dataframe tbody tr th:only-of-type {\n",
       "        vertical-align: middle;\n",
       "    }\n",
       "\n",
       "    .dataframe tbody tr th {\n",
       "        vertical-align: top;\n",
       "    }\n",
       "\n",
       "    .dataframe thead th {\n",
       "        text-align: right;\n",
       "    }\n",
       "</style>\n",
       "<table border=\"1\" class=\"dataframe\">\n",
       "  <thead>\n",
       "    <tr style=\"text-align: right;\">\n",
       "      <th></th>\n",
       "      <th>Recency</th>\n",
       "      <th>Montant</th>\n",
       "      <th>Fréquence</th>\n",
       "    </tr>\n",
       "  </thead>\n",
       "  <tbody>\n",
       "    <tr>\n",
       "      <th>count</th>\n",
       "      <td>94399.000000</td>\n",
       "      <td>94399.000000</td>\n",
       "      <td>94399.000000</td>\n",
       "    </tr>\n",
       "    <tr>\n",
       "      <th>mean</th>\n",
       "      <td>242.864162</td>\n",
       "      <td>168.250134</td>\n",
       "      <td>1.095393</td>\n",
       "    </tr>\n",
       "    <tr>\n",
       "      <th>std</th>\n",
       "      <td>152.723176</td>\n",
       "      <td>232.880460</td>\n",
       "      <td>0.530316</td>\n",
       "    </tr>\n",
       "    <tr>\n",
       "      <th>min</th>\n",
       "      <td>1.000000</td>\n",
       "      <td>0.000000</td>\n",
       "      <td>0.000000</td>\n",
       "    </tr>\n",
       "    <tr>\n",
       "      <th>25%</th>\n",
       "      <td>119.000000</td>\n",
       "      <td>63.110000</td>\n",
       "      <td>1.000000</td>\n",
       "    </tr>\n",
       "    <tr>\n",
       "      <th>50%</th>\n",
       "      <td>224.000000</td>\n",
       "      <td>108.100000</td>\n",
       "      <td>1.000000</td>\n",
       "    </tr>\n",
       "    <tr>\n",
       "      <th>75%</th>\n",
       "      <td>352.000000</td>\n",
       "      <td>184.590000</td>\n",
       "      <td>1.000000</td>\n",
       "    </tr>\n",
       "    <tr>\n",
       "      <th>max</th>\n",
       "      <td>729.000000</td>\n",
       "      <td>13664.080000</td>\n",
       "      <td>54.000000</td>\n",
       "    </tr>\n",
       "  </tbody>\n",
       "</table>\n",
       "</div>"
      ],
      "text/plain": [
       "            Recency       Montant     Fréquence\n",
       "count  94399.000000  94399.000000  94399.000000\n",
       "mean     242.864162    168.250134      1.095393\n",
       "std      152.723176    232.880460      0.530316\n",
       "min        1.000000      0.000000      0.000000\n",
       "25%      119.000000     63.110000      1.000000\n",
       "50%      224.000000    108.100000      1.000000\n",
       "75%      352.000000    184.590000      1.000000\n",
       "max      729.000000  13664.080000     54.000000"
      ]
     },
     "execution_count": 98,
     "metadata": {},
     "output_type": "execute_result"
    }
   ],
   "source": [
    "df_ecom.describe()"
   ]
  },
  {
   "cell_type": "code",
   "execution_count": 160,
   "id": "1843872a",
   "metadata": {},
   "outputs": [],
   "source": [
    "df_ecommerce = df_ecom.copy()"
   ]
  },
  {
   "cell_type": "code",
   "execution_count": 161,
   "id": "58cdfd30",
   "metadata": {},
   "outputs": [],
   "source": [
    "df_ecommerce = df_ecommerce.drop(\"customer_unique_id\", axis = 1)"
   ]
  },
  {
   "cell_type": "code",
   "execution_count": 162,
   "id": "dc65bfdf",
   "metadata": {},
   "outputs": [
    {
     "data": {
      "text/html": [
       "<div>\n",
       "<style scoped>\n",
       "    .dataframe tbody tr th:only-of-type {\n",
       "        vertical-align: middle;\n",
       "    }\n",
       "\n",
       "    .dataframe tbody tr th {\n",
       "        vertical-align: top;\n",
       "    }\n",
       "\n",
       "    .dataframe thead th {\n",
       "        text-align: right;\n",
       "    }\n",
       "</style>\n",
       "<table border=\"1\" class=\"dataframe\">\n",
       "  <thead>\n",
       "    <tr style=\"text-align: right;\">\n",
       "      <th></th>\n",
       "      <th>Recency</th>\n",
       "      <th>Montant</th>\n",
       "      <th>Fréquence</th>\n",
       "      <th>k</th>\n",
       "    </tr>\n",
       "  </thead>\n",
       "  <tbody>\n",
       "    <tr>\n",
       "      <th>0</th>\n",
       "      <td>116</td>\n",
       "      <td>141.90</td>\n",
       "      <td>1</td>\n",
       "      <td>0</td>\n",
       "    </tr>\n",
       "    <tr>\n",
       "      <th>1</th>\n",
       "      <td>119</td>\n",
       "      <td>27.19</td>\n",
       "      <td>1</td>\n",
       "      <td>0</td>\n",
       "    </tr>\n",
       "    <tr>\n",
       "      <th>2</th>\n",
       "      <td>542</td>\n",
       "      <td>86.22</td>\n",
       "      <td>1</td>\n",
       "      <td>2</td>\n",
       "    </tr>\n",
       "    <tr>\n",
       "      <th>3</th>\n",
       "      <td>326</td>\n",
       "      <td>43.62</td>\n",
       "      <td>1</td>\n",
       "      <td>2</td>\n",
       "    </tr>\n",
       "    <tr>\n",
       "      <th>4</th>\n",
       "      <td>293</td>\n",
       "      <td>196.89</td>\n",
       "      <td>1</td>\n",
       "      <td>2</td>\n",
       "    </tr>\n",
       "  </tbody>\n",
       "</table>\n",
       "</div>"
      ],
      "text/plain": [
       "   Recency  Montant  Fréquence  k\n",
       "0      116   141.90          1  0\n",
       "1      119    27.19          1  0\n",
       "2      542    86.22          1  2\n",
       "3      326    43.62          1  2\n",
       "4      293   196.89          1  2"
      ]
     },
     "execution_count": 162,
     "metadata": {},
     "output_type": "execute_result"
    }
   ],
   "source": [
    "df_ecommerce.head()"
   ]
  },
  {
   "cell_type": "code",
   "execution_count": 99,
   "id": "24a0a128",
   "metadata": {},
   "outputs": [],
   "source": [
    "from sklearn.cluster import KMeans\n",
    "from sklearn import datasets"
   ]
  },
  {
   "cell_type": "code",
   "execution_count": 120,
   "id": "be4cf47d",
   "metadata": {},
   "outputs": [
    {
     "data": {
      "text/html": [
       "<div>\n",
       "<style scoped>\n",
       "    .dataframe tbody tr th:only-of-type {\n",
       "        vertical-align: middle;\n",
       "    }\n",
       "\n",
       "    .dataframe tbody tr th {\n",
       "        vertical-align: top;\n",
       "    }\n",
       "\n",
       "    .dataframe thead th {\n",
       "        text-align: right;\n",
       "    }\n",
       "</style>\n",
       "<table border=\"1\" class=\"dataframe\">\n",
       "  <thead>\n",
       "    <tr style=\"text-align: right;\">\n",
       "      <th></th>\n",
       "      <th>customer_unique_id</th>\n",
       "      <th>Recency</th>\n",
       "      <th>Montant</th>\n",
       "      <th>Fréquence</th>\n",
       "      <th>k</th>\n",
       "    </tr>\n",
       "  </thead>\n",
       "  <tbody>\n",
       "    <tr>\n",
       "      <th>0</th>\n",
       "      <td>0000366f3b9a7992bf8c76cfdf3221e2</td>\n",
       "      <td>116</td>\n",
       "      <td>141.90</td>\n",
       "      <td>1</td>\n",
       "      <td>0</td>\n",
       "    </tr>\n",
       "    <tr>\n",
       "      <th>1</th>\n",
       "      <td>0000b849f77a49e4a4ce2b2a4ca5be3f</td>\n",
       "      <td>119</td>\n",
       "      <td>27.19</td>\n",
       "      <td>1</td>\n",
       "      <td>0</td>\n",
       "    </tr>\n",
       "    <tr>\n",
       "      <th>2</th>\n",
       "      <td>0000f46a3911fa3c0805444483337064</td>\n",
       "      <td>542</td>\n",
       "      <td>86.22</td>\n",
       "      <td>1</td>\n",
       "      <td>2</td>\n",
       "    </tr>\n",
       "    <tr>\n",
       "      <th>3</th>\n",
       "      <td>0000f6ccb0745a6a4b88665a16c9f078</td>\n",
       "      <td>326</td>\n",
       "      <td>43.62</td>\n",
       "      <td>1</td>\n",
       "      <td>2</td>\n",
       "    </tr>\n",
       "    <tr>\n",
       "      <th>4</th>\n",
       "      <td>0004aac84e0df4da2b147fca70cf8255</td>\n",
       "      <td>293</td>\n",
       "      <td>196.89</td>\n",
       "      <td>1</td>\n",
       "      <td>2</td>\n",
       "    </tr>\n",
       "    <tr>\n",
       "      <th>...</th>\n",
       "      <td>...</td>\n",
       "      <td>...</td>\n",
       "      <td>...</td>\n",
       "      <td>...</td>\n",
       "      <td>...</td>\n",
       "    </tr>\n",
       "    <tr>\n",
       "      <th>94394</th>\n",
       "      <td>fffcf5a5ff07b0908bd4e2dbc735a684</td>\n",
       "      <td>452</td>\n",
       "      <td>2067.42</td>\n",
       "      <td>1</td>\n",
       "      <td>1</td>\n",
       "    </tr>\n",
       "    <tr>\n",
       "      <th>94395</th>\n",
       "      <td>fffea47cd6d3cc0a88bd621562a9d061</td>\n",
       "      <td>267</td>\n",
       "      <td>84.58</td>\n",
       "      <td>1</td>\n",
       "      <td>2</td>\n",
       "    </tr>\n",
       "    <tr>\n",
       "      <th>94396</th>\n",
       "      <td>ffff371b4d645b6ecea244b27531430a</td>\n",
       "      <td>573</td>\n",
       "      <td>112.46</td>\n",
       "      <td>1</td>\n",
       "      <td>2</td>\n",
       "    </tr>\n",
       "    <tr>\n",
       "      <th>94397</th>\n",
       "      <td>ffff5962728ec6157033ef9805bacc48</td>\n",
       "      <td>124</td>\n",
       "      <td>133.69</td>\n",
       "      <td>1</td>\n",
       "      <td>0</td>\n",
       "    </tr>\n",
       "    <tr>\n",
       "      <th>94398</th>\n",
       "      <td>ffffd2657e2aad2907e67c3e9daecbeb</td>\n",
       "      <td>489</td>\n",
       "      <td>71.56</td>\n",
       "      <td>1</td>\n",
       "      <td>2</td>\n",
       "    </tr>\n",
       "  </tbody>\n",
       "</table>\n",
       "<p>94399 rows × 5 columns</p>\n",
       "</div>"
      ],
      "text/plain": [
       "                     customer_unique_id  Recency  Montant  Fréquence  k\n",
       "0      0000366f3b9a7992bf8c76cfdf3221e2      116   141.90          1  0\n",
       "1      0000b849f77a49e4a4ce2b2a4ca5be3f      119    27.19          1  0\n",
       "2      0000f46a3911fa3c0805444483337064      542    86.22          1  2\n",
       "3      0000f6ccb0745a6a4b88665a16c9f078      326    43.62          1  2\n",
       "4      0004aac84e0df4da2b147fca70cf8255      293   196.89          1  2\n",
       "...                                 ...      ...      ...        ... ..\n",
       "94394  fffcf5a5ff07b0908bd4e2dbc735a684      452  2067.42          1  1\n",
       "94395  fffea47cd6d3cc0a88bd621562a9d061      267    84.58          1  2\n",
       "94396  ffff371b4d645b6ecea244b27531430a      573   112.46          1  2\n",
       "94397  ffff5962728ec6157033ef9805bacc48      124   133.69          1  0\n",
       "94398  ffffd2657e2aad2907e67c3e9daecbeb      489    71.56          1  2\n",
       "\n",
       "[94399 rows x 5 columns]"
      ]
     },
     "execution_count": 120,
     "metadata": {},
     "output_type": "execute_result"
    }
   ],
   "source": [
    "model = KMeans(n_clusters=3)\n",
    "model.fit(df_ecommerce)\n",
    "model.predict(df_ecommerce)\n",
    "df_ecom[\"k\"] = model.predict(df_ecommerce)\n",
    "df_ecom"
   ]
  },
  {
   "cell_type": "code",
   "execution_count": 121,
   "id": "adb0ed0c",
   "metadata": {},
   "outputs": [
    {
     "data": {
      "text/plain": [
       "0    52429\n",
       "2    38524\n",
       "1     3446\n",
       "Name: k, dtype: int64"
      ]
     },
     "execution_count": 121,
     "metadata": {},
     "output_type": "execute_result"
    }
   ],
   "source": [
    "df_ecom[\"k\"].value_counts()"
   ]
  },
  {
   "cell_type": "code",
   "execution_count": 110,
   "id": "d875e9dd",
   "metadata": {},
   "outputs": [],
   "source": [
    "import matplotlib.pyplot as plt"
   ]
  },
  {
   "cell_type": "code",
   "execution_count": 122,
   "id": "a5f389bd",
   "metadata": {},
   "outputs": [
    {
     "data": {
      "text/plain": [
       "<matplotlib.collections.PathCollection at 0x19c6b5a04c0>"
      ]
     },
     "execution_count": 122,
     "metadata": {},
     "output_type": "execute_result"
    },
    {
     "data": {
      "image/png": "[encoded data removed]",
      "text/plain": [
       "<Figure size 432x288 with 1 Axes>"
      ]
     },
     "metadata": {
      "needs_background": "light"
     },
     "output_type": "display_data"
    }
   ],
   "source": [
    "plt.scatter(df_ecom[\"Montant\"], df_ecom[\"Fréquence\"], c = df_ecom[\"k\"], cmap = plt.cm.Set1)"
   ]
  },
  {
   "cell_type": "code",
   "execution_count": 123,
   "id": "6989c1c4",
   "metadata": {},
   "outputs": [
    {
     "data": {
      "text/plain": [
       "<matplotlib.collections.PathCollection at 0x19c6a189280>"
      ]
     },
     "execution_count": 123,
     "metadata": {},
     "output_type": "execute_result"
    },
    {
     "data": {
      "image/png": "[encoded data removed]",
      "text/plain": [
       "<Figure size 432x288 with 1 Axes>"
      ]
     },
     "metadata": {
      "needs_background": "light"
     },
     "output_type": "display_data"
    }
   ],
   "source": [
    "plt.scatter(df_ecom[\"Montant\"], df_ecom[\"Recency\"], c = df_ecom[\"k\"], cmap = plt.cm.Set1)"
   ]
  },
  {
   "cell_type": "code",
   "execution_count": 119,
   "id": "1b794035",
   "metadata": {},
   "outputs": [
    {
     "data": {
      "text/plain": [
       "<matplotlib.collections.PathCollection at 0x19c6b53b7c0>"
      ]
     },
     "execution_count": 119,
     "metadata": {},
     "output_type": "execute_result"
    },
    {
     "data": {
      "image/png": "[encoded data removed]",
      "text/plain": [
       "<Figure size 432x288 with 1 Axes>"
      ]
     },
     "metadata": {
      "needs_background": "light"
     },
     "output_type": "display_data"
    }
   ],
   "source": [
    "#plt.scatter(df_ecom[\"Montant\"], df_ecom[\"Recency\"], c = df_ecom[\"k\"], cmap = plt.cm.Set1) / 4 cluster "
   ]
  },
  {
   "cell_type": "code",
   "execution_count": 115,
   "id": "e5bf7e65",
   "metadata": {},
   "outputs": [
    {
     "data": {
      "text/plain": [
       "<matplotlib.collections.PathCollection at 0x19c6b484430>"
      ]
     },
     "execution_count": 115,
     "metadata": {},
     "output_type": "execute_result"
    },
    {
     "data": {
      "image/png": "[encoded data removed]",
      "text/plain": [
       "<Figure size 432x288 with 1 Axes>"
      ]
     },
     "metadata": {
      "needs_background": "light"
     },
     "output_type": "display_data"
    }
   ],
   "source": [
    "plt.scatter(df_ecom[\"Recency\"], df_ecom[\"Fréquence\"], c = df_ecom[\"k\"], cmap = plt.cm.Set1)"
   ]
  },
  {
   "cell_type": "code",
   "execution_count": 125,
   "id": "4fd6b7c2",
   "metadata": {},
   "outputs": [],
   "source": [
    "import seaborn as sns"
   ]
  },
  {
   "cell_type": "code",
   "execution_count": 126,
   "id": "21fdd055",
   "metadata": {},
   "outputs": [
    {
     "name": "stderr",
     "output_type": "stream",
     "text": [
      "C:\\Users\\User\\anaconda3\\lib\\site-packages\\seaborn\\_decorators.py:36: FutureWarning: Pass the following variables as keyword args: x, y. From version 0.12, the only valid positional argument will be `data`, and passing other arguments without an explicit keyword will result in an error or misinterpretation.\n",
      "  warnings.warn(\n"
     ]
    },
    {
     "data": {
      "text/plain": [
       "<AxesSubplot:xlabel='k', ylabel='Montant'>"
      ]
     },
     "execution_count": 126,
     "metadata": {},
     "output_type": "execute_result"
    },
    {
     "data": {
      "image/png": "[encoded data removed]",
      "text/plain": [
       "<Figure size 432x288 with 1 Axes>"
      ]
     },
     "metadata": {
      "needs_background": "light"
     },
     "output_type": "display_data"
    }
   ],
   "source": [
    "sns.boxplot(df_ecom.k, df_ecom.Montant)"
   ]
  },
  {
   "cell_type": "code",
   "execution_count": 127,
   "id": "7b9d0bde",
   "metadata": {},
   "outputs": [
    {
     "name": "stderr",
     "output_type": "stream",
     "text": [
      "C:\\Users\\User\\anaconda3\\lib\\site-packages\\seaborn\\_decorators.py:36: FutureWarning: Pass the following variables as keyword args: x, y. From version 0.12, the only valid positional argument will be `data`, and passing other arguments without an explicit keyword will result in an error or misinterpretation.\n",
      "  warnings.warn(\n"
     ]
    },
    {
     "data": {
      "text/plain": [
       "<AxesSubplot:xlabel='k', ylabel='Recency'>"
      ]
     },
     "execution_count": 127,
     "metadata": {},
     "output_type": "execute_result"
    },
    {
     "data": {
      "image/png": "[encoded data removed]",
      "text/plain": [
       "<Figure size 432x288 with 1 Axes>"
      ]
     },
     "metadata": {
      "needs_background": "light"
     },
     "output_type": "display_data"
    }
   ],
   "source": [
    "sns.boxplot(df_ecom.k, df_ecom.Recency)"
   ]
  },
  {
   "cell_type": "code",
   "execution_count": 128,
   "id": "997583df",
   "metadata": {},
   "outputs": [
    {
     "name": "stderr",
     "output_type": "stream",
     "text": [
      "C:\\Users\\User\\anaconda3\\lib\\site-packages\\seaborn\\_decorators.py:36: FutureWarning: Pass the following variables as keyword args: x, y. From version 0.12, the only valid positional argument will be `data`, and passing other arguments without an explicit keyword will result in an error or misinterpretation.\n",
      "  warnings.warn(\n"
     ]
    },
    {
     "data": {
      "text/plain": [
       "<AxesSubplot:xlabel='k', ylabel='Fréquence'>"
      ]
     },
     "execution_count": 128,
     "metadata": {},
     "output_type": "execute_result"
    },
    {
     "data": {
      "image/png": "[encoded data removed]",
      "text/plain": [
       "<Figure size 432x288 with 1 Axes>"
      ]
     },
     "metadata": {
      "needs_background": "light"
     },
     "output_type": "display_data"
    }
   ],
   "source": [
    "sns.boxplot(df_ecom.k, df_ecom.Fréquence)"
   ]
  },
  {
   "cell_type": "markdown",
   "id": "1179193a",
   "metadata": {},
   "source": [
    "Now that you have clusters for each category, explain the different buying behaviors"
   ]
  },
  {
   "cell_type": "code",
   "execution_count": null,
   "id": "cd798bff",
   "metadata": {},
   "outputs": [],
   "source": [
    "# Cluster 1: \n",
    "\n",
    "# Cluster 2: \n",
    "\n",
    "# Cluster 3: "
   ]
  },
  {
   "cell_type": "code",
   "execution_count": 220,
   "id": "25ae537a",
   "metadata": {},
   "outputs": [
    {
     "data": {
      "text/html": [
       "<div>\n",
       "<style scoped>\n",
       "    .dataframe tbody tr th:only-of-type {\n",
       "        vertical-align: middle;\n",
       "    }\n",
       "\n",
       "    .dataframe tbody tr th {\n",
       "        vertical-align: top;\n",
       "    }\n",
       "\n",
       "    .dataframe thead th {\n",
       "        text-align: right;\n",
       "    }\n",
       "</style>\n",
       "<table border=\"1\" class=\"dataframe\">\n",
       "  <thead>\n",
       "    <tr style=\"text-align: right;\">\n",
       "      <th></th>\n",
       "      <th>customer_unique_id</th>\n",
       "      <th>Recency</th>\n",
       "      <th>Montant</th>\n",
       "      <th>Fréquence</th>\n",
       "      <th>k</th>\n",
       "    </tr>\n",
       "  </thead>\n",
       "  <tbody>\n",
       "    <tr>\n",
       "      <th>0</th>\n",
       "      <td>0000366f3b9a7992bf8c76cfdf3221e2</td>\n",
       "      <td>116</td>\n",
       "      <td>141.90</td>\n",
       "      <td>1</td>\n",
       "      <td>0</td>\n",
       "    </tr>\n",
       "    <tr>\n",
       "      <th>1</th>\n",
       "      <td>0000b849f77a49e4a4ce2b2a4ca5be3f</td>\n",
       "      <td>119</td>\n",
       "      <td>27.19</td>\n",
       "      <td>1</td>\n",
       "      <td>0</td>\n",
       "    </tr>\n",
       "    <tr>\n",
       "      <th>2</th>\n",
       "      <td>0000f46a3911fa3c0805444483337064</td>\n",
       "      <td>542</td>\n",
       "      <td>86.22</td>\n",
       "      <td>1</td>\n",
       "      <td>2</td>\n",
       "    </tr>\n",
       "    <tr>\n",
       "      <th>3</th>\n",
       "      <td>0000f6ccb0745a6a4b88665a16c9f078</td>\n",
       "      <td>326</td>\n",
       "      <td>43.62</td>\n",
       "      <td>1</td>\n",
       "      <td>2</td>\n",
       "    </tr>\n",
       "    <tr>\n",
       "      <th>4</th>\n",
       "      <td>0004aac84e0df4da2b147fca70cf8255</td>\n",
       "      <td>293</td>\n",
       "      <td>196.89</td>\n",
       "      <td>1</td>\n",
       "      <td>2</td>\n",
       "    </tr>\n",
       "  </tbody>\n",
       "</table>\n",
       "</div>"
      ],
      "text/plain": [
       "                 customer_unique_id  Recency  Montant  Fréquence  k\n",
       "0  0000366f3b9a7992bf8c76cfdf3221e2      116   141.90          1  0\n",
       "1  0000b849f77a49e4a4ce2b2a4ca5be3f      119    27.19          1  0\n",
       "2  0000f46a3911fa3c0805444483337064      542    86.22          1  2\n",
       "3  0000f6ccb0745a6a4b88665a16c9f078      326    43.62          1  2\n",
       "4  0004aac84e0df4da2b147fca70cf8255      293   196.89          1  2"
      ]
     },
     "execution_count": 220,
     "metadata": {},
     "output_type": "execute_result"
    }
   ],
   "source": [
    "df_ecom.head()"
   ]
  },
  {
   "cell_type": "code",
   "execution_count": 221,
   "id": "7478585a",
   "metadata": {},
   "outputs": [],
   "source": [
    "df_ecom_score = df_ecom.drop(\"k\", axis = 1)"
   ]
  },
  {
   "cell_type": "code",
   "execution_count": 158,
   "id": "ced7d6cb",
   "metadata": {},
   "outputs": [
    {
     "data": {
      "text/html": [
       "<div>\n",
       "<style scoped>\n",
       "    .dataframe tbody tr th:only-of-type {\n",
       "        vertical-align: middle;\n",
       "    }\n",
       "\n",
       "    .dataframe tbody tr th {\n",
       "        vertical-align: top;\n",
       "    }\n",
       "\n",
       "    .dataframe thead th {\n",
       "        text-align: right;\n",
       "    }\n",
       "</style>\n",
       "<table border=\"1\" class=\"dataframe\">\n",
       "  <thead>\n",
       "    <tr style=\"text-align: right;\">\n",
       "      <th></th>\n",
       "      <th>count</th>\n",
       "      <th>mean</th>\n",
       "      <th>std</th>\n",
       "      <th>min</th>\n",
       "      <th>10%</th>\n",
       "      <th>20%</th>\n",
       "      <th>50%</th>\n",
       "      <th>max</th>\n",
       "    </tr>\n",
       "  </thead>\n",
       "  <tbody>\n",
       "    <tr>\n",
       "      <th>Recency</th>\n",
       "      <td>94399.0</td>\n",
       "      <td>242.864162</td>\n",
       "      <td>152.723176</td>\n",
       "      <td>1.0</td>\n",
       "      <td>47.00</td>\n",
       "      <td>97.00</td>\n",
       "      <td>224.0</td>\n",
       "      <td>729.00</td>\n",
       "    </tr>\n",
       "    <tr>\n",
       "      <th>Montant</th>\n",
       "      <td>94399.0</td>\n",
       "      <td>168.250134</td>\n",
       "      <td>232.880460</td>\n",
       "      <td>0.0</td>\n",
       "      <td>40.13</td>\n",
       "      <td>55.37</td>\n",
       "      <td>108.1</td>\n",
       "      <td>13664.08</td>\n",
       "    </tr>\n",
       "    <tr>\n",
       "      <th>Fréquence</th>\n",
       "      <td>94399.0</td>\n",
       "      <td>1.095393</td>\n",
       "      <td>0.530316</td>\n",
       "      <td>0.0</td>\n",
       "      <td>1.00</td>\n",
       "      <td>1.00</td>\n",
       "      <td>1.0</td>\n",
       "      <td>54.00</td>\n",
       "    </tr>\n",
       "    <tr>\n",
       "      <th>R</th>\n",
       "      <td>94399.0</td>\n",
       "      <td>1.406742</td>\n",
       "      <td>0.491228</td>\n",
       "      <td>1.0</td>\n",
       "      <td>1.00</td>\n",
       "      <td>1.00</td>\n",
       "      <td>1.0</td>\n",
       "      <td>2.00</td>\n",
       "    </tr>\n",
       "    <tr>\n",
       "      <th>F</th>\n",
       "      <td>94399.0</td>\n",
       "      <td>1.066569</td>\n",
       "      <td>0.249275</td>\n",
       "      <td>1.0</td>\n",
       "      <td>1.00</td>\n",
       "      <td>1.00</td>\n",
       "      <td>1.0</td>\n",
       "      <td>2.00</td>\n",
       "    </tr>\n",
       "    <tr>\n",
       "      <th>M</th>\n",
       "      <td>94399.0</td>\n",
       "      <td>1.134016</td>\n",
       "      <td>0.340672</td>\n",
       "      <td>1.0</td>\n",
       "      <td>1.00</td>\n",
       "      <td>1.00</td>\n",
       "      <td>1.0</td>\n",
       "      <td>2.00</td>\n",
       "    </tr>\n",
       "  </tbody>\n",
       "</table>\n",
       "</div>"
      ],
      "text/plain": [
       "             count        mean         std  min    10%    20%    50%       max\n",
       "Recency    94399.0  242.864162  152.723176  1.0  47.00  97.00  224.0    729.00\n",
       "Montant    94399.0  168.250134  232.880460  0.0  40.13  55.37  108.1  13664.08\n",
       "Fréquence  94399.0    1.095393    0.530316  0.0   1.00   1.00    1.0     54.00\n",
       "R          94399.0    1.406742    0.491228  1.0   1.00   1.00    1.0      2.00\n",
       "F          94399.0    1.066569    0.249275  1.0   1.00   1.00    1.0      2.00\n",
       "M          94399.0    1.134016    0.340672  1.0   1.00   1.00    1.0      2.00"
      ]
     },
     "execution_count": 158,
     "metadata": {},
     "output_type": "execute_result"
    }
   ],
   "source": [
    "df_ecom_score.describe([0.1, 0.2]).T"
   ]
  },
  {
   "cell_type": "code",
   "execution_count": null,
   "id": "0f865f7f",
   "metadata": {},
   "outputs": [],
   "source": [
    "#Cluster manuel\n",
    "# Montant : < 250 et  > 250 / niveau 1/2\n",
    "# Recency : < 270 et > 270 / Niveau 1 et 2\n",
    "# Fréquence: < 1 et > 1/ Niveau 1 et 2"
   ]
  },
  {
   "cell_type": "code",
   "execution_count": 222,
   "id": "22894f1c",
   "metadata": {},
   "outputs": [
    {
     "data": {
      "text/html": [
       "<div>\n",
       "<style scoped>\n",
       "    .dataframe tbody tr th:only-of-type {\n",
       "        vertical-align: middle;\n",
       "    }\n",
       "\n",
       "    .dataframe tbody tr th {\n",
       "        vertical-align: top;\n",
       "    }\n",
       "\n",
       "    .dataframe thead th {\n",
       "        text-align: right;\n",
       "    }\n",
       "</style>\n",
       "<table border=\"1\" class=\"dataframe\">\n",
       "  <thead>\n",
       "    <tr style=\"text-align: right;\">\n",
       "      <th></th>\n",
       "      <th>customer_unique_id</th>\n",
       "      <th>Recency</th>\n",
       "      <th>Montant</th>\n",
       "      <th>Fréquence</th>\n",
       "      <th>R</th>\n",
       "      <th>F</th>\n",
       "    </tr>\n",
       "  </thead>\n",
       "  <tbody>\n",
       "    <tr>\n",
       "      <th>0</th>\n",
       "      <td>0000366f3b9a7992bf8c76cfdf3221e2</td>\n",
       "      <td>116</td>\n",
       "      <td>141.90</td>\n",
       "      <td>1</td>\n",
       "      <td>2</td>\n",
       "      <td>1</td>\n",
       "    </tr>\n",
       "    <tr>\n",
       "      <th>1</th>\n",
       "      <td>0000b849f77a49e4a4ce2b2a4ca5be3f</td>\n",
       "      <td>119</td>\n",
       "      <td>27.19</td>\n",
       "      <td>1</td>\n",
       "      <td>2</td>\n",
       "      <td>1</td>\n",
       "    </tr>\n",
       "    <tr>\n",
       "      <th>2</th>\n",
       "      <td>0000f46a3911fa3c0805444483337064</td>\n",
       "      <td>542</td>\n",
       "      <td>86.22</td>\n",
       "      <td>1</td>\n",
       "      <td>1</td>\n",
       "      <td>1</td>\n",
       "    </tr>\n",
       "    <tr>\n",
       "      <th>3</th>\n",
       "      <td>0000f6ccb0745a6a4b88665a16c9f078</td>\n",
       "      <td>326</td>\n",
       "      <td>43.62</td>\n",
       "      <td>1</td>\n",
       "      <td>1</td>\n",
       "      <td>1</td>\n",
       "    </tr>\n",
       "    <tr>\n",
       "      <th>4</th>\n",
       "      <td>0004aac84e0df4da2b147fca70cf8255</td>\n",
       "      <td>293</td>\n",
       "      <td>196.89</td>\n",
       "      <td>1</td>\n",
       "      <td>1</td>\n",
       "      <td>1</td>\n",
       "    </tr>\n",
       "  </tbody>\n",
       "</table>\n",
       "</div>"
      ],
      "text/plain": [
       "                 customer_unique_id  Recency  Montant  Fréquence  R  F\n",
       "0  0000366f3b9a7992bf8c76cfdf3221e2      116   141.90          1  2  1\n",
       "1  0000b849f77a49e4a4ce2b2a4ca5be3f      119    27.19          1  2  1\n",
       "2  0000f46a3911fa3c0805444483337064      542    86.22          1  1  1\n",
       "3  0000f6ccb0745a6a4b88665a16c9f078      326    43.62          1  1  1\n",
       "4  0004aac84e0df4da2b147fca70cf8255      293   196.89          1  1  1"
      ]
     },
     "execution_count": 222,
     "metadata": {},
     "output_type": "execute_result"
    }
   ],
   "source": [
    "df_ecom_score[\"R\"] = [1 if x > 270  else 2 for x in df_ecom_score['Recency']]\n",
    "df_ecom_score[\"F\"] = [2 if x > 1  else 1 for x in df_ecom_score['Fréquence']]\n",
    "#df_ecom_score[\"M\"] = [1 if x < 100 3 elif  x > 300 else 2 for x in df_ecom_score['Montant']]\n",
    "df_ecom_score.head()"
   ]
  },
  {
   "cell_type": "code",
   "execution_count": 223,
   "id": "6197a93f",
   "metadata": {},
   "outputs": [],
   "source": [
    "def m_score (x):\n",
    "    if x <= df_ecom_score['Montant'][200]:\n",
    "        return 3\n",
    "    elif x <= df_ecom_score['Montant'][100]:\n",
    "        return 2\n",
    "    else:\n",
    "        return 1"
   ]
  },
  {
   "cell_type": "code",
   "execution_count": 224,
   "id": "24be1a2d",
   "metadata": {},
   "outputs": [],
   "source": [
    "df_ecom_score['M'] = df_ecom_score['Montant'].apply(lambda x: m_score(x))"
   ]
  },
  {
   "cell_type": "code",
   "execution_count": 225,
   "id": "72ac977f",
   "metadata": {},
   "outputs": [
    {
     "data": {
      "text/html": [
       "<div>\n",
       "<style scoped>\n",
       "    .dataframe tbody tr th:only-of-type {\n",
       "        vertical-align: middle;\n",
       "    }\n",
       "\n",
       "    .dataframe tbody tr th {\n",
       "        vertical-align: top;\n",
       "    }\n",
       "\n",
       "    .dataframe thead th {\n",
       "        text-align: right;\n",
       "    }\n",
       "</style>\n",
       "<table border=\"1\" class=\"dataframe\">\n",
       "  <thead>\n",
       "    <tr style=\"text-align: right;\">\n",
       "      <th></th>\n",
       "      <th>customer_unique_id</th>\n",
       "      <th>Recency</th>\n",
       "      <th>Montant</th>\n",
       "      <th>Fréquence</th>\n",
       "      <th>R</th>\n",
       "      <th>F</th>\n",
       "      <th>M</th>\n",
       "      <th>RFM Score</th>\n",
       "    </tr>\n",
       "  </thead>\n",
       "  <tbody>\n",
       "    <tr>\n",
       "      <th>0</th>\n",
       "      <td>0000366f3b9a7992bf8c76cfdf3221e2</td>\n",
       "      <td>116</td>\n",
       "      <td>141.90</td>\n",
       "      <td>1</td>\n",
       "      <td>2</td>\n",
       "      <td>1</td>\n",
       "      <td>1</td>\n",
       "      <td>211</td>\n",
       "    </tr>\n",
       "    <tr>\n",
       "      <th>1</th>\n",
       "      <td>0000b849f77a49e4a4ce2b2a4ca5be3f</td>\n",
       "      <td>119</td>\n",
       "      <td>27.19</td>\n",
       "      <td>1</td>\n",
       "      <td>2</td>\n",
       "      <td>1</td>\n",
       "      <td>3</td>\n",
       "      <td>213</td>\n",
       "    </tr>\n",
       "    <tr>\n",
       "      <th>2</th>\n",
       "      <td>0000f46a3911fa3c0805444483337064</td>\n",
       "      <td>542</td>\n",
       "      <td>86.22</td>\n",
       "      <td>1</td>\n",
       "      <td>1</td>\n",
       "      <td>1</td>\n",
       "      <td>1</td>\n",
       "      <td>111</td>\n",
       "    </tr>\n",
       "    <tr>\n",
       "      <th>3</th>\n",
       "      <td>0000f6ccb0745a6a4b88665a16c9f078</td>\n",
       "      <td>326</td>\n",
       "      <td>43.62</td>\n",
       "      <td>1</td>\n",
       "      <td>1</td>\n",
       "      <td>1</td>\n",
       "      <td>3</td>\n",
       "      <td>113</td>\n",
       "    </tr>\n",
       "    <tr>\n",
       "      <th>4</th>\n",
       "      <td>0004aac84e0df4da2b147fca70cf8255</td>\n",
       "      <td>293</td>\n",
       "      <td>196.89</td>\n",
       "      <td>1</td>\n",
       "      <td>1</td>\n",
       "      <td>1</td>\n",
       "      <td>1</td>\n",
       "      <td>111</td>\n",
       "    </tr>\n",
       "  </tbody>\n",
       "</table>\n",
       "</div>"
      ],
      "text/plain": [
       "                 customer_unique_id  Recency  Montant  Fréquence  R  F  M  \\\n",
       "0  0000366f3b9a7992bf8c76cfdf3221e2      116   141.90          1  2  1  1   \n",
       "1  0000b849f77a49e4a4ce2b2a4ca5be3f      119    27.19          1  2  1  3   \n",
       "2  0000f46a3911fa3c0805444483337064      542    86.22          1  1  1  1   \n",
       "3  0000f6ccb0745a6a4b88665a16c9f078      326    43.62          1  1  1  3   \n",
       "4  0004aac84e0df4da2b147fca70cf8255      293   196.89          1  1  1  1   \n",
       "\n",
       "  RFM Score  \n",
       "0       211  \n",
       "1       213  \n",
       "2       111  \n",
       "3       113  \n",
       "4       111  "
      ]
     },
     "execution_count": 225,
     "metadata": {},
     "output_type": "execute_result"
    }
   ],
   "source": [
    "df_ecom_score['RFM Score'] = df_ecom_score['R'].map(str) + df_ecom_score['F'].map(str) + df_ecom_score['M'].map(str)\n",
    "df_ecom_score.head()"
   ]
  },
  {
   "cell_type": "code",
   "execution_count": 172,
   "id": "47601c67",
   "metadata": {},
   "outputs": [
    {
     "data": {
      "text/plain": [
       "0        211\n",
       "1        213\n",
       "2        111\n",
       "3        113\n",
       "4        111\n",
       "        ... \n",
       "94394    111\n",
       "94395    211\n",
       "94396    111\n",
       "94397    211\n",
       "94398    111\n",
       "Name: RFM Score, Length: 94399, dtype: int32"
      ]
     },
     "execution_count": 172,
     "metadata": {},
     "output_type": "execute_result"
    }
   ],
   "source": [
    "#df_ecom_score[\"RFM Score\"].astype(int)"
   ]
  },
  {
   "cell_type": "code",
   "execution_count": 226,
   "id": "d69b1642",
   "metadata": {},
   "outputs": [
    {
     "data": {
      "text/plain": [
       "123      375\n",
       "223      441\n",
       "121     2221\n",
       "221     3247\n",
       "113     9728\n",
       "213    14160\n",
       "111    26072\n",
       "211    38155\n",
       "Name: RFM Score, dtype: int64"
      ]
     },
     "execution_count": 226,
     "metadata": {},
     "output_type": "execute_result"
    }
   ],
   "source": [
    "df_ecom_score[\"RFM Score\"].value_counts(ascending=True)"
   ]
  },
  {
   "cell_type": "code",
   "execution_count": null,
   "id": "53caa6f5",
   "metadata": {},
   "outputs": [],
   "source": [
    "#Client fidèle\n",
    "#Client Premium \n",
    "#Lost "
   ]
  },
  {
   "cell_type": "code",
   "execution_count": 233,
   "id": "f48e9542",
   "metadata": {},
   "outputs": [],
   "source": [
    "def categ(x):\n",
    "    if x in[\"111\", \"112\"]:\n",
    "        return \"Lost\"\n",
    "    elif x in[\"221\", \"222\"]:\n",
    "         return \"Fidèle\"\n",
    "    elif x in[\"123\", \"223\", \"113\"]:\n",
    "        return \"Premium\"\n",
    "    else:\n",
    "        return \"Lambda\""
   ]
  },
  {
   "cell_type": "code",
   "execution_count": 234,
   "id": "6d70dc9d",
   "metadata": {},
   "outputs": [],
   "source": [
    "df_ecom_score['Caté'] = df_ecom_score['RFM Score'].apply(categ)"
   ]
  },
  {
   "cell_type": "code",
   "execution_count": 235,
   "id": "9317041f",
   "metadata": {},
   "outputs": [
    {
     "data": {
      "text/html": [
       "<div>\n",
       "<style scoped>\n",
       "    .dataframe tbody tr th:only-of-type {\n",
       "        vertical-align: middle;\n",
       "    }\n",
       "\n",
       "    .dataframe tbody tr th {\n",
       "        vertical-align: top;\n",
       "    }\n",
       "\n",
       "    .dataframe thead th {\n",
       "        text-align: right;\n",
       "    }\n",
       "</style>\n",
       "<table border=\"1\" class=\"dataframe\">\n",
       "  <thead>\n",
       "    <tr style=\"text-align: right;\">\n",
       "      <th></th>\n",
       "      <th>customer_unique_id</th>\n",
       "      <th>Recency</th>\n",
       "      <th>Montant</th>\n",
       "      <th>Fréquence</th>\n",
       "      <th>R</th>\n",
       "      <th>F</th>\n",
       "      <th>M</th>\n",
       "      <th>RFM Score</th>\n",
       "      <th>Caté</th>\n",
       "    </tr>\n",
       "  </thead>\n",
       "  <tbody>\n",
       "    <tr>\n",
       "      <th>0</th>\n",
       "      <td>0000366f3b9a7992bf8c76cfdf3221e2</td>\n",
       "      <td>116</td>\n",
       "      <td>141.90</td>\n",
       "      <td>1</td>\n",
       "      <td>2</td>\n",
       "      <td>1</td>\n",
       "      <td>1</td>\n",
       "      <td>211</td>\n",
       "      <td>Lambda</td>\n",
       "    </tr>\n",
       "    <tr>\n",
       "      <th>1</th>\n",
       "      <td>0000b849f77a49e4a4ce2b2a4ca5be3f</td>\n",
       "      <td>119</td>\n",
       "      <td>27.19</td>\n",
       "      <td>1</td>\n",
       "      <td>2</td>\n",
       "      <td>1</td>\n",
       "      <td>3</td>\n",
       "      <td>213</td>\n",
       "      <td>Lambda</td>\n",
       "    </tr>\n",
       "    <tr>\n",
       "      <th>2</th>\n",
       "      <td>0000f46a3911fa3c0805444483337064</td>\n",
       "      <td>542</td>\n",
       "      <td>86.22</td>\n",
       "      <td>1</td>\n",
       "      <td>1</td>\n",
       "      <td>1</td>\n",
       "      <td>1</td>\n",
       "      <td>111</td>\n",
       "      <td>Lost</td>\n",
       "    </tr>\n",
       "    <tr>\n",
       "      <th>3</th>\n",
       "      <td>0000f6ccb0745a6a4b88665a16c9f078</td>\n",
       "      <td>326</td>\n",
       "      <td>43.62</td>\n",
       "      <td>1</td>\n",
       "      <td>1</td>\n",
       "      <td>1</td>\n",
       "      <td>3</td>\n",
       "      <td>113</td>\n",
       "      <td>Premium</td>\n",
       "    </tr>\n",
       "    <tr>\n",
       "      <th>4</th>\n",
       "      <td>0004aac84e0df4da2b147fca70cf8255</td>\n",
       "      <td>293</td>\n",
       "      <td>196.89</td>\n",
       "      <td>1</td>\n",
       "      <td>1</td>\n",
       "      <td>1</td>\n",
       "      <td>1</td>\n",
       "      <td>111</td>\n",
       "      <td>Lost</td>\n",
       "    </tr>\n",
       "  </tbody>\n",
       "</table>\n",
       "</div>"
      ],
      "text/plain": [
       "                 customer_unique_id  Recency  Montant  Fréquence  R  F  M  \\\n",
       "0  0000366f3b9a7992bf8c76cfdf3221e2      116   141.90          1  2  1  1   \n",
       "1  0000b849f77a49e4a4ce2b2a4ca5be3f      119    27.19          1  2  1  3   \n",
       "2  0000f46a3911fa3c0805444483337064      542    86.22          1  1  1  1   \n",
       "3  0000f6ccb0745a6a4b88665a16c9f078      326    43.62          1  1  1  3   \n",
       "4  0004aac84e0df4da2b147fca70cf8255      293   196.89          1  1  1  1   \n",
       "\n",
       "  RFM Score     Caté  \n",
       "0       211   Lambda  \n",
       "1       213   Lambda  \n",
       "2       111     Lost  \n",
       "3       113  Premium  \n",
       "4       111     Lost  "
      ]
     },
     "execution_count": 235,
     "metadata": {},
     "output_type": "execute_result"
    }
   ],
   "source": [
    "df_ecom_score.head()"
   ]
  },
  {
   "cell_type": "code",
   "execution_count": 236,
   "id": "b6043195",
   "metadata": {},
   "outputs": [
    {
     "data": {
      "text/plain": [
       "Lambda     54536\n",
       "Lost       26072\n",
       "Premium    10544\n",
       "Fidèle      3247\n",
       "Name: Caté, dtype: int64"
      ]
     },
     "execution_count": 236,
     "metadata": {},
     "output_type": "execute_result"
    }
   ],
   "source": [
    "df_ecom_score['Caté'].value_counts()"
   ]
  },
  {
   "cell_type": "code",
   "execution_count": 231,
   "id": "77ea767a",
   "metadata": {},
   "outputs": [
    {
     "data": {
      "text/plain": [
       "(array([54536.,     0.,     0., 35800.,     0.,     0.,  3688.,     0.,\n",
       "            0.,   375.]),\n",
       " array([0. , 0.3, 0.6, 0.9, 1.2, 1.5, 1.8, 2.1, 2.4, 2.7, 3. ]),\n",
       " <BarContainer object of 10 artists>)"
      ]
     },
     "execution_count": 231,
     "metadata": {},
     "output_type": "execute_result"
    },
    {
     "data": {
      "image/png": "[encoded data removed]",
      "text/plain": [
       "<Figure size 432x288 with 1 Axes>"
      ]
     },
     "metadata": {
      "needs_background": "light"
     },
     "output_type": "display_data"
    }
   ],
   "source": [
    "import matplotlib.pyplot as plt\n",
    "plt.hist(df_ecom_score['Caté'], rwidth=0.8)"
   ]
  },
  {
   "cell_type": "code",
   "execution_count": 237,
   "id": "f6719d2e",
   "metadata": {},
   "outputs": [
    {
     "data": {
      "image/png": "[encoded data removed]",
      "text/plain": [
       "<Figure size 432x288 with 1 Axes>"
      ]
     },
     "metadata": {
      "needs_background": "light"
     },
     "output_type": "display_data"
    }
   ],
   "source": [
    "# count the number of customers in each segment\n",
    "categ_counts = df_ecom_score['Caté'].value_counts().sort_values(ascending=True)\n",
    "\n",
    "fig, ax = plt.subplots()\n",
    "\n",
    "bars = ax.barh(range(len(categ_counts)),\n",
    "              categ_counts,\n",
    "              color='silver')\n",
    "ax.set_frame_on(False)\n",
    "ax.tick_params(left=False,\n",
    "               bottom=False,\n",
    "               labelbottom=False)\n",
    "ax.set_yticks(range(len(categ_counts)))\n",
    "ax.set_yticklabels(categ_counts.index)\n",
    "\n",
    "for i, bar in enumerate(bars):\n",
    "        value = bar.get_width()\n",
    "        if categ_counts.index[i] in ['Premium']:\n",
    "            bar.set_color('firebrick')\n",
    "        ax.text(value,\n",
    "                bar.get_y() + bar.get_height()/2,\n",
    "                '{:,} ({:}%)'.format(int(value),\n",
    "                                   int(value*100/categ_counts.sum())),\n",
    "                va='center',\n",
    "                ha='left'\n",
    "               )\n",
    "\n",
    "plt.show()"
   ]
  },
  {
   "cell_type": "markdown",
   "id": "35e5c910",
   "metadata": {},
   "source": [
    "# Working with cohorts"
   ]
  },
  {
   "cell_type": "markdown",
   "id": "dfff1220",
   "metadata": {},
   "source": [
    "❓What is a cohort? "
   ]
  },
  {
   "cell_type": "code",
   "execution_count": null,
   "id": "9f5f8678",
   "metadata": {},
   "outputs": [],
   "source": [
    "#Une analyse qui permet de voir le taux de fidélité des clients à travers le temps "
   ]
  },
  {
   "cell_type": "markdown",
   "id": "52799839",
   "metadata": {},
   "source": [
    "❓Why is it interesting to analyse cohorts ? "
   ]
  },
  {
   "cell_type": "code",
   "execution_count": null,
   "id": "28f6d4cd",
   "metadata": {},
   "outputs": [],
   "source": [
    "#Savoir si nos clients reviennent, si oui combien ? et quelle stratégie marketing mettre en place, et suivre les résultats \n",
    "#pour savoir si les stratégies marketing sont efficaces "
   ]
  },
  {
   "cell_type": "markdown",
   "id": "6b920111",
   "metadata": {
    "ExecuteTime": {
     "end_time": "2021-10-02T12:45:56.885240Z",
     "start_time": "2021-10-02T12:45:56.851306Z"
    }
   },
   "source": [
    "❓What data (already existing in the original dataset) do we need to build a cohort? "
   ]
  },
  {
   "cell_type": "code",
   "execution_count": null,
   "id": "6f65f773",
   "metadata": {},
   "outputs": [],
   "source": [
    "#\"customer_unique_id\", \"order_id\", \"order_purchase_timestamp\""
   ]
  },
  {
   "cell_type": "markdown",
   "id": "cc8dda95",
   "metadata": {
    "ExecuteTime": {
     "end_time": "2021-10-02T12:49:04.915097Z",
     "start_time": "2021-10-02T12:49:04.910544Z"
    }
   },
   "source": [
    "Build a new df with just these 3 features"
   ]
  },
  {
   "cell_type": "code",
   "execution_count": 238,
   "id": "f95eb885",
   "metadata": {},
   "outputs": [
    {
     "data": {
      "text/html": [
       "<div>\n",
       "<style scoped>\n",
       "    .dataframe tbody tr th:only-of-type {\n",
       "        vertical-align: middle;\n",
       "    }\n",
       "\n",
       "    .dataframe tbody tr th {\n",
       "        vertical-align: top;\n",
       "    }\n",
       "\n",
       "    .dataframe thead th {\n",
       "        text-align: right;\n",
       "    }\n",
       "</style>\n",
       "<table border=\"1\" class=\"dataframe\">\n",
       "  <thead>\n",
       "    <tr style=\"text-align: right;\">\n",
       "      <th></th>\n",
       "      <th>order_id</th>\n",
       "      <th>order_status</th>\n",
       "      <th>order_purchase_timestamp</th>\n",
       "      <th>order_delivered_customer_date</th>\n",
       "      <th>payment_type</th>\n",
       "      <th>payment_installments</th>\n",
       "      <th>payment_value</th>\n",
       "      <th>review_score</th>\n",
       "      <th>customer_unique_id</th>\n",
       "      <th>customer_zip_code_prefix</th>\n",
       "      <th>customer_city</th>\n",
       "      <th>customer_state</th>\n",
       "      <th>product_category_name_english</th>\n",
       "    </tr>\n",
       "  </thead>\n",
       "  <tbody>\n",
       "    <tr>\n",
       "      <th>0</th>\n",
       "      <td>e481f51cbdc54678b7cc49136f2d6af7</td>\n",
       "      <td>delivered</td>\n",
       "      <td>2017-10-02 10:56:33</td>\n",
       "      <td>2017-10-10 21:25:13</td>\n",
       "      <td>credit_card</td>\n",
       "      <td>1.0</td>\n",
       "      <td>18.12</td>\n",
       "      <td>4</td>\n",
       "      <td>7c396fd4830fd04220f754e42b4e5bff</td>\n",
       "      <td>3149</td>\n",
       "      <td>sao paulo</td>\n",
       "      <td>SP</td>\n",
       "      <td>housewares</td>\n",
       "    </tr>\n",
       "    <tr>\n",
       "      <th>1</th>\n",
       "      <td>e481f51cbdc54678b7cc49136f2d6af7</td>\n",
       "      <td>delivered</td>\n",
       "      <td>2017-10-02 10:56:33</td>\n",
       "      <td>2017-10-10 21:25:13</td>\n",
       "      <td>voucher</td>\n",
       "      <td>1.0</td>\n",
       "      <td>2.00</td>\n",
       "      <td>4</td>\n",
       "      <td>7c396fd4830fd04220f754e42b4e5bff</td>\n",
       "      <td>3149</td>\n",
       "      <td>sao paulo</td>\n",
       "      <td>SP</td>\n",
       "      <td>housewares</td>\n",
       "    </tr>\n",
       "    <tr>\n",
       "      <th>2</th>\n",
       "      <td>e481f51cbdc54678b7cc49136f2d6af7</td>\n",
       "      <td>delivered</td>\n",
       "      <td>2017-10-02 10:56:33</td>\n",
       "      <td>2017-10-10 21:25:13</td>\n",
       "      <td>voucher</td>\n",
       "      <td>1.0</td>\n",
       "      <td>18.59</td>\n",
       "      <td>4</td>\n",
       "      <td>7c396fd4830fd04220f754e42b4e5bff</td>\n",
       "      <td>3149</td>\n",
       "      <td>sao paulo</td>\n",
       "      <td>SP</td>\n",
       "      <td>housewares</td>\n",
       "    </tr>\n",
       "    <tr>\n",
       "      <th>3</th>\n",
       "      <td>53cdb2fc8bc7dce0b6741e2150273451</td>\n",
       "      <td>delivered</td>\n",
       "      <td>2018-07-24 20:41:37</td>\n",
       "      <td>2018-08-07 15:27:45</td>\n",
       "      <td>boleto</td>\n",
       "      <td>1.0</td>\n",
       "      <td>141.46</td>\n",
       "      <td>4</td>\n",
       "      <td>af07308b275d755c9edb36a90c618231</td>\n",
       "      <td>47813</td>\n",
       "      <td>barreiras</td>\n",
       "      <td>BA</td>\n",
       "      <td>perfumery</td>\n",
       "    </tr>\n",
       "    <tr>\n",
       "      <th>4</th>\n",
       "      <td>47770eb9100c2d0c44946d9cf07ec65d</td>\n",
       "      <td>delivered</td>\n",
       "      <td>2018-08-08 08:38:49</td>\n",
       "      <td>2018-08-17 18:06:29</td>\n",
       "      <td>credit_card</td>\n",
       "      <td>3.0</td>\n",
       "      <td>179.12</td>\n",
       "      <td>5</td>\n",
       "      <td>3a653a41f6f9fc3d2a113cf8398680e8</td>\n",
       "      <td>75265</td>\n",
       "      <td>vianopolis</td>\n",
       "      <td>GO</td>\n",
       "      <td>auto</td>\n",
       "    </tr>\n",
       "  </tbody>\n",
       "</table>\n",
       "</div>"
      ],
      "text/plain": [
       "                           order_id order_status order_purchase_timestamp  \\\n",
       "0  e481f51cbdc54678b7cc49136f2d6af7    delivered      2017-10-02 10:56:33   \n",
       "1  e481f51cbdc54678b7cc49136f2d6af7    delivered      2017-10-02 10:56:33   \n",
       "2  e481f51cbdc54678b7cc49136f2d6af7    delivered      2017-10-02 10:56:33   \n",
       "3  53cdb2fc8bc7dce0b6741e2150273451    delivered      2018-07-24 20:41:37   \n",
       "4  47770eb9100c2d0c44946d9cf07ec65d    delivered      2018-08-08 08:38:49   \n",
       "\n",
       "  order_delivered_customer_date payment_type  payment_installments  \\\n",
       "0           2017-10-10 21:25:13  credit_card                   1.0   \n",
       "1           2017-10-10 21:25:13      voucher                   1.0   \n",
       "2           2017-10-10 21:25:13      voucher                   1.0   \n",
       "3           2018-08-07 15:27:45       boleto                   1.0   \n",
       "4           2018-08-17 18:06:29  credit_card                   3.0   \n",
       "\n",
       "   payment_value  review_score                customer_unique_id  \\\n",
       "0          18.12             4  7c396fd4830fd04220f754e42b4e5bff   \n",
       "1           2.00             4  7c396fd4830fd04220f754e42b4e5bff   \n",
       "2          18.59             4  7c396fd4830fd04220f754e42b4e5bff   \n",
       "3         141.46             4  af07308b275d755c9edb36a90c618231   \n",
       "4         179.12             5  3a653a41f6f9fc3d2a113cf8398680e8   \n",
       "\n",
       "   customer_zip_code_prefix customer_city customer_state  \\\n",
       "0                      3149     sao paulo             SP   \n",
       "1                      3149     sao paulo             SP   \n",
       "2                      3149     sao paulo             SP   \n",
       "3                     47813     barreiras             BA   \n",
       "4                     75265    vianopolis             GO   \n",
       "\n",
       "  product_category_name_english  \n",
       "0                    housewares  \n",
       "1                    housewares  \n",
       "2                    housewares  \n",
       "3                     perfumery  \n",
       "4                          auto  "
      ]
     },
     "execution_count": 238,
     "metadata": {},
     "output_type": "execute_result"
    }
   ],
   "source": [
    "df.head()"
   ]
  },
  {
   "cell_type": "code",
   "execution_count": 242,
   "id": "0cca0c76",
   "metadata": {},
   "outputs": [
    {
     "data": {
      "text/html": [
       "<div>\n",
       "<style scoped>\n",
       "    .dataframe tbody tr th:only-of-type {\n",
       "        vertical-align: middle;\n",
       "    }\n",
       "\n",
       "    .dataframe tbody tr th {\n",
       "        vertical-align: top;\n",
       "    }\n",
       "\n",
       "    .dataframe thead th {\n",
       "        text-align: right;\n",
       "    }\n",
       "</style>\n",
       "<table border=\"1\" class=\"dataframe\">\n",
       "  <thead>\n",
       "    <tr style=\"text-align: right;\">\n",
       "      <th></th>\n",
       "      <th>customer_unique_id</th>\n",
       "      <th>order_id</th>\n",
       "      <th>order_purchase_timestamp</th>\n",
       "    </tr>\n",
       "  </thead>\n",
       "  <tbody>\n",
       "    <tr>\n",
       "      <th>0</th>\n",
       "      <td>7c396fd4830fd04220f754e42b4e5bff</td>\n",
       "      <td>e481f51cbdc54678b7cc49136f2d6af7</td>\n",
       "      <td>2017-10-02 10:56:33</td>\n",
       "    </tr>\n",
       "    <tr>\n",
       "      <th>1</th>\n",
       "      <td>7c396fd4830fd04220f754e42b4e5bff</td>\n",
       "      <td>e481f51cbdc54678b7cc49136f2d6af7</td>\n",
       "      <td>2017-10-02 10:56:33</td>\n",
       "    </tr>\n",
       "    <tr>\n",
       "      <th>2</th>\n",
       "      <td>7c396fd4830fd04220f754e42b4e5bff</td>\n",
       "      <td>e481f51cbdc54678b7cc49136f2d6af7</td>\n",
       "      <td>2017-10-02 10:56:33</td>\n",
       "    </tr>\n",
       "    <tr>\n",
       "      <th>3</th>\n",
       "      <td>af07308b275d755c9edb36a90c618231</td>\n",
       "      <td>53cdb2fc8bc7dce0b6741e2150273451</td>\n",
       "      <td>2018-07-24 20:41:37</td>\n",
       "    </tr>\n",
       "    <tr>\n",
       "      <th>4</th>\n",
       "      <td>3a653a41f6f9fc3d2a113cf8398680e8</td>\n",
       "      <td>47770eb9100c2d0c44946d9cf07ec65d</td>\n",
       "      <td>2018-08-08 08:38:49</td>\n",
       "    </tr>\n",
       "  </tbody>\n",
       "</table>\n",
       "</div>"
      ],
      "text/plain": [
       "                 customer_unique_id                          order_id  \\\n",
       "0  7c396fd4830fd04220f754e42b4e5bff  e481f51cbdc54678b7cc49136f2d6af7   \n",
       "1  7c396fd4830fd04220f754e42b4e5bff  e481f51cbdc54678b7cc49136f2d6af7   \n",
       "2  7c396fd4830fd04220f754e42b4e5bff  e481f51cbdc54678b7cc49136f2d6af7   \n",
       "3  af07308b275d755c9edb36a90c618231  53cdb2fc8bc7dce0b6741e2150273451   \n",
       "4  3a653a41f6f9fc3d2a113cf8398680e8  47770eb9100c2d0c44946d9cf07ec65d   \n",
       "\n",
       "  order_purchase_timestamp  \n",
       "0      2017-10-02 10:56:33  \n",
       "1      2017-10-02 10:56:33  \n",
       "2      2017-10-02 10:56:33  \n",
       "3      2018-07-24 20:41:37  \n",
       "4      2018-08-08 08:38:49  "
      ]
     },
     "execution_count": 242,
     "metadata": {},
     "output_type": "execute_result"
    }
   ],
   "source": [
    "df_cohort = df[[\"customer_unique_id\", \"order_id\", \"order_purchase_timestamp\"]]\n",
    "df_cohort.head()"
   ]
  },
  {
   "cell_type": "markdown",
   "id": "51ebf23b",
   "metadata": {},
   "source": [
    "Using the `pandas.Serie.dt.to_period()` methode, create a new feature converting `order_purchase_timestamp` in months"
   ]
  },
  {
   "cell_type": "code",
   "execution_count": 243,
   "id": "bdcf3e15",
   "metadata": {},
   "outputs": [
    {
     "name": "stderr",
     "output_type": "stream",
     "text": [
      "<ipython-input-243-901b01aa010c>:1: SettingWithCopyWarning: \n",
      "A value is trying to be set on a copy of a slice from a DataFrame.\n",
      "Try using .loc[row_indexer,col_indexer] = value instead\n",
      "\n",
      "See the caveats in the documentation: https://pandas.pydata.org/pandas-docs/stable/user_guide/indexing.html#returning-a-view-versus-a-copy\n",
      "  df_cohort[\"order_time_month\"] = df_cohort[\"order_purchase_timestamp\"].dt.to_period(\"M\")\n"
     ]
    }
   ],
   "source": [
    "df_cohort[\"order_time_month\"] = df_cohort[\"order_purchase_timestamp\"].dt.to_period(\"M\")"
   ]
  },
  {
   "cell_type": "code",
   "execution_count": 249,
   "id": "ae0db5df",
   "metadata": {},
   "outputs": [
    {
     "data": {
      "text/html": [
       "<div>\n",
       "<style scoped>\n",
       "    .dataframe tbody tr th:only-of-type {\n",
       "        vertical-align: middle;\n",
       "    }\n",
       "\n",
       "    .dataframe tbody tr th {\n",
       "        vertical-align: top;\n",
       "    }\n",
       "\n",
       "    .dataframe thead th {\n",
       "        text-align: right;\n",
       "    }\n",
       "</style>\n",
       "<table border=\"1\" class=\"dataframe\">\n",
       "  <thead>\n",
       "    <tr style=\"text-align: right;\">\n",
       "      <th></th>\n",
       "      <th>customer_unique_id</th>\n",
       "      <th>order_id</th>\n",
       "      <th>order_purchase_timestamp</th>\n",
       "      <th>order_time_month</th>\n",
       "    </tr>\n",
       "  </thead>\n",
       "  <tbody>\n",
       "    <tr>\n",
       "      <th>0</th>\n",
       "      <td>7c396fd4830fd04220f754e42b4e5bff</td>\n",
       "      <td>e481f51cbdc54678b7cc49136f2d6af7</td>\n",
       "      <td>2017-10-02 10:56:33</td>\n",
       "      <td>2017-10</td>\n",
       "    </tr>\n",
       "    <tr>\n",
       "      <th>1</th>\n",
       "      <td>7c396fd4830fd04220f754e42b4e5bff</td>\n",
       "      <td>e481f51cbdc54678b7cc49136f2d6af7</td>\n",
       "      <td>2017-10-02 10:56:33</td>\n",
       "      <td>2017-10</td>\n",
       "    </tr>\n",
       "    <tr>\n",
       "      <th>2</th>\n",
       "      <td>7c396fd4830fd04220f754e42b4e5bff</td>\n",
       "      <td>e481f51cbdc54678b7cc49136f2d6af7</td>\n",
       "      <td>2017-10-02 10:56:33</td>\n",
       "      <td>2017-10</td>\n",
       "    </tr>\n",
       "    <tr>\n",
       "      <th>3</th>\n",
       "      <td>af07308b275d755c9edb36a90c618231</td>\n",
       "      <td>53cdb2fc8bc7dce0b6741e2150273451</td>\n",
       "      <td>2018-07-24 20:41:37</td>\n",
       "      <td>2018-07</td>\n",
       "    </tr>\n",
       "    <tr>\n",
       "      <th>4</th>\n",
       "      <td>3a653a41f6f9fc3d2a113cf8398680e8</td>\n",
       "      <td>47770eb9100c2d0c44946d9cf07ec65d</td>\n",
       "      <td>2018-08-08 08:38:49</td>\n",
       "      <td>2018-08</td>\n",
       "    </tr>\n",
       "  </tbody>\n",
       "</table>\n",
       "</div>"
      ],
      "text/plain": [
       "                 customer_unique_id                          order_id  \\\n",
       "0  7c396fd4830fd04220f754e42b4e5bff  e481f51cbdc54678b7cc49136f2d6af7   \n",
       "1  7c396fd4830fd04220f754e42b4e5bff  e481f51cbdc54678b7cc49136f2d6af7   \n",
       "2  7c396fd4830fd04220f754e42b4e5bff  e481f51cbdc54678b7cc49136f2d6af7   \n",
       "3  af07308b275d755c9edb36a90c618231  53cdb2fc8bc7dce0b6741e2150273451   \n",
       "4  3a653a41f6f9fc3d2a113cf8398680e8  47770eb9100c2d0c44946d9cf07ec65d   \n",
       "\n",
       "  order_purchase_timestamp order_time_month  \n",
       "0      2017-10-02 10:56:33          2017-10  \n",
       "1      2017-10-02 10:56:33          2017-10  \n",
       "2      2017-10-02 10:56:33          2017-10  \n",
       "3      2018-07-24 20:41:37          2018-07  \n",
       "4      2018-08-08 08:38:49          2018-08  "
      ]
     },
     "execution_count": 249,
     "metadata": {},
     "output_type": "execute_result"
    }
   ],
   "source": [
    "df_cohort.head()"
   ]
  },
  {
   "cell_type": "markdown",
   "id": "453dcc64",
   "metadata": {},
   "source": [
    "Create a new feature called `cohort` by grouping the previous df by `customer_unique_id`, and tranforming it's minimum value in months (with the same `pandas.Serie.dt.to_period()` as before)"
   ]
  },
  {
   "cell_type": "code",
   "execution_count": 279,
   "id": "b3b5565e",
   "metadata": {},
   "outputs": [],
   "source": [
    "df_c = df_cohort.copy()"
   ]
  },
  {
   "cell_type": "code",
   "execution_count": 280,
   "id": "dad9a48f",
   "metadata": {},
   "outputs": [
    {
     "data": {
      "text/html": [
       "<div>\n",
       "<style scoped>\n",
       "    .dataframe tbody tr th:only-of-type {\n",
       "        vertical-align: middle;\n",
       "    }\n",
       "\n",
       "    .dataframe tbody tr th {\n",
       "        vertical-align: top;\n",
       "    }\n",
       "\n",
       "    .dataframe thead th {\n",
       "        text-align: right;\n",
       "    }\n",
       "</style>\n",
       "<table border=\"1\" class=\"dataframe\">\n",
       "  <thead>\n",
       "    <tr style=\"text-align: right;\">\n",
       "      <th></th>\n",
       "      <th>customer_unique_id</th>\n",
       "      <th>order_id</th>\n",
       "      <th>order_purchase_timestamp</th>\n",
       "      <th>order_time_month</th>\n",
       "    </tr>\n",
       "  </thead>\n",
       "  <tbody>\n",
       "    <tr>\n",
       "      <th>0</th>\n",
       "      <td>7c396fd4830fd04220f754e42b4e5bff</td>\n",
       "      <td>e481f51cbdc54678b7cc49136f2d6af7</td>\n",
       "      <td>2017-10-02 10:56:33</td>\n",
       "      <td>2017-10</td>\n",
       "    </tr>\n",
       "    <tr>\n",
       "      <th>1</th>\n",
       "      <td>7c396fd4830fd04220f754e42b4e5bff</td>\n",
       "      <td>e481f51cbdc54678b7cc49136f2d6af7</td>\n",
       "      <td>2017-10-02 10:56:33</td>\n",
       "      <td>2017-10</td>\n",
       "    </tr>\n",
       "    <tr>\n",
       "      <th>2</th>\n",
       "      <td>7c396fd4830fd04220f754e42b4e5bff</td>\n",
       "      <td>e481f51cbdc54678b7cc49136f2d6af7</td>\n",
       "      <td>2017-10-02 10:56:33</td>\n",
       "      <td>2017-10</td>\n",
       "    </tr>\n",
       "    <tr>\n",
       "      <th>3</th>\n",
       "      <td>af07308b275d755c9edb36a90c618231</td>\n",
       "      <td>53cdb2fc8bc7dce0b6741e2150273451</td>\n",
       "      <td>2018-07-24 20:41:37</td>\n",
       "      <td>2018-07</td>\n",
       "    </tr>\n",
       "    <tr>\n",
       "      <th>4</th>\n",
       "      <td>3a653a41f6f9fc3d2a113cf8398680e8</td>\n",
       "      <td>47770eb9100c2d0c44946d9cf07ec65d</td>\n",
       "      <td>2018-08-08 08:38:49</td>\n",
       "      <td>2018-08</td>\n",
       "    </tr>\n",
       "    <tr>\n",
       "      <th>...</th>\n",
       "      <td>...</td>\n",
       "      <td>...</td>\n",
       "      <td>...</td>\n",
       "      <td>...</td>\n",
       "    </tr>\n",
       "    <tr>\n",
       "      <th>105378</th>\n",
       "      <td>6359f309b166b0196dbf7ad2ac62bb5a</td>\n",
       "      <td>9c5dedf39a927c1b2549525ed64a053c</td>\n",
       "      <td>2017-03-09 09:54:05</td>\n",
       "      <td>2017-03</td>\n",
       "    </tr>\n",
       "    <tr>\n",
       "      <th>105379</th>\n",
       "      <td>da62f9e57a76d978d02ab5362c509660</td>\n",
       "      <td>63943bddc261676b46f01ca7ac2f7bd8</td>\n",
       "      <td>2018-02-06 12:58:58</td>\n",
       "      <td>2018-02</td>\n",
       "    </tr>\n",
       "    <tr>\n",
       "      <th>105380</th>\n",
       "      <td>737520a9aad80b3fbbdad19b66b37b30</td>\n",
       "      <td>83c1379a015df1e13d02aae0204711ab</td>\n",
       "      <td>2017-08-27 14:46:43</td>\n",
       "      <td>2017-08</td>\n",
       "    </tr>\n",
       "    <tr>\n",
       "      <th>105381</th>\n",
       "      <td>5097a5312c8b157bb7be58ae360ef43c</td>\n",
       "      <td>11c177c8e97725db2631073c19f07b62</td>\n",
       "      <td>2018-01-08 21:28:27</td>\n",
       "      <td>2018-01</td>\n",
       "    </tr>\n",
       "    <tr>\n",
       "      <th>105382</th>\n",
       "      <td>60350aa974b26ff12caad89e55993bd6</td>\n",
       "      <td>66dea50a8b16d9b4dee7af250b4be1a5</td>\n",
       "      <td>2018-03-08 20:57:30</td>\n",
       "      <td>2018-03</td>\n",
       "    </tr>\n",
       "  </tbody>\n",
       "</table>\n",
       "<p>103405 rows × 4 columns</p>\n",
       "</div>"
      ],
      "text/plain": [
       "                      customer_unique_id                          order_id  \\\n",
       "0       7c396fd4830fd04220f754e42b4e5bff  e481f51cbdc54678b7cc49136f2d6af7   \n",
       "1       7c396fd4830fd04220f754e42b4e5bff  e481f51cbdc54678b7cc49136f2d6af7   \n",
       "2       7c396fd4830fd04220f754e42b4e5bff  e481f51cbdc54678b7cc49136f2d6af7   \n",
       "3       af07308b275d755c9edb36a90c618231  53cdb2fc8bc7dce0b6741e2150273451   \n",
       "4       3a653a41f6f9fc3d2a113cf8398680e8  47770eb9100c2d0c44946d9cf07ec65d   \n",
       "...                                  ...                               ...   \n",
       "105378  6359f309b166b0196dbf7ad2ac62bb5a  9c5dedf39a927c1b2549525ed64a053c   \n",
       "105379  da62f9e57a76d978d02ab5362c509660  63943bddc261676b46f01ca7ac2f7bd8   \n",
       "105380  737520a9aad80b3fbbdad19b66b37b30  83c1379a015df1e13d02aae0204711ab   \n",
       "105381  5097a5312c8b157bb7be58ae360ef43c  11c177c8e97725db2631073c19f07b62   \n",
       "105382  60350aa974b26ff12caad89e55993bd6  66dea50a8b16d9b4dee7af250b4be1a5   \n",
       "\n",
       "       order_purchase_timestamp order_time_month  \n",
       "0           2017-10-02 10:56:33          2017-10  \n",
       "1           2017-10-02 10:56:33          2017-10  \n",
       "2           2017-10-02 10:56:33          2017-10  \n",
       "3           2018-07-24 20:41:37          2018-07  \n",
       "4           2018-08-08 08:38:49          2018-08  \n",
       "...                         ...              ...  \n",
       "105378      2017-03-09 09:54:05          2017-03  \n",
       "105379      2018-02-06 12:58:58          2018-02  \n",
       "105380      2017-08-27 14:46:43          2017-08  \n",
       "105381      2018-01-08 21:28:27          2018-01  \n",
       "105382      2018-03-08 20:57:30          2018-03  \n",
       "\n",
       "[103405 rows x 4 columns]"
      ]
     },
     "execution_count": 280,
     "metadata": {},
     "output_type": "execute_result"
    }
   ],
   "source": [
    "df_c"
   ]
  },
  {
   "cell_type": "code",
   "execution_count": 281,
   "id": "3a6a8791",
   "metadata": {
    "ExecuteTime": {
     "end_time": "2021-10-03T11:52:19.937302Z",
     "start_time": "2021-10-03T11:52:19.447211Z"
    }
   },
   "outputs": [],
   "source": [
    "# For the teachers, To filter by only the customer that have done 2 or more purchases\n",
    "df_more =pd.DataFrame(df_c.groupby('customer_unique_id').size()[df_c.groupby('customer_unique_id').size() > 1])\n",
    "df_c = df_c.merge(df_more, how='left', on='customer_unique_id').rename(columns={0:'na'})\n",
    "\n",
    "df_c = df_c[df_c['na'].notna()]"
   ]
  },
  {
   "cell_type": "code",
   "execution_count": null,
   "id": "da07c0e8",
   "metadata": {},
   "outputs": [],
   "source": [
    "# Créer un dataframe en filtrant les users qui ont commandé au moins 2 fois (et plus)\n",
    "# Faire une left join entre le df de base(avec toutes les lignes) et celui filtré , \n",
    "# nouvelle colonne avec soit na soit \"vide\"\n",
    "# Droper les colonnes vides "
   ]
  },
  {
   "cell_type": "code",
   "execution_count": 282,
   "id": "8344282e",
   "metadata": {},
   "outputs": [
    {
     "data": {
      "text/html": [
       "<div>\n",
       "<style scoped>\n",
       "    .dataframe tbody tr th:only-of-type {\n",
       "        vertical-align: middle;\n",
       "    }\n",
       "\n",
       "    .dataframe tbody tr th {\n",
       "        vertical-align: top;\n",
       "    }\n",
       "\n",
       "    .dataframe thead th {\n",
       "        text-align: right;\n",
       "    }\n",
       "</style>\n",
       "<table border=\"1\" class=\"dataframe\">\n",
       "  <thead>\n",
       "    <tr style=\"text-align: right;\">\n",
       "      <th></th>\n",
       "      <th>customer_unique_id</th>\n",
       "      <th>order_id</th>\n",
       "      <th>order_purchase_timestamp</th>\n",
       "      <th>order_time_month</th>\n",
       "      <th>na</th>\n",
       "    </tr>\n",
       "  </thead>\n",
       "  <tbody>\n",
       "    <tr>\n",
       "      <th>0</th>\n",
       "      <td>7c396fd4830fd04220f754e42b4e5bff</td>\n",
       "      <td>e481f51cbdc54678b7cc49136f2d6af7</td>\n",
       "      <td>2017-10-02 10:56:33</td>\n",
       "      <td>2017-10</td>\n",
       "      <td>4.0</td>\n",
       "    </tr>\n",
       "    <tr>\n",
       "      <th>1</th>\n",
       "      <td>7c396fd4830fd04220f754e42b4e5bff</td>\n",
       "      <td>e481f51cbdc54678b7cc49136f2d6af7</td>\n",
       "      <td>2017-10-02 10:56:33</td>\n",
       "      <td>2017-10</td>\n",
       "      <td>4.0</td>\n",
       "    </tr>\n",
       "    <tr>\n",
       "      <th>2</th>\n",
       "      <td>7c396fd4830fd04220f754e42b4e5bff</td>\n",
       "      <td>e481f51cbdc54678b7cc49136f2d6af7</td>\n",
       "      <td>2017-10-02 10:56:33</td>\n",
       "      <td>2017-10</td>\n",
       "      <td>4.0</td>\n",
       "    </tr>\n",
       "    <tr>\n",
       "      <th>10</th>\n",
       "      <td>299905e3934e9e181bfb2e164dd4b4f8</td>\n",
       "      <td>e69bfb5eb88e0ed6a785585b27e16dbf</td>\n",
       "      <td>2017-07-29 11:55:02</td>\n",
       "      <td>2017-07</td>\n",
       "      <td>2.0</td>\n",
       "    </tr>\n",
       "    <tr>\n",
       "      <th>11</th>\n",
       "      <td>299905e3934e9e181bfb2e164dd4b4f8</td>\n",
       "      <td>e69bfb5eb88e0ed6a785585b27e16dbf</td>\n",
       "      <td>2017-07-29 11:55:02</td>\n",
       "      <td>2017-07</td>\n",
       "      <td>2.0</td>\n",
       "    </tr>\n",
       "    <tr>\n",
       "      <th>...</th>\n",
       "      <td>...</td>\n",
       "      <td>...</td>\n",
       "      <td>...</td>\n",
       "      <td>...</td>\n",
       "      <td>...</td>\n",
       "    </tr>\n",
       "    <tr>\n",
       "      <th>103389</th>\n",
       "      <td>9e4accf95024aa6565ca1efcadb96752</td>\n",
       "      <td>19dba6d1e58b04e7fc820558a38ea398</td>\n",
       "      <td>2018-05-12 13:42:24</td>\n",
       "      <td>2018-05</td>\n",
       "      <td>2.0</td>\n",
       "    </tr>\n",
       "    <tr>\n",
       "      <th>103395</th>\n",
       "      <td>c716cf2b5b86fb24257cffe9e7969df8</td>\n",
       "      <td>9115830be804184b91f5c00f6f49f92d</td>\n",
       "      <td>2017-10-04 19:57:37</td>\n",
       "      <td>2017-10</td>\n",
       "      <td>2.0</td>\n",
       "    </tr>\n",
       "    <tr>\n",
       "      <th>103396</th>\n",
       "      <td>c716cf2b5b86fb24257cffe9e7969df8</td>\n",
       "      <td>9115830be804184b91f5c00f6f49f92d</td>\n",
       "      <td>2017-10-04 19:57:37</td>\n",
       "      <td>2017-10</td>\n",
       "      <td>2.0</td>\n",
       "    </tr>\n",
       "    <tr>\n",
       "      <th>103397</th>\n",
       "      <td>e03dbdf5e56c96b106d8115ac336f47f</td>\n",
       "      <td>aa04ef5214580b06b10e2a378300db44</td>\n",
       "      <td>2017-01-27 00:30:03</td>\n",
       "      <td>2017-01</td>\n",
       "      <td>2.0</td>\n",
       "    </tr>\n",
       "    <tr>\n",
       "      <th>103398</th>\n",
       "      <td>e03dbdf5e56c96b106d8115ac336f47f</td>\n",
       "      <td>aa04ef5214580b06b10e2a378300db44</td>\n",
       "      <td>2017-01-27 00:30:03</td>\n",
       "      <td>2017-01</td>\n",
       "      <td>2.0</td>\n",
       "    </tr>\n",
       "  </tbody>\n",
       "</table>\n",
       "<p>15290 rows × 5 columns</p>\n",
       "</div>"
      ],
      "text/plain": [
       "                      customer_unique_id                          order_id  \\\n",
       "0       7c396fd4830fd04220f754e42b4e5bff  e481f51cbdc54678b7cc49136f2d6af7   \n",
       "1       7c396fd4830fd04220f754e42b4e5bff  e481f51cbdc54678b7cc49136f2d6af7   \n",
       "2       7c396fd4830fd04220f754e42b4e5bff  e481f51cbdc54678b7cc49136f2d6af7   \n",
       "10      299905e3934e9e181bfb2e164dd4b4f8  e69bfb5eb88e0ed6a785585b27e16dbf   \n",
       "11      299905e3934e9e181bfb2e164dd4b4f8  e69bfb5eb88e0ed6a785585b27e16dbf   \n",
       "...                                  ...                               ...   \n",
       "103389  9e4accf95024aa6565ca1efcadb96752  19dba6d1e58b04e7fc820558a38ea398   \n",
       "103395  c716cf2b5b86fb24257cffe9e7969df8  9115830be804184b91f5c00f6f49f92d   \n",
       "103396  c716cf2b5b86fb24257cffe9e7969df8  9115830be804184b91f5c00f6f49f92d   \n",
       "103397  e03dbdf5e56c96b106d8115ac336f47f  aa04ef5214580b06b10e2a378300db44   \n",
       "103398  e03dbdf5e56c96b106d8115ac336f47f  aa04ef5214580b06b10e2a378300db44   \n",
       "\n",
       "       order_purchase_timestamp order_time_month   na  \n",
       "0           2017-10-02 10:56:33          2017-10  4.0  \n",
       "1           2017-10-02 10:56:33          2017-10  4.0  \n",
       "2           2017-10-02 10:56:33          2017-10  4.0  \n",
       "10          2017-07-29 11:55:02          2017-07  2.0  \n",
       "11          2017-07-29 11:55:02          2017-07  2.0  \n",
       "...                         ...              ...  ...  \n",
       "103389      2018-05-12 13:42:24          2018-05  2.0  \n",
       "103395      2017-10-04 19:57:37          2017-10  2.0  \n",
       "103396      2017-10-04 19:57:37          2017-10  2.0  \n",
       "103397      2017-01-27 00:30:03          2017-01  2.0  \n",
       "103398      2017-01-27 00:30:03          2017-01  2.0  \n",
       "\n",
       "[15290 rows x 5 columns]"
      ]
     },
     "execution_count": 282,
     "metadata": {},
     "output_type": "execute_result"
    }
   ],
   "source": [
    "df_c"
   ]
  },
  {
   "cell_type": "code",
   "execution_count": null,
   "id": "704f537e",
   "metadata": {},
   "outputs": [],
   "source": []
  },
  {
   "cell_type": "code",
   "execution_count": 283,
   "id": "264aa77d",
   "metadata": {
    "ExecuteTime": {
     "end_time": "2021-10-03T12:08:07.300810Z",
     "start_time": "2021-10-03T12:08:07.081691Z"
    }
   },
   "outputs": [
    {
     "data": {
      "text/html": [
       "<div>\n",
       "<style scoped>\n",
       "    .dataframe tbody tr th:only-of-type {\n",
       "        vertical-align: middle;\n",
       "    }\n",
       "\n",
       "    .dataframe tbody tr th {\n",
       "        vertical-align: top;\n",
       "    }\n",
       "\n",
       "    .dataframe thead th {\n",
       "        text-align: right;\n",
       "    }\n",
       "</style>\n",
       "<table border=\"1\" class=\"dataframe\">\n",
       "  <thead>\n",
       "    <tr style=\"text-align: right;\">\n",
       "      <th></th>\n",
       "      <th>customer_unique_id</th>\n",
       "      <th>order_id</th>\n",
       "      <th>order_purchase_timestamp</th>\n",
       "      <th>order_time_month</th>\n",
       "      <th>na</th>\n",
       "      <th>cohort</th>\n",
       "    </tr>\n",
       "  </thead>\n",
       "  <tbody>\n",
       "    <tr>\n",
       "      <th>0</th>\n",
       "      <td>7c396fd4830fd04220f754e42b4e5bff</td>\n",
       "      <td>e481f51cbdc54678b7cc49136f2d6af7</td>\n",
       "      <td>2017-10-02 10:56:33</td>\n",
       "      <td>2017-10</td>\n",
       "      <td>4.0</td>\n",
       "      <td>2017-09</td>\n",
       "    </tr>\n",
       "    <tr>\n",
       "      <th>1</th>\n",
       "      <td>7c396fd4830fd04220f754e42b4e5bff</td>\n",
       "      <td>e481f51cbdc54678b7cc49136f2d6af7</td>\n",
       "      <td>2017-10-02 10:56:33</td>\n",
       "      <td>2017-10</td>\n",
       "      <td>4.0</td>\n",
       "      <td>2017-09</td>\n",
       "    </tr>\n",
       "    <tr>\n",
       "      <th>2</th>\n",
       "      <td>7c396fd4830fd04220f754e42b4e5bff</td>\n",
       "      <td>e481f51cbdc54678b7cc49136f2d6af7</td>\n",
       "      <td>2017-10-02 10:56:33</td>\n",
       "      <td>2017-10</td>\n",
       "      <td>4.0</td>\n",
       "      <td>2017-09</td>\n",
       "    </tr>\n",
       "    <tr>\n",
       "      <th>10</th>\n",
       "      <td>299905e3934e9e181bfb2e164dd4b4f8</td>\n",
       "      <td>e69bfb5eb88e0ed6a785585b27e16dbf</td>\n",
       "      <td>2017-07-29 11:55:02</td>\n",
       "      <td>2017-07</td>\n",
       "      <td>2.0</td>\n",
       "      <td>2017-07</td>\n",
       "    </tr>\n",
       "    <tr>\n",
       "      <th>11</th>\n",
       "      <td>299905e3934e9e181bfb2e164dd4b4f8</td>\n",
       "      <td>e69bfb5eb88e0ed6a785585b27e16dbf</td>\n",
       "      <td>2017-07-29 11:55:02</td>\n",
       "      <td>2017-07</td>\n",
       "      <td>2.0</td>\n",
       "      <td>2017-07</td>\n",
       "    </tr>\n",
       "    <tr>\n",
       "      <th>...</th>\n",
       "      <td>...</td>\n",
       "      <td>...</td>\n",
       "      <td>...</td>\n",
       "      <td>...</td>\n",
       "      <td>...</td>\n",
       "      <td>...</td>\n",
       "    </tr>\n",
       "    <tr>\n",
       "      <th>103389</th>\n",
       "      <td>9e4accf95024aa6565ca1efcadb96752</td>\n",
       "      <td>19dba6d1e58b04e7fc820558a38ea398</td>\n",
       "      <td>2018-05-12 13:42:24</td>\n",
       "      <td>2018-05</td>\n",
       "      <td>2.0</td>\n",
       "      <td>2017-09</td>\n",
       "    </tr>\n",
       "    <tr>\n",
       "      <th>103395</th>\n",
       "      <td>c716cf2b5b86fb24257cffe9e7969df8</td>\n",
       "      <td>9115830be804184b91f5c00f6f49f92d</td>\n",
       "      <td>2017-10-04 19:57:37</td>\n",
       "      <td>2017-10</td>\n",
       "      <td>2.0</td>\n",
       "      <td>2017-10</td>\n",
       "    </tr>\n",
       "    <tr>\n",
       "      <th>103396</th>\n",
       "      <td>c716cf2b5b86fb24257cffe9e7969df8</td>\n",
       "      <td>9115830be804184b91f5c00f6f49f92d</td>\n",
       "      <td>2017-10-04 19:57:37</td>\n",
       "      <td>2017-10</td>\n",
       "      <td>2.0</td>\n",
       "      <td>2017-10</td>\n",
       "    </tr>\n",
       "    <tr>\n",
       "      <th>103397</th>\n",
       "      <td>e03dbdf5e56c96b106d8115ac336f47f</td>\n",
       "      <td>aa04ef5214580b06b10e2a378300db44</td>\n",
       "      <td>2017-01-27 00:30:03</td>\n",
       "      <td>2017-01</td>\n",
       "      <td>2.0</td>\n",
       "      <td>2017-01</td>\n",
       "    </tr>\n",
       "    <tr>\n",
       "      <th>103398</th>\n",
       "      <td>e03dbdf5e56c96b106d8115ac336f47f</td>\n",
       "      <td>aa04ef5214580b06b10e2a378300db44</td>\n",
       "      <td>2017-01-27 00:30:03</td>\n",
       "      <td>2017-01</td>\n",
       "      <td>2.0</td>\n",
       "      <td>2017-01</td>\n",
       "    </tr>\n",
       "  </tbody>\n",
       "</table>\n",
       "<p>15290 rows × 6 columns</p>\n",
       "</div>"
      ],
      "text/plain": [
       "                      customer_unique_id                          order_id  \\\n",
       "0       7c396fd4830fd04220f754e42b4e5bff  e481f51cbdc54678b7cc49136f2d6af7   \n",
       "1       7c396fd4830fd04220f754e42b4e5bff  e481f51cbdc54678b7cc49136f2d6af7   \n",
       "2       7c396fd4830fd04220f754e42b4e5bff  e481f51cbdc54678b7cc49136f2d6af7   \n",
       "10      299905e3934e9e181bfb2e164dd4b4f8  e69bfb5eb88e0ed6a785585b27e16dbf   \n",
       "11      299905e3934e9e181bfb2e164dd4b4f8  e69bfb5eb88e0ed6a785585b27e16dbf   \n",
       "...                                  ...                               ...   \n",
       "103389  9e4accf95024aa6565ca1efcadb96752  19dba6d1e58b04e7fc820558a38ea398   \n",
       "103395  c716cf2b5b86fb24257cffe9e7969df8  9115830be804184b91f5c00f6f49f92d   \n",
       "103396  c716cf2b5b86fb24257cffe9e7969df8  9115830be804184b91f5c00f6f49f92d   \n",
       "103397  e03dbdf5e56c96b106d8115ac336f47f  aa04ef5214580b06b10e2a378300db44   \n",
       "103398  e03dbdf5e56c96b106d8115ac336f47f  aa04ef5214580b06b10e2a378300db44   \n",
       "\n",
       "       order_purchase_timestamp order_time_month   na   cohort  \n",
       "0           2017-10-02 10:56:33          2017-10  4.0  2017-09  \n",
       "1           2017-10-02 10:56:33          2017-10  4.0  2017-09  \n",
       "2           2017-10-02 10:56:33          2017-10  4.0  2017-09  \n",
       "10          2017-07-29 11:55:02          2017-07  2.0  2017-07  \n",
       "11          2017-07-29 11:55:02          2017-07  2.0  2017-07  \n",
       "...                         ...              ...  ...      ...  \n",
       "103389      2018-05-12 13:42:24          2018-05  2.0  2017-09  \n",
       "103395      2017-10-04 19:57:37          2017-10  2.0  2017-10  \n",
       "103396      2017-10-04 19:57:37          2017-10  2.0  2017-10  \n",
       "103397      2017-01-27 00:30:03          2017-01  2.0  2017-01  \n",
       "103398      2017-01-27 00:30:03          2017-01  2.0  2017-01  \n",
       "\n",
       "[15290 rows x 6 columns]"
      ]
     },
     "execution_count": 283,
     "metadata": {},
     "output_type": "execute_result"
    }
   ],
   "source": [
    "df_c['cohort'] = df_c.groupby('customer_unique_id')['order_purchase_timestamp'] \\\n",
    "                 .transform('min') \\\n",
    "                 .dt.to_period('M') \n",
    "df_c"
   ]
  },
  {
   "cell_type": "markdown",
   "id": "f4922f0d",
   "metadata": {},
   "source": [
    "Now groupby `['cohort', 'order_month']` and aggregate by `nunique()` `customer_unique_id`"
   ]
  },
  {
   "cell_type": "code",
   "execution_count": 285,
   "id": "1825900f",
   "metadata": {},
   "outputs": [
    {
     "data": {
      "text/html": [
       "<div>\n",
       "<style scoped>\n",
       "    .dataframe tbody tr th:only-of-type {\n",
       "        vertical-align: middle;\n",
       "    }\n",
       "\n",
       "    .dataframe tbody tr th {\n",
       "        vertical-align: top;\n",
       "    }\n",
       "\n",
       "    .dataframe thead th {\n",
       "        text-align: right;\n",
       "    }\n",
       "</style>\n",
       "<table border=\"1\" class=\"dataframe\">\n",
       "  <thead>\n",
       "    <tr style=\"text-align: right;\">\n",
       "      <th></th>\n",
       "      <th>cohort</th>\n",
       "      <th>order_time_month</th>\n",
       "      <th>n_customers</th>\n",
       "    </tr>\n",
       "  </thead>\n",
       "  <tbody>\n",
       "    <tr>\n",
       "      <th>0</th>\n",
       "      <td>2016-10</td>\n",
       "      <td>2016-10</td>\n",
       "      <td>24</td>\n",
       "    </tr>\n",
       "    <tr>\n",
       "      <th>1</th>\n",
       "      <td>2016-10</td>\n",
       "      <td>2017-04</td>\n",
       "      <td>1</td>\n",
       "    </tr>\n",
       "    <tr>\n",
       "      <th>2</th>\n",
       "      <td>2016-10</td>\n",
       "      <td>2017-07</td>\n",
       "      <td>1</td>\n",
       "    </tr>\n",
       "    <tr>\n",
       "      <th>3</th>\n",
       "      <td>2016-10</td>\n",
       "      <td>2017-09</td>\n",
       "      <td>1</td>\n",
       "    </tr>\n",
       "    <tr>\n",
       "      <th>4</th>\n",
       "      <td>2016-10</td>\n",
       "      <td>2017-11</td>\n",
       "      <td>1</td>\n",
       "    </tr>\n",
       "    <tr>\n",
       "      <th>...</th>\n",
       "      <td>...</td>\n",
       "      <td>...</td>\n",
       "      <td>...</td>\n",
       "    </tr>\n",
       "    <tr>\n",
       "      <th>214</th>\n",
       "      <td>2018-06</td>\n",
       "      <td>2018-08</td>\n",
       "      <td>16</td>\n",
       "    </tr>\n",
       "    <tr>\n",
       "      <th>215</th>\n",
       "      <td>2018-07</td>\n",
       "      <td>2018-07</td>\n",
       "      <td>295</td>\n",
       "    </tr>\n",
       "    <tr>\n",
       "      <th>216</th>\n",
       "      <td>2018-07</td>\n",
       "      <td>2018-08</td>\n",
       "      <td>31</td>\n",
       "    </tr>\n",
       "    <tr>\n",
       "      <th>217</th>\n",
       "      <td>2018-08</td>\n",
       "      <td>2018-08</td>\n",
       "      <td>229</td>\n",
       "    </tr>\n",
       "    <tr>\n",
       "      <th>218</th>\n",
       "      <td>2018-08</td>\n",
       "      <td>2018-09</td>\n",
       "      <td>1</td>\n",
       "    </tr>\n",
       "  </tbody>\n",
       "</table>\n",
       "<p>219 rows × 3 columns</p>\n",
       "</div>"
      ],
      "text/plain": [
       "      cohort order_time_month  n_customers\n",
       "0    2016-10          2016-10           24\n",
       "1    2016-10          2017-04            1\n",
       "2    2016-10          2017-07            1\n",
       "3    2016-10          2017-09            1\n",
       "4    2016-10          2017-11            1\n",
       "..       ...              ...          ...\n",
       "214  2018-06          2018-08           16\n",
       "215  2018-07          2018-07          295\n",
       "216  2018-07          2018-08           31\n",
       "217  2018-08          2018-08          229\n",
       "218  2018-08          2018-09            1\n",
       "\n",
       "[219 rows x 3 columns]"
      ]
     },
     "execution_count": 285,
     "metadata": {},
     "output_type": "execute_result"
    }
   ],
   "source": [
    "df_coh =df_c.groupby(['cohort', 'order_time_month'])\\\n",
    "              .agg(n_customers=('customer_unique_id', 'nunique'))\\\n",
    "              .reset_index(drop=False)\n",
    "df_coh"
   ]
  },
  {
   "cell_type": "markdown",
   "id": "76bcaf82",
   "metadata": {},
   "source": [
    "Finally, create a feature called `['period_number']` where you substract the `cohort` to the `order_month` and get the `'n'` attribute thanks to the `operator.attrgetter` method"
   ]
  },
  {
   "cell_type": "code",
   "execution_count": 276,
   "id": "7be15401",
   "metadata": {},
   "outputs": [],
   "source": [
    "from operator import attrgetter"
   ]
  },
  {
   "cell_type": "code",
   "execution_count": 286,
   "id": "6904f60a",
   "metadata": {},
   "outputs": [
    {
     "data": {
      "text/html": [
       "<div>\n",
       "<style scoped>\n",
       "    .dataframe tbody tr th:only-of-type {\n",
       "        vertical-align: middle;\n",
       "    }\n",
       "\n",
       "    .dataframe tbody tr th {\n",
       "        vertical-align: top;\n",
       "    }\n",
       "\n",
       "    .dataframe thead th {\n",
       "        text-align: right;\n",
       "    }\n",
       "</style>\n",
       "<table border=\"1\" class=\"dataframe\">\n",
       "  <thead>\n",
       "    <tr style=\"text-align: right;\">\n",
       "      <th></th>\n",
       "      <th>cohort</th>\n",
       "      <th>order_time_month</th>\n",
       "      <th>n_customers</th>\n",
       "      <th>period_number</th>\n",
       "    </tr>\n",
       "  </thead>\n",
       "  <tbody>\n",
       "    <tr>\n",
       "      <th>0</th>\n",
       "      <td>2016-10</td>\n",
       "      <td>2016-10</td>\n",
       "      <td>24</td>\n",
       "      <td>0</td>\n",
       "    </tr>\n",
       "    <tr>\n",
       "      <th>1</th>\n",
       "      <td>2016-10</td>\n",
       "      <td>2017-04</td>\n",
       "      <td>1</td>\n",
       "      <td>6</td>\n",
       "    </tr>\n",
       "    <tr>\n",
       "      <th>2</th>\n",
       "      <td>2016-10</td>\n",
       "      <td>2017-07</td>\n",
       "      <td>1</td>\n",
       "      <td>9</td>\n",
       "    </tr>\n",
       "    <tr>\n",
       "      <th>3</th>\n",
       "      <td>2016-10</td>\n",
       "      <td>2017-09</td>\n",
       "      <td>1</td>\n",
       "      <td>11</td>\n",
       "    </tr>\n",
       "    <tr>\n",
       "      <th>4</th>\n",
       "      <td>2016-10</td>\n",
       "      <td>2017-11</td>\n",
       "      <td>1</td>\n",
       "      <td>13</td>\n",
       "    </tr>\n",
       "  </tbody>\n",
       "</table>\n",
       "</div>"
      ],
      "text/plain": [
       "    cohort order_time_month  n_customers  period_number\n",
       "0  2016-10          2016-10           24              0\n",
       "1  2016-10          2017-04            1              6\n",
       "2  2016-10          2017-07            1              9\n",
       "3  2016-10          2017-09            1             11\n",
       "4  2016-10          2017-11            1             13"
      ]
     },
     "execution_count": 286,
     "metadata": {},
     "output_type": "execute_result"
    }
   ],
   "source": [
    "df_coh['period_number'] = (df_coh.order_time_month - df_coh.cohort).apply(attrgetter('n'))\n",
    "\n",
    "df_coh.head()"
   ]
  },
  {
   "cell_type": "markdown",
   "id": "cd9c4c0a",
   "metadata": {
    "ExecuteTime": {
     "end_time": "2021-10-03T13:45:27.180256Z",
     "start_time": "2021-10-03T13:45:27.158955Z"
    }
   },
   "source": [
    "Explore a cohort (for example 2017-01) and try to understand what it shows"
   ]
  },
  {
   "cell_type": "code",
   "execution_count": 287,
   "id": "0637ec31",
   "metadata": {},
   "outputs": [
    {
     "data": {
      "text/html": [
       "<div>\n",
       "<style scoped>\n",
       "    .dataframe tbody tr th:only-of-type {\n",
       "        vertical-align: middle;\n",
       "    }\n",
       "\n",
       "    .dataframe tbody tr th {\n",
       "        vertical-align: top;\n",
       "    }\n",
       "\n",
       "    .dataframe thead th {\n",
       "        text-align: right;\n",
       "    }\n",
       "</style>\n",
       "<table border=\"1\" class=\"dataframe\">\n",
       "  <thead>\n",
       "    <tr style=\"text-align: right;\">\n",
       "      <th></th>\n",
       "      <th>cohort</th>\n",
       "      <th>order_time_month</th>\n",
       "      <th>n_customers</th>\n",
       "      <th>period_number</th>\n",
       "    </tr>\n",
       "  </thead>\n",
       "  <tbody>\n",
       "    <tr>\n",
       "      <th>11</th>\n",
       "      <td>2017-01</td>\n",
       "      <td>2017-01</td>\n",
       "      <td>77</td>\n",
       "      <td>0</td>\n",
       "    </tr>\n",
       "    <tr>\n",
       "      <th>12</th>\n",
       "      <td>2017-01</td>\n",
       "      <td>2017-02</td>\n",
       "      <td>3</td>\n",
       "      <td>1</td>\n",
       "    </tr>\n",
       "    <tr>\n",
       "      <th>13</th>\n",
       "      <td>2017-01</td>\n",
       "      <td>2017-03</td>\n",
       "      <td>2</td>\n",
       "      <td>2</td>\n",
       "    </tr>\n",
       "    <tr>\n",
       "      <th>14</th>\n",
       "      <td>2017-01</td>\n",
       "      <td>2017-04</td>\n",
       "      <td>1</td>\n",
       "      <td>3</td>\n",
       "    </tr>\n",
       "    <tr>\n",
       "      <th>15</th>\n",
       "      <td>2017-01</td>\n",
       "      <td>2017-05</td>\n",
       "      <td>3</td>\n",
       "      <td>4</td>\n",
       "    </tr>\n",
       "    <tr>\n",
       "      <th>16</th>\n",
       "      <td>2017-01</td>\n",
       "      <td>2017-06</td>\n",
       "      <td>1</td>\n",
       "      <td>5</td>\n",
       "    </tr>\n",
       "    <tr>\n",
       "      <th>17</th>\n",
       "      <td>2017-01</td>\n",
       "      <td>2017-07</td>\n",
       "      <td>3</td>\n",
       "      <td>6</td>\n",
       "    </tr>\n",
       "    <tr>\n",
       "      <th>18</th>\n",
       "      <td>2017-01</td>\n",
       "      <td>2017-08</td>\n",
       "      <td>1</td>\n",
       "      <td>7</td>\n",
       "    </tr>\n",
       "    <tr>\n",
       "      <th>19</th>\n",
       "      <td>2017-01</td>\n",
       "      <td>2017-09</td>\n",
       "      <td>1</td>\n",
       "      <td>8</td>\n",
       "    </tr>\n",
       "    <tr>\n",
       "      <th>20</th>\n",
       "      <td>2017-01</td>\n",
       "      <td>2017-11</td>\n",
       "      <td>3</td>\n",
       "      <td>10</td>\n",
       "    </tr>\n",
       "    <tr>\n",
       "      <th>21</th>\n",
       "      <td>2017-01</td>\n",
       "      <td>2017-12</td>\n",
       "      <td>1</td>\n",
       "      <td>11</td>\n",
       "    </tr>\n",
       "    <tr>\n",
       "      <th>22</th>\n",
       "      <td>2017-01</td>\n",
       "      <td>2018-01</td>\n",
       "      <td>5</td>\n",
       "      <td>12</td>\n",
       "    </tr>\n",
       "    <tr>\n",
       "      <th>23</th>\n",
       "      <td>2017-01</td>\n",
       "      <td>2018-02</td>\n",
       "      <td>3</td>\n",
       "      <td>13</td>\n",
       "    </tr>\n",
       "    <tr>\n",
       "      <th>24</th>\n",
       "      <td>2017-01</td>\n",
       "      <td>2018-03</td>\n",
       "      <td>1</td>\n",
       "      <td>14</td>\n",
       "    </tr>\n",
       "    <tr>\n",
       "      <th>25</th>\n",
       "      <td>2017-01</td>\n",
       "      <td>2018-04</td>\n",
       "      <td>1</td>\n",
       "      <td>15</td>\n",
       "    </tr>\n",
       "    <tr>\n",
       "      <th>26</th>\n",
       "      <td>2017-01</td>\n",
       "      <td>2018-05</td>\n",
       "      <td>2</td>\n",
       "      <td>16</td>\n",
       "    </tr>\n",
       "    <tr>\n",
       "      <th>27</th>\n",
       "      <td>2017-01</td>\n",
       "      <td>2018-06</td>\n",
       "      <td>3</td>\n",
       "      <td>17</td>\n",
       "    </tr>\n",
       "    <tr>\n",
       "      <th>28</th>\n",
       "      <td>2017-01</td>\n",
       "      <td>2018-08</td>\n",
       "      <td>1</td>\n",
       "      <td>19</td>\n",
       "    </tr>\n",
       "  </tbody>\n",
       "</table>\n",
       "</div>"
      ],
      "text/plain": [
       "     cohort order_time_month  n_customers  period_number\n",
       "11  2017-01          2017-01           77              0\n",
       "12  2017-01          2017-02            3              1\n",
       "13  2017-01          2017-03            2              2\n",
       "14  2017-01          2017-04            1              3\n",
       "15  2017-01          2017-05            3              4\n",
       "16  2017-01          2017-06            1              5\n",
       "17  2017-01          2017-07            3              6\n",
       "18  2017-01          2017-08            1              7\n",
       "19  2017-01          2017-09            1              8\n",
       "20  2017-01          2017-11            3             10\n",
       "21  2017-01          2017-12            1             11\n",
       "22  2017-01          2018-01            5             12\n",
       "23  2017-01          2018-02            3             13\n",
       "24  2017-01          2018-03            1             14\n",
       "25  2017-01          2018-04            1             15\n",
       "26  2017-01          2018-05            2             16\n",
       "27  2017-01          2018-06            3             17\n",
       "28  2017-01          2018-08            1             19"
      ]
     },
     "execution_count": 287,
     "metadata": {},
     "output_type": "execute_result"
    }
   ],
   "source": [
    "df_coh[df_coh[\"cohort\"] == \"2017-01\"]"
   ]
  },
  {
   "cell_type": "markdown",
   "id": "fec1e6e7",
   "metadata": {},
   "source": [
    "Pivot the DataFrame using the methode : `DataFrame.pivot_table` (hint : use `'cohort'` as `index`, `'period_number'` as columns, and `'n_customers'` as `values`)"
   ]
  },
  {
   "cell_type": "code",
   "execution_count": 290,
   "id": "d273c874",
   "metadata": {},
   "outputs": [
    {
     "data": {
      "text/html": [
       "<div>\n",
       "<style scoped>\n",
       "    .dataframe tbody tr th:only-of-type {\n",
       "        vertical-align: middle;\n",
       "    }\n",
       "\n",
       "    .dataframe tbody tr th {\n",
       "        vertical-align: top;\n",
       "    }\n",
       "\n",
       "    .dataframe thead th {\n",
       "        text-align: right;\n",
       "    }\n",
       "</style>\n",
       "<table border=\"1\" class=\"dataframe\">\n",
       "  <thead>\n",
       "    <tr style=\"text-align: right;\">\n",
       "      <th>period_number</th>\n",
       "      <th>0</th>\n",
       "      <th>1</th>\n",
       "      <th>2</th>\n",
       "      <th>3</th>\n",
       "      <th>4</th>\n",
       "      <th>5</th>\n",
       "      <th>6</th>\n",
       "      <th>7</th>\n",
       "      <th>8</th>\n",
       "      <th>9</th>\n",
       "      <th>10</th>\n",
       "      <th>11</th>\n",
       "      <th>12</th>\n",
       "      <th>13</th>\n",
       "      <th>14</th>\n",
       "      <th>15</th>\n",
       "      <th>16</th>\n",
       "      <th>17</th>\n",
       "      <th>19</th>\n",
       "      <th>20</th>\n",
       "    </tr>\n",
       "    <tr>\n",
       "      <th>cohort</th>\n",
       "      <th></th>\n",
       "      <th></th>\n",
       "      <th></th>\n",
       "      <th></th>\n",
       "      <th></th>\n",
       "      <th></th>\n",
       "      <th></th>\n",
       "      <th></th>\n",
       "      <th></th>\n",
       "      <th></th>\n",
       "      <th></th>\n",
       "      <th></th>\n",
       "      <th></th>\n",
       "      <th></th>\n",
       "      <th></th>\n",
       "      <th></th>\n",
       "      <th></th>\n",
       "      <th></th>\n",
       "      <th></th>\n",
       "      <th></th>\n",
       "    </tr>\n",
       "  </thead>\n",
       "  <tbody>\n",
       "    <tr>\n",
       "      <th>2016-10</th>\n",
       "      <td>24.0</td>\n",
       "      <td>NaN</td>\n",
       "      <td>NaN</td>\n",
       "      <td>NaN</td>\n",
       "      <td>NaN</td>\n",
       "      <td>NaN</td>\n",
       "      <td>1.0</td>\n",
       "      <td>NaN</td>\n",
       "      <td>NaN</td>\n",
       "      <td>1.0</td>\n",
       "      <td>NaN</td>\n",
       "      <td>1.0</td>\n",
       "      <td>NaN</td>\n",
       "      <td>1.0</td>\n",
       "      <td>NaN</td>\n",
       "      <td>1.0</td>\n",
       "      <td>NaN</td>\n",
       "      <td>1.0</td>\n",
       "      <td>2.0</td>\n",
       "      <td>2.0</td>\n",
       "    </tr>\n",
       "    <tr>\n",
       "      <th>2016-12</th>\n",
       "      <td>1.0</td>\n",
       "      <td>1.0</td>\n",
       "      <td>NaN</td>\n",
       "      <td>NaN</td>\n",
       "      <td>NaN</td>\n",
       "      <td>NaN</td>\n",
       "      <td>NaN</td>\n",
       "      <td>NaN</td>\n",
       "      <td>NaN</td>\n",
       "      <td>NaN</td>\n",
       "      <td>NaN</td>\n",
       "      <td>NaN</td>\n",
       "      <td>NaN</td>\n",
       "      <td>NaN</td>\n",
       "      <td>NaN</td>\n",
       "      <td>NaN</td>\n",
       "      <td>NaN</td>\n",
       "      <td>NaN</td>\n",
       "      <td>NaN</td>\n",
       "      <td>NaN</td>\n",
       "    </tr>\n",
       "    <tr>\n",
       "      <th>2017-01</th>\n",
       "      <td>77.0</td>\n",
       "      <td>3.0</td>\n",
       "      <td>2.0</td>\n",
       "      <td>1.0</td>\n",
       "      <td>3.0</td>\n",
       "      <td>1.0</td>\n",
       "      <td>3.0</td>\n",
       "      <td>1.0</td>\n",
       "      <td>1.0</td>\n",
       "      <td>NaN</td>\n",
       "      <td>3.0</td>\n",
       "      <td>1.0</td>\n",
       "      <td>5.0</td>\n",
       "      <td>3.0</td>\n",
       "      <td>1.0</td>\n",
       "      <td>1.0</td>\n",
       "      <td>2.0</td>\n",
       "      <td>3.0</td>\n",
       "      <td>1.0</td>\n",
       "      <td>NaN</td>\n",
       "    </tr>\n",
       "    <tr>\n",
       "      <th>2017-02</th>\n",
       "      <td>132.0</td>\n",
       "      <td>4.0</td>\n",
       "      <td>5.0</td>\n",
       "      <td>2.0</td>\n",
       "      <td>7.0</td>\n",
       "      <td>2.0</td>\n",
       "      <td>4.0</td>\n",
       "      <td>3.0</td>\n",
       "      <td>2.0</td>\n",
       "      <td>3.0</td>\n",
       "      <td>2.0</td>\n",
       "      <td>5.0</td>\n",
       "      <td>2.0</td>\n",
       "      <td>3.0</td>\n",
       "      <td>2.0</td>\n",
       "      <td>1.0</td>\n",
       "      <td>1.0</td>\n",
       "      <td>3.0</td>\n",
       "      <td>NaN</td>\n",
       "      <td>NaN</td>\n",
       "    </tr>\n",
       "    <tr>\n",
       "      <th>2017-03</th>\n",
       "      <td>223.0</td>\n",
       "      <td>13.0</td>\n",
       "      <td>9.0</td>\n",
       "      <td>10.0</td>\n",
       "      <td>9.0</td>\n",
       "      <td>4.0</td>\n",
       "      <td>4.0</td>\n",
       "      <td>8.0</td>\n",
       "      <td>8.0</td>\n",
       "      <td>2.0</td>\n",
       "      <td>9.0</td>\n",
       "      <td>3.0</td>\n",
       "      <td>5.0</td>\n",
       "      <td>3.0</td>\n",
       "      <td>4.0</td>\n",
       "      <td>6.0</td>\n",
       "      <td>2.0</td>\n",
       "      <td>4.0</td>\n",
       "      <td>NaN</td>\n",
       "      <td>NaN</td>\n",
       "    </tr>\n",
       "  </tbody>\n",
       "</table>\n",
       "</div>"
      ],
      "text/plain": [
       "period_number     0     1    2     3    4    5    6    7    8    9    10   11  \\\n",
       "cohort                                                                          \n",
       "2016-10         24.0   NaN  NaN   NaN  NaN  NaN  1.0  NaN  NaN  1.0  NaN  1.0   \n",
       "2016-12          1.0   1.0  NaN   NaN  NaN  NaN  NaN  NaN  NaN  NaN  NaN  NaN   \n",
       "2017-01         77.0   3.0  2.0   1.0  3.0  1.0  3.0  1.0  1.0  NaN  3.0  1.0   \n",
       "2017-02        132.0   4.0  5.0   2.0  7.0  2.0  4.0  3.0  2.0  3.0  2.0  5.0   \n",
       "2017-03        223.0  13.0  9.0  10.0  9.0  4.0  4.0  8.0  8.0  2.0  9.0  3.0   \n",
       "\n",
       "period_number   12   13   14   15   16   17   19   20  \n",
       "cohort                                                 \n",
       "2016-10        NaN  1.0  NaN  1.0  NaN  1.0  2.0  2.0  \n",
       "2016-12        NaN  NaN  NaN  NaN  NaN  NaN  NaN  NaN  \n",
       "2017-01        5.0  3.0  1.0  1.0  2.0  3.0  1.0  NaN  \n",
       "2017-02        2.0  3.0  2.0  1.0  1.0  3.0  NaN  NaN  \n",
       "2017-03        5.0  3.0  4.0  6.0  2.0  4.0  NaN  NaN  "
      ]
     },
     "execution_count": 290,
     "metadata": {},
     "output_type": "execute_result"
    }
   ],
   "source": [
    "df_piv = df_coh.pivot_table(index= \"cohort\", columns = \"period_number\", values = \"n_customers\")\n",
    "df_piv.head()"
   ]
  },
  {
   "cell_type": "markdown",
   "id": "fdf4935b",
   "metadata": {},
   "source": [
    "Now divide all the values (except you column 0) by the column 0 and name this new DataFrame `retention_matrix`"
   ]
  },
  {
   "cell_type": "code",
   "execution_count": 292,
   "id": "940f0007",
   "metadata": {},
   "outputs": [
    {
     "data": {
      "text/html": [
       "<div>\n",
       "<style scoped>\n",
       "    .dataframe tbody tr th:only-of-type {\n",
       "        vertical-align: middle;\n",
       "    }\n",
       "\n",
       "    .dataframe tbody tr th {\n",
       "        vertical-align: top;\n",
       "    }\n",
       "\n",
       "    .dataframe thead th {\n",
       "        text-align: right;\n",
       "    }\n",
       "</style>\n",
       "<table border=\"1\" class=\"dataframe\">\n",
       "  <thead>\n",
       "    <tr style=\"text-align: right;\">\n",
       "      <th>period_number</th>\n",
       "      <th>0</th>\n",
       "      <th>1</th>\n",
       "      <th>2</th>\n",
       "      <th>3</th>\n",
       "      <th>4</th>\n",
       "      <th>5</th>\n",
       "      <th>6</th>\n",
       "      <th>7</th>\n",
       "      <th>8</th>\n",
       "      <th>9</th>\n",
       "      <th>10</th>\n",
       "      <th>11</th>\n",
       "      <th>12</th>\n",
       "      <th>13</th>\n",
       "      <th>14</th>\n",
       "      <th>15</th>\n",
       "      <th>16</th>\n",
       "      <th>17</th>\n",
       "      <th>19</th>\n",
       "      <th>20</th>\n",
       "    </tr>\n",
       "    <tr>\n",
       "      <th>cohort</th>\n",
       "      <th></th>\n",
       "      <th></th>\n",
       "      <th></th>\n",
       "      <th></th>\n",
       "      <th></th>\n",
       "      <th></th>\n",
       "      <th></th>\n",
       "      <th></th>\n",
       "      <th></th>\n",
       "      <th></th>\n",
       "      <th></th>\n",
       "      <th></th>\n",
       "      <th></th>\n",
       "      <th></th>\n",
       "      <th></th>\n",
       "      <th></th>\n",
       "      <th></th>\n",
       "      <th></th>\n",
       "      <th></th>\n",
       "      <th></th>\n",
       "    </tr>\n",
       "  </thead>\n",
       "  <tbody>\n",
       "    <tr>\n",
       "      <th>2016-10</th>\n",
       "      <td>1.0</td>\n",
       "      <td>NaN</td>\n",
       "      <td>NaN</td>\n",
       "      <td>NaN</td>\n",
       "      <td>NaN</td>\n",
       "      <td>NaN</td>\n",
       "      <td>0.041667</td>\n",
       "      <td>NaN</td>\n",
       "      <td>NaN</td>\n",
       "      <td>0.041667</td>\n",
       "      <td>NaN</td>\n",
       "      <td>0.041667</td>\n",
       "      <td>NaN</td>\n",
       "      <td>0.041667</td>\n",
       "      <td>NaN</td>\n",
       "      <td>0.041667</td>\n",
       "      <td>NaN</td>\n",
       "      <td>0.041667</td>\n",
       "      <td>0.083333</td>\n",
       "      <td>0.083333</td>\n",
       "    </tr>\n",
       "    <tr>\n",
       "      <th>2016-12</th>\n",
       "      <td>1.0</td>\n",
       "      <td>1.000000</td>\n",
       "      <td>NaN</td>\n",
       "      <td>NaN</td>\n",
       "      <td>NaN</td>\n",
       "      <td>NaN</td>\n",
       "      <td>NaN</td>\n",
       "      <td>NaN</td>\n",
       "      <td>NaN</td>\n",
       "      <td>NaN</td>\n",
       "      <td>NaN</td>\n",
       "      <td>NaN</td>\n",
       "      <td>NaN</td>\n",
       "      <td>NaN</td>\n",
       "      <td>NaN</td>\n",
       "      <td>NaN</td>\n",
       "      <td>NaN</td>\n",
       "      <td>NaN</td>\n",
       "      <td>NaN</td>\n",
       "      <td>NaN</td>\n",
       "    </tr>\n",
       "    <tr>\n",
       "      <th>2017-01</th>\n",
       "      <td>1.0</td>\n",
       "      <td>0.038961</td>\n",
       "      <td>0.025974</td>\n",
       "      <td>0.012987</td>\n",
       "      <td>0.038961</td>\n",
       "      <td>0.012987</td>\n",
       "      <td>0.038961</td>\n",
       "      <td>0.012987</td>\n",
       "      <td>0.012987</td>\n",
       "      <td>NaN</td>\n",
       "      <td>0.038961</td>\n",
       "      <td>0.012987</td>\n",
       "      <td>0.064935</td>\n",
       "      <td>0.038961</td>\n",
       "      <td>0.012987</td>\n",
       "      <td>0.012987</td>\n",
       "      <td>0.025974</td>\n",
       "      <td>0.038961</td>\n",
       "      <td>0.012987</td>\n",
       "      <td>NaN</td>\n",
       "    </tr>\n",
       "    <tr>\n",
       "      <th>2017-02</th>\n",
       "      <td>1.0</td>\n",
       "      <td>0.030303</td>\n",
       "      <td>0.037879</td>\n",
       "      <td>0.015152</td>\n",
       "      <td>0.053030</td>\n",
       "      <td>0.015152</td>\n",
       "      <td>0.030303</td>\n",
       "      <td>0.022727</td>\n",
       "      <td>0.015152</td>\n",
       "      <td>0.022727</td>\n",
       "      <td>0.015152</td>\n",
       "      <td>0.037879</td>\n",
       "      <td>0.015152</td>\n",
       "      <td>0.022727</td>\n",
       "      <td>0.015152</td>\n",
       "      <td>0.007576</td>\n",
       "      <td>0.007576</td>\n",
       "      <td>0.022727</td>\n",
       "      <td>NaN</td>\n",
       "      <td>NaN</td>\n",
       "    </tr>\n",
       "    <tr>\n",
       "      <th>2017-03</th>\n",
       "      <td>1.0</td>\n",
       "      <td>0.058296</td>\n",
       "      <td>0.040359</td>\n",
       "      <td>0.044843</td>\n",
       "      <td>0.040359</td>\n",
       "      <td>0.017937</td>\n",
       "      <td>0.017937</td>\n",
       "      <td>0.035874</td>\n",
       "      <td>0.035874</td>\n",
       "      <td>0.008969</td>\n",
       "      <td>0.040359</td>\n",
       "      <td>0.013453</td>\n",
       "      <td>0.022422</td>\n",
       "      <td>0.013453</td>\n",
       "      <td>0.017937</td>\n",
       "      <td>0.026906</td>\n",
       "      <td>0.008969</td>\n",
       "      <td>0.017937</td>\n",
       "      <td>NaN</td>\n",
       "      <td>NaN</td>\n",
       "    </tr>\n",
       "  </tbody>\n",
       "</table>\n",
       "</div>"
      ],
      "text/plain": [
       "period_number   0         1         2         3         4         5   \\\n",
       "cohort                                                                 \n",
       "2016-10        1.0       NaN       NaN       NaN       NaN       NaN   \n",
       "2016-12        1.0  1.000000       NaN       NaN       NaN       NaN   \n",
       "2017-01        1.0  0.038961  0.025974  0.012987  0.038961  0.012987   \n",
       "2017-02        1.0  0.030303  0.037879  0.015152  0.053030  0.015152   \n",
       "2017-03        1.0  0.058296  0.040359  0.044843  0.040359  0.017937   \n",
       "\n",
       "period_number        6         7         8         9         10        11  \\\n",
       "cohort                                                                      \n",
       "2016-10        0.041667       NaN       NaN  0.041667       NaN  0.041667   \n",
       "2016-12             NaN       NaN       NaN       NaN       NaN       NaN   \n",
       "2017-01        0.038961  0.012987  0.012987       NaN  0.038961  0.012987   \n",
       "2017-02        0.030303  0.022727  0.015152  0.022727  0.015152  0.037879   \n",
       "2017-03        0.017937  0.035874  0.035874  0.008969  0.040359  0.013453   \n",
       "\n",
       "period_number        12        13        14        15        16        17  \\\n",
       "cohort                                                                      \n",
       "2016-10             NaN  0.041667       NaN  0.041667       NaN  0.041667   \n",
       "2016-12             NaN       NaN       NaN       NaN       NaN       NaN   \n",
       "2017-01        0.064935  0.038961  0.012987  0.012987  0.025974  0.038961   \n",
       "2017-02        0.015152  0.022727  0.015152  0.007576  0.007576  0.022727   \n",
       "2017-03        0.022422  0.013453  0.017937  0.026906  0.008969  0.017937   \n",
       "\n",
       "period_number        19        20  \n",
       "cohort                             \n",
       "2016-10        0.083333  0.083333  \n",
       "2016-12             NaN       NaN  \n",
       "2017-01        0.012987       NaN  \n",
       "2017-02             NaN       NaN  \n",
       "2017-03             NaN       NaN  "
      ]
     },
     "execution_count": 292,
     "metadata": {},
     "output_type": "execute_result"
    }
   ],
   "source": [
    "cohort_size = df_piv.iloc[:,0]\n",
    "retention_matrix = df_piv.divide(cohort_size, axis = 0)\n",
    "retention_matrix.head()"
   ]
  },
  {
   "cell_type": "markdown",
   "id": "cb7a4322",
   "metadata": {},
   "source": [
    "Plot your `retention matrix` using the code below : "
   ]
  },
  {
   "cell_type": "code",
   "execution_count": 296,
   "id": "29e5003f",
   "metadata": {},
   "outputs": [],
   "source": [
    "import matplotlib.colors as mcolors"
   ]
  },
  {
   "cell_type": "code",
   "execution_count": 298,
   "id": "d8607a36",
   "metadata": {
    "ExecuteTime": {
     "end_time": "2021-10-03T11:53:03.187978Z",
     "start_time": "2021-10-03T11:53:00.110548Z"
    },
    "scrolled": true
   },
   "outputs": [
    {
     "data": {
      "image/png": "[encoded data removed]",
      "text/plain": [
       "<Figure size 864x576 with 3 Axes>"
      ]
     },
     "metadata": {},
     "output_type": "display_data"
    }
   ],
   "source": [
    "\n",
    "with sns.axes_style(\"white\"):\n",
    "    fig, ax = plt.subplots(1, 2, figsize=(12, 8), sharey=True, gridspec_kw={'width_ratios': [1, 11]})\n",
    "    \n",
    "    # retention matrix\n",
    "    sns.heatmap(retention_matrix, \n",
    "                mask=retention_matrix.isnull(), \n",
    "                annot=True, \n",
    "                fmt='.0%', \n",
    "                cmap='RdYlGn', \n",
    "                ax=ax[1])\n",
    "    ax[1].set_title('Monthly Cohorts: User Retention', fontsize=16)\n",
    "    ax[1].set(xlabel='# of periods',\n",
    "              ylabel='')\n",
    "\n",
    "    # cohort size\n",
    "    cohort_size_df = pd.DataFrame(cohort_size).rename(columns={0: 'cohort_size'})\n",
    "    white_cmap = mcolors.ListedColormap(['white'])\n",
    "    sns.heatmap(cohort_size_df, \n",
    "                annot=True, \n",
    "                cbar=False, \n",
    "                fmt='g', \n",
    "                cmap=white_cmap, \n",
    "                ax=ax[0])\n",
    "\n",
    "    fig.tight_layout()\n"
   ]
  },
  {
   "cell_type": "markdown",
   "id": "f84e2c4d",
   "metadata": {},
   "source": [
    "What do you notice? "
   ]
  },
  {
   "cell_type": "code",
   "execution_count": null,
   "id": "ef83de5b",
   "metadata": {},
   "outputs": [],
   "source": []
  },
  {
   "cell_type": "markdown",
   "id": "f3bc8b49",
   "metadata": {},
   "source": [
    "How could we have know that before? (hint : Calculate the percentage of customers who have ordered more than once)"
   ]
  },
  {
   "cell_type": "code",
   "execution_count": 301,
   "id": "e6db886a",
   "metadata": {},
   "outputs": [],
   "source": [
    "import numpy as np"
   ]
  },
  {
   "cell_type": "code",
   "execution_count": 302,
   "id": "2b0bd39f",
   "metadata": {},
   "outputs": [
    {
     "data": {
      "text/plain": [
       "3.0307524444114877"
      ]
     },
     "execution_count": 302,
     "metadata": {},
     "output_type": "execute_result"
    }
   ],
   "source": [
    "n_orders = df.groupby(['customer_unique_id'])['order_id'].nunique()\n",
    "orders_perc2 = np.sum(n_orders > 1) / df['customer_unique_id'].nunique()\n",
    "# 3,12% of customers have ordered more than once\n",
    "orders_perc2*100 "
   ]
  },
  {
   "cell_type": "markdown",
   "id": "a3111dcd",
   "metadata": {},
   "source": [
    "Here is the code for the analysis of customers who have bought more than once : "
   ]
  },
  {
   "cell_type": "code",
   "execution_count": 299,
   "id": "df3d4035",
   "metadata": {
    "ExecuteTime": {
     "end_time": "2021-10-03T14:08:57.428123Z",
     "start_time": "2021-10-03T14:08:54.180728Z"
    }
   },
   "outputs": [
    {
     "data": {
      "image/png": "[encoded data removed]",
      "text/plain": [
       "<Figure size 864x576 with 3 Axes>"
      ]
     },
     "metadata": {},
     "output_type": "display_data"
    }
   ],
   "source": [
    "#start from your df created doing the RFM segmentation\n",
    "df_c = df[['customer_unique_id', 'order_id',\n",
    "           'order_purchase_timestamp']].drop_duplicates()\n",
    "\n",
    "df_c['order_month'] = df_c['order_purchase_timestamp'].dt.to_period('M')\n",
    "\n",
    "df_more = pd.DataFrame(df_c.groupby('customer_unique_id').size()[\n",
    "                       df_c.groupby('customer_unique_id').size() > 1])\n",
    "\n",
    "df_c = df_c.merge(df_more, how='left', on='customer_unique_id').rename(\n",
    "    columns={0: 'na'})\n",
    "\n",
    "df_c = df_c[df_c['na'].notna()]\n",
    "df_c['cohort'] = df_c.groupby('customer_unique_id')['order_purchase_timestamp'] \\\n",
    "    .transform('min') \\\n",
    "    .dt.to_period('M')\n",
    "\n",
    "df_cohort = df_c.groupby(['cohort', 'order_month']) \\\n",
    "    .agg(n_customers=('customer_unique_id', 'nunique')) \\\n",
    "    .reset_index(drop=False)\n",
    "df_cohort['period_number'] = (\n",
    "    df_cohort.order_month - df_cohort.cohort).apply(attrgetter('n'))\n",
    "cohort_pivot = df_cohort.pivot_table(index='cohort',\n",
    "                                     columns='period_number',\n",
    "                                     values='n_customers')\n",
    "cohort_size = cohort_pivot.iloc[:, 0]\n",
    "retention_matrix = cohort_pivot.divide(cohort_size, axis=0)\n",
    "\n",
    "with sns.axes_style(\"white\"):\n",
    "    fig, ax = plt.subplots(1, 2, figsize=(12, 8), sharey=True, gridspec_kw={\n",
    "                           'width_ratios': [1, 11]})\n",
    "\n",
    "    # retention matrix\n",
    "    sns.heatmap(retention_matrix,\n",
    "                mask=retention_matrix.isnull(),\n",
    "                annot=True,\n",
    "                fmt='.0%',\n",
    "                cmap='RdYlGn',\n",
    "                ax=ax[1])\n",
    "    ax[1].set_title('Monthly Cohorts: User Retention', fontsize=16)\n",
    "    ax[1].set(xlabel='# of periods',\n",
    "              ylabel='')\n",
    "\n",
    "    # cohort size\n",
    "    cohort_size_df = pd.DataFrame(cohort_size).rename(\n",
    "        columns={0: 'cohort_size'})\n",
    "    white_cmap = mcolors.ListedColormap(['white'])\n",
    "    sns.heatmap(cohort_size_df,\n",
    "                annot=True,\n",
    "                cbar=False,\n",
    "                fmt='g',\n",
    "                cmap=white_cmap,\n",
    "                ax=ax[0])\n",
    "\n",
    "    fig.tight_layout()"
   ]
  },
  {
   "cell_type": "code",
   "execution_count": null,
   "id": "daae3e6e",
   "metadata": {},
   "outputs": [],
   "source": []
  }
 ],
 "metadata": {
  "hide_input": false,
  "kernelspec": {
   "display_name": "Python 3",
   "language": "python",
   "name": "python3"
  },
  "language_info": {
   "codemirror_mode": {
    "name": "ipython",
    "version": 3
   },
   "file_extension": ".py",
   "mimetype": "text/x-python",
   "name": "python",
   "nbconvert_exporter": "python",
   "pygments_lexer": "ipython3",
   "version": "3.8.8"
  },
  "toc": {
   "base_numbering": 1,
   "nav_menu": {},
   "number_sections": true,
   "sideBar": true,
   "skip_h1_title": false,
   "title_cell": "Table of Contents",
   "title_sidebar": "Contents",
   "toc_cell": false,
   "toc_position": {},
   "toc_section_display": true,
   "toc_window_display": false
  },
  "varInspector": {
   "cols": {
    "lenName": 16,
    "lenType": 16,
    "lenVar": 40
   },
   "kernels_config": {
    "python": {
     "delete_cmd_postfix": "",
     "delete_cmd_prefix": "del ",
     "library": "var_list.py",
     "varRefreshCmd": "print(var_dic_list())"
    },
    "r": {
     "delete_cmd_postfix": ") ",
     "delete_cmd_prefix": "rm(",
     "library": "var_list.r",
     "varRefreshCmd": "cat(var_dic_list()) "
    }
   },
   "types_to_exclude": [
    "module",
    "function",
    "builtin_function_or_method",
    "instance",
    "_Feature"
   ],
   "window_display": false
  }
 },
 "nbformat": 4,
 "nbformat_minor": 5
}
