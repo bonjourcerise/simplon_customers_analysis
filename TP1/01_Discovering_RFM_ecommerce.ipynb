{
 "cells": [
  {
   "cell_type": "markdown",
   "id": "a69e5a64",
   "metadata": {
    "heading_collapsed": true
   },
   "source": [
    "# Table of contents"
   ]
  },
  {
   "cell_type": "markdown",
   "id": "119ae211",
   "metadata": {
    "hidden": true
   },
   "source": [
    "* [Customer analysis](#Customer-analysis)\n",
    "* [Understanding RFM Segmentation](#Understanding-RFM-Segmentation)\n",
    "* [Exploratory Data Analysis](#Exploratory-Data-Analysis)\n",
    "* [Customer segmentation with RFM](#Customer-segmentation-with-RFM)\n",
    "* [Clustering / RFM Score](#Clustering---RFM-Score)\n",
    "* [Working with cohorts](#Working-with-cohorts)"
   ]
  },
  {
   "cell_type": "markdown",
   "id": "comprehensive-warehouse",
   "metadata": {
    "heading_collapsed": true
   },
   "source": [
    "# Customer analysis"
   ]
  },
  {
   "cell_type": "markdown",
   "id": "working-earth",
   "metadata": {
    "hidden": true
   },
   "source": [
    "In this exercise, you work for a consulting firm as data analyst. One of your clients asked for help to understand its customer buying behavior. \n",
    "\n",
    "You dispose of a dataset from its e-commerce website with 13 features : \n",
    "\n",
    "- order_id : ID if the order\n",
    "- order_status : Status of the order\n",
    "- order_purchase_timestamp : Timestamp of the purchase\n",
    "- order_delivered_customer_date : Timestamp of the delivery to the customer\n",
    "- payment_type : Method of payment\n",
    "- payment_installments : Number of payments for this purchase (does NOT affect the payment value)\n",
    "- payment_value : Total amount of the payment\n",
    "- review_score : Score given by the client, ranges from 1 to 5\n",
    "- customer_unique_id : ID of the customer who purchased\n",
    "- customer_zip_code_prefix : Zip code of the customer\n",
    "- customer_city : City of the customer\n",
    "- customer_state : State of the customer\n",
    "- product_category_name_english : Name of the product category in English\n",
    "\n",
    "With this data, you have to analyze customer behavior with two techniques:\n",
    "\n",
    "- Customer segmentation with RFM\n",
    "- Cohort analysis from Sept 2016 to October 2018.\n",
    "\n",
    "At the end, you have to present your analysis with actionable insights to improve the customer relationship of your client. "
   ]
  },
  {
   "cell_type": "markdown",
   "id": "e34741c0",
   "metadata": {
    "heading_collapsed": true
   },
   "source": [
    "# Understanding RFM Segmentation "
   ]
  },
  {
   "cell_type": "markdown",
   "id": "fe5120cd",
   "metadata": {
    "ExecuteTime": {
     "end_time": "2021-09-30T14:30:02.324575Z",
     "start_time": "2021-09-30T14:30:02.319234Z"
    },
    "hidden": true
   },
   "source": [
    "❓ What are the 3 metrics used in an RFM Segmentation? (hint : What does RFM stand for?) "
   ]
  },
  {
   "cell_type": "markdown",
   "id": "b1b3add7",
   "metadata": {
    "hidden": true
   },
   "source": [
    "Recensy / Frequency / Monetary"
   ]
  },
  {
   "cell_type": "markdown",
   "id": "f556245c",
   "metadata": {
    "hidden": true
   },
   "source": [
    "❓ Can you summarize what each metric measures in one sentence?"
   ]
  },
  {
   "cell_type": "markdown",
   "id": "5c1fbf84",
   "metadata": {
    "hidden": true
   },
   "source": [
    "- Recensy : last customer interaction (visit, purchase)<br>\n",
    "- Frequency: purchase (or visit) over a given period of time<br>\n",
    "- Monetary : amount of the customer's purchases (total, per period, ...) "
   ]
  },
  {
   "cell_type": "markdown",
   "id": "98be1bfe",
   "metadata": {
    "hidden": true
   },
   "source": [
    "❓ What data / or type of data do you need for each metric ? "
   ]
  },
  {
   "cell_type": "markdown",
   "id": "23568a50",
   "metadata": {
    "hidden": true
   },
   "source": [
    "- Recensy : order_purchase_timestamp / customer_unique_id <br>\n",
    "- Frequency : order_id / customer_unique_id / order_purchase_timestamp<br>\n",
    "- Monetary : payment_value / customer_unique_id / order_purchase_timestamp<br>"
   ]
  },
  {
   "cell_type": "markdown",
   "id": "40dc1822",
   "metadata": {
    "hidden": true
   },
   "source": [
    "Let's explore the dataset!"
   ]
  },
  {
   "cell_type": "markdown",
   "id": "digital-cycling",
   "metadata": {
    "heading_collapsed": true
   },
   "source": [
    "# Exploratory Data Analysis"
   ]
  },
  {
   "cell_type": "markdown",
   "id": "9fe4d6d2",
   "metadata": {
    "hidden": true
   },
   "source": [
    "Load the dataset and start an Exploratory Data Analysis"
   ]
  },
  {
   "cell_type": "code",
   "execution_count": 140,
   "id": "83b55651",
   "metadata": {
    "hidden": true
   },
   "outputs": [],
   "source": [
    "import numpy as np\n",
    "import pandas as pd\n",
    "from operator import attrgetter\n",
    "\n",
    "import matplotlib.pyplot as plt\n",
    "import seaborn as sns\n",
    "import plotly.graph_objects as go\n",
    "import plotly.express as px\n",
    "import squarify\n",
    "import matplotlib.colors as mcolors\n",
    "\n",
    "from datetime import datetime, timedelta\n",
    "\n",
    "import warnings\n",
    "warnings.filterwarnings(\"ignore\")"
   ]
  },
  {
   "cell_type": "code",
   "execution_count": 22,
   "id": "1caf4ef5",
   "metadata": {
    "ExecuteTime": {
     "end_time": "2021-10-03T14:07:52.111600Z",
     "start_time": "2021-10-03T14:07:51.598182Z"
    },
    "hidden": true
   },
   "outputs": [
    {
     "data": {
      "text/html": [
       "<div>\n",
       "<style scoped>\n",
       "    .dataframe tbody tr th:only-of-type {\n",
       "        vertical-align: middle;\n",
       "    }\n",
       "\n",
       "    .dataframe tbody tr th {\n",
       "        vertical-align: top;\n",
       "    }\n",
       "\n",
       "    .dataframe thead th {\n",
       "        text-align: right;\n",
       "    }\n",
       "</style>\n",
       "<table border=\"1\" class=\"dataframe\">\n",
       "  <thead>\n",
       "    <tr style=\"text-align: right;\">\n",
       "      <th></th>\n",
       "      <th>order_id</th>\n",
       "      <th>order_status</th>\n",
       "      <th>order_purchase_timestamp</th>\n",
       "      <th>order_delivered_customer_date</th>\n",
       "      <th>payment_type</th>\n",
       "      <th>payment_installments</th>\n",
       "      <th>payment_value</th>\n",
       "      <th>review_score</th>\n",
       "      <th>customer_unique_id</th>\n",
       "      <th>customer_zip_code_prefix</th>\n",
       "      <th>customer_city</th>\n",
       "      <th>customer_state</th>\n",
       "      <th>product_category_name_english</th>\n",
       "    </tr>\n",
       "  </thead>\n",
       "  <tbody>\n",
       "    <tr>\n",
       "      <th>0</th>\n",
       "      <td>e481f51cbdc54678b7cc49136f2d6af7</td>\n",
       "      <td>delivered</td>\n",
       "      <td>2017-10-02 10:56:33</td>\n",
       "      <td>2017-10-10 21:25:13</td>\n",
       "      <td>credit_card</td>\n",
       "      <td>1.0</td>\n",
       "      <td>18.12</td>\n",
       "      <td>4</td>\n",
       "      <td>7c396fd4830fd04220f754e42b4e5bff</td>\n",
       "      <td>3149</td>\n",
       "      <td>sao paulo</td>\n",
       "      <td>SP</td>\n",
       "      <td>housewares</td>\n",
       "    </tr>\n",
       "    <tr>\n",
       "      <th>1</th>\n",
       "      <td>e481f51cbdc54678b7cc49136f2d6af7</td>\n",
       "      <td>delivered</td>\n",
       "      <td>2017-10-02 10:56:33</td>\n",
       "      <td>2017-10-10 21:25:13</td>\n",
       "      <td>voucher</td>\n",
       "      <td>1.0</td>\n",
       "      <td>2.00</td>\n",
       "      <td>4</td>\n",
       "      <td>7c396fd4830fd04220f754e42b4e5bff</td>\n",
       "      <td>3149</td>\n",
       "      <td>sao paulo</td>\n",
       "      <td>SP</td>\n",
       "      <td>housewares</td>\n",
       "    </tr>\n",
       "    <tr>\n",
       "      <th>2</th>\n",
       "      <td>e481f51cbdc54678b7cc49136f2d6af7</td>\n",
       "      <td>delivered</td>\n",
       "      <td>2017-10-02 10:56:33</td>\n",
       "      <td>2017-10-10 21:25:13</td>\n",
       "      <td>voucher</td>\n",
       "      <td>1.0</td>\n",
       "      <td>18.59</td>\n",
       "      <td>4</td>\n",
       "      <td>7c396fd4830fd04220f754e42b4e5bff</td>\n",
       "      <td>3149</td>\n",
       "      <td>sao paulo</td>\n",
       "      <td>SP</td>\n",
       "      <td>housewares</td>\n",
       "    </tr>\n",
       "    <tr>\n",
       "      <th>3</th>\n",
       "      <td>53cdb2fc8bc7dce0b6741e2150273451</td>\n",
       "      <td>delivered</td>\n",
       "      <td>2018-07-24 20:41:37</td>\n",
       "      <td>2018-08-07 15:27:45</td>\n",
       "      <td>boleto</td>\n",
       "      <td>1.0</td>\n",
       "      <td>141.46</td>\n",
       "      <td>4</td>\n",
       "      <td>af07308b275d755c9edb36a90c618231</td>\n",
       "      <td>47813</td>\n",
       "      <td>barreiras</td>\n",
       "      <td>BA</td>\n",
       "      <td>perfumery</td>\n",
       "    </tr>\n",
       "    <tr>\n",
       "      <th>4</th>\n",
       "      <td>47770eb9100c2d0c44946d9cf07ec65d</td>\n",
       "      <td>delivered</td>\n",
       "      <td>2018-08-08 08:38:49</td>\n",
       "      <td>2018-08-17 18:06:29</td>\n",
       "      <td>credit_card</td>\n",
       "      <td>3.0</td>\n",
       "      <td>179.12</td>\n",
       "      <td>5</td>\n",
       "      <td>3a653a41f6f9fc3d2a113cf8398680e8</td>\n",
       "      <td>75265</td>\n",
       "      <td>vianopolis</td>\n",
       "      <td>GO</td>\n",
       "      <td>auto</td>\n",
       "    </tr>\n",
       "  </tbody>\n",
       "</table>\n",
       "</div>"
      ],
      "text/plain": [
       "                           order_id order_status order_purchase_timestamp  \\\n",
       "0  e481f51cbdc54678b7cc49136f2d6af7    delivered      2017-10-02 10:56:33   \n",
       "1  e481f51cbdc54678b7cc49136f2d6af7    delivered      2017-10-02 10:56:33   \n",
       "2  e481f51cbdc54678b7cc49136f2d6af7    delivered      2017-10-02 10:56:33   \n",
       "3  53cdb2fc8bc7dce0b6741e2150273451    delivered      2018-07-24 20:41:37   \n",
       "4  47770eb9100c2d0c44946d9cf07ec65d    delivered      2018-08-08 08:38:49   \n",
       "\n",
       "  order_delivered_customer_date payment_type  payment_installments  \\\n",
       "0           2017-10-10 21:25:13  credit_card                   1.0   \n",
       "1           2017-10-10 21:25:13      voucher                   1.0   \n",
       "2           2017-10-10 21:25:13      voucher                   1.0   \n",
       "3           2018-08-07 15:27:45       boleto                   1.0   \n",
       "4           2018-08-17 18:06:29  credit_card                   3.0   \n",
       "\n",
       "   payment_value  review_score                customer_unique_id  \\\n",
       "0          18.12             4  7c396fd4830fd04220f754e42b4e5bff   \n",
       "1           2.00             4  7c396fd4830fd04220f754e42b4e5bff   \n",
       "2          18.59             4  7c396fd4830fd04220f754e42b4e5bff   \n",
       "3         141.46             4  af07308b275d755c9edb36a90c618231   \n",
       "4         179.12             5  3a653a41f6f9fc3d2a113cf8398680e8   \n",
       "\n",
       "   customer_zip_code_prefix customer_city customer_state  \\\n",
       "0                      3149     sao paulo             SP   \n",
       "1                      3149     sao paulo             SP   \n",
       "2                      3149     sao paulo             SP   \n",
       "3                     47813     barreiras             BA   \n",
       "4                     75265    vianopolis             GO   \n",
       "\n",
       "  product_category_name_english  \n",
       "0                    housewares  \n",
       "1                    housewares  \n",
       "2                    housewares  \n",
       "3                     perfumery  \n",
       "4                          auto  "
      ]
     },
     "execution_count": 22,
     "metadata": {},
     "output_type": "execute_result"
    }
   ],
   "source": [
    "df = pd.read_csv('db_customers.csv')\n",
    "df.head(5)"
   ]
  },
  {
   "cell_type": "code",
   "execution_count": 23,
   "id": "f89b1922",
   "metadata": {
    "hidden": true
   },
   "outputs": [
    {
     "data": {
      "text/plain": [
       "9a736b248f67d166d2fbb006bcb877c3    54\n",
       "8af7ac63b2efbcbd88e5b11505e8098a    29\n",
       "569aa12b73b5f7edeaa6f2a01603e381    26\n",
       "db1af3fd6b23ac3873ef02619d548f9c    24\n",
       "1d2435aa3b858d45c707c9fc25e18779    24\n",
       "                                    ..\n",
       "e50569b62165a28a0ae455cc3654d277     1\n",
       "f2f850bf414ea87b12ddcd13a910bd68     1\n",
       "bd07a7b3f902d6f2cfb02eb03fec8372     1\n",
       "c437f78e91112d9dc120311a783aff58     1\n",
       "937f16b584dd395ce455ef468322b27f     1\n",
       "Name: customer_unique_id, Length: 96096, dtype: int64"
      ]
     },
     "execution_count": 23,
     "metadata": {},
     "output_type": "execute_result"
    }
   ],
   "source": [
    "df['customer_unique_id'].value_counts()"
   ]
  },
  {
   "cell_type": "code",
   "execution_count": 24,
   "id": "3f718e05",
   "metadata": {
    "hidden": true
   },
   "outputs": [
    {
     "data": {
      "text/plain": [
       "(105383, 13)"
      ]
     },
     "execution_count": 24,
     "metadata": {},
     "output_type": "execute_result"
    }
   ],
   "source": [
    "# basic informations about dataset (numbers of rows, columns)\n",
    "df.shape"
   ]
  },
  {
   "cell_type": "markdown",
   "id": "7a1219f8",
   "metadata": {
    "hidden": true
   },
   "source": [
    "❓ Which features should be formated in datetime ? \n",
    "Convert them"
   ]
  },
  {
   "cell_type": "code",
   "execution_count": 27,
   "id": "57a528fd",
   "metadata": {
    "ExecuteTime": {
     "end_time": "2021-10-03T14:07:52.225702Z",
     "start_time": "2021-10-03T14:07:52.135148Z"
    },
    "hidden": true
   },
   "outputs": [],
   "source": [
    "# recency / convert in datetime\n",
    "df['order_purchase_timestamp'] = df['order_purchase_timestamp'].apply(pd.to_datetime)\n",
    "df['order_delivered_customer_date'] = df['order_delivered_customer_date'].apply(pd.to_datetime)"
   ]
  },
  {
   "cell_type": "markdown",
   "id": "b51c5e36",
   "metadata": {
    "hidden": true
   },
   "source": [
    "❓ Which features are Categorical ? List the unique values on these features."
   ]
  },
  {
   "cell_type": "code",
   "execution_count": 28,
   "id": "4f134505",
   "metadata": {
    "hidden": true
   },
   "outputs": [
    {
     "data": {
      "text/plain": [
       "array(['delivered', 'invoiced', 'shipped', 'processing', 'unavailable',\n",
       "       'canceled', 'created', 'approved'], dtype=object)"
      ]
     },
     "execution_count": 28,
     "metadata": {},
     "output_type": "execute_result"
    }
   ],
   "source": [
    "# see values on categoricals features\n",
    "df['payment_type'].unique()\n",
    "df['customer_city'].unique()\n",
    "df['customer_state'].unique()\n",
    "df['product_category_name_english'].unique()\n",
    "df['order_status'].unique()"
   ]
  },
  {
   "cell_type": "markdown",
   "id": "ea7199d9",
   "metadata": {
    "hidden": true
   },
   "source": [
    "❓ Check for missing values. What do you notice ? \n"
   ]
  },
  {
   "cell_type": "code",
   "execution_count": 30,
   "id": "19eef9bd",
   "metadata": {
    "hidden": true
   },
   "outputs": [
    {
     "data": {
      "text/plain": [
       "order_id                            0\n",
       "order_status                        0\n",
       "order_purchase_timestamp            0\n",
       "order_delivered_customer_date    3159\n",
       "payment_type                        1\n",
       "payment_installments                1\n",
       "payment_value                       1\n",
       "review_score                        0\n",
       "customer_unique_id                  0\n",
       "customer_zip_code_prefix            0\n",
       "customer_city                       0\n",
       "customer_state                      0\n",
       "product_category_name_english    2410\n",
       "dtype: int64"
      ]
     },
     "execution_count": 30,
     "metadata": {},
     "output_type": "execute_result"
    }
   ],
   "source": [
    "# sum of NaN\n",
    "df.isnull().sum()"
   ]
  },
  {
   "cell_type": "markdown",
   "id": "c20dae84",
   "metadata": {
    "hidden": true
   },
   "source": [
    "❓ Can you find an explanation for the missing `order_delivered_customer_date` ? \n",
    "(hint : Check for non delivered orders)"
   ]
  },
  {
   "cell_type": "markdown",
   "id": "fb7fdaba",
   "metadata": {
    "hidden": true
   },
   "source": [
    "3159 orders not delivered / 1 order unpaid"
   ]
  },
  {
   "cell_type": "markdown",
   "id": "8fda8f88",
   "metadata": {
    "hidden": true
   },
   "source": [
    "❓ What are the proportions of each `order_status` ? "
   ]
  },
  {
   "cell_type": "code",
   "execution_count": 32,
   "id": "fbf2835b",
   "metadata": {
    "hidden": true
   },
   "outputs": [
    {
     "data": {
      "text/plain": [
       "delivered      0.970033\n",
       "shipped        0.011197\n",
       "canceled       0.006348\n",
       "unavailable    0.006177\n",
       "invoiced       0.003131\n",
       "processing     0.003046\n",
       "created        0.000047\n",
       "approved       0.000019\n",
       "Name: order_status, dtype: float64"
      ]
     },
     "execution_count": 32,
     "metadata": {},
     "output_type": "execute_result"
    }
   ],
   "source": [
    "df['order_status'].value_counts(normalize=True)"
   ]
  },
  {
   "cell_type": "markdown",
   "id": "ec529161",
   "metadata": {
    "hidden": true
   },
   "source": [
    "❓ Which `order_status` do you think should be removed from the analysis"
   ]
  },
  {
   "cell_type": "markdown",
   "id": "d8e38d78",
   "metadata": {
    "hidden": true
   },
   "source": [
    "canceled, unavailable, invoiced, processing, created, approved"
   ]
  },
  {
   "cell_type": "code",
   "execution_count": 33,
   "id": "63fc0913",
   "metadata": {
    "hidden": true
   },
   "outputs": [
    {
     "data": {
      "text/plain": [
       "delivered    102225\n",
       "shipped        1180\n",
       "Name: order_status, dtype: int64"
      ]
     },
     "execution_count": 33,
     "metadata": {},
     "output_type": "execute_result"
    }
   ],
   "source": [
    "# keep just delivered & shipped status\n",
    "df_new = df[(df['order_status'] != \"delivered\") & (df['order_status'] != \"shipped\")].index\n",
    "df.drop(df_new , inplace=True)\n",
    "df['order_status'].value_counts()"
   ]
  },
  {
   "cell_type": "markdown",
   "id": "8522754e",
   "metadata": {
    "heading_collapsed": true
   },
   "source": [
    "# Customer segmentation with RFM"
   ]
  },
  {
   "cell_type": "markdown",
   "id": "ee08d779",
   "metadata": {
    "hidden": true
   },
   "source": [
    "❓ What feature would you choose in the e-commerce dataset provided? "
   ]
  },
  {
   "cell_type": "code",
   "execution_count": 96,
   "id": "8961a988",
   "metadata": {
    "hidden": true
   },
   "outputs": [],
   "source": [
    "df_RFM = df[['customer_unique_id','order_id', 'order_purchase_timestamp']]"
   ]
  },
  {
   "cell_type": "markdown",
   "id": "15ef2508",
   "metadata": {
    "hidden": true
   },
   "source": [
    "❓ What method would you use to group the data? "
   ]
  },
  {
   "cell_type": "markdown",
   "id": "0870f2be",
   "metadata": {
    "hidden": true
   },
   "source": [
    "groupby or agg."
   ]
  },
  {
   "cell_type": "markdown",
   "id": "88b13787",
   "metadata": {
    "hidden": true
   },
   "source": [
    "❓ What feature would you use to group the data? "
   ]
  },
  {
   "cell_type": "markdown",
   "id": "e5223527",
   "metadata": {
    "hidden": true
   },
   "source": [
    "customer_unique_id"
   ]
  },
  {
   "cell_type": "markdown",
   "id": "e9412e54",
   "metadata": {
    "ExecuteTime": {
     "end_time": "2021-09-30T17:12:07.784903Z",
     "start_time": "2021-09-30T17:12:07.774134Z"
    },
    "hidden": true
   },
   "source": [
    "So there is one more step to carry out before the data is ready : Calculate the recency base on the date of the purchase"
   ]
  },
  {
   "cell_type": "markdown",
   "id": "1d5c27fa",
   "metadata": {
    "hidden": true
   },
   "source": [
    "❓ What is the date of the least purchase?"
   ]
  },
  {
   "cell_type": "code",
   "execution_count": 97,
   "id": "7a483e98",
   "metadata": {
    "hidden": true
   },
   "outputs": [
    {
     "data": {
      "text/plain": [
       "Timestamp('2016-09-04 21:15:19')"
      ]
     },
     "execution_count": 97,
     "metadata": {},
     "output_type": "execute_result"
    }
   ],
   "source": [
    "date_min = df['order_purchase_timestamp'].min()\n",
    "date_min"
   ]
  },
  {
   "cell_type": "markdown",
   "id": "2d623bbb",
   "metadata": {
    "ExecuteTime": {
     "end_time": "2021-09-30T17:14:26.599702Z",
     "start_time": "2021-09-30T17:14:26.592777Z"
    },
    "hidden": true
   },
   "source": [
    "❓What is the date of the most recent purchase?"
   ]
  },
  {
   "cell_type": "code",
   "execution_count": 98,
   "id": "4afe4d58",
   "metadata": {
    "hidden": true
   },
   "outputs": [
    {
     "data": {
      "text/plain": [
       "Timestamp('2018-09-03 09:06:57')"
      ]
     },
     "execution_count": 98,
     "metadata": {},
     "output_type": "execute_result"
    }
   ],
   "source": [
    "date_max = df['order_purchase_timestamp'].max()\n",
    "date_max"
   ]
  },
  {
   "cell_type": "markdown",
   "id": "4c54092d",
   "metadata": {
    "hidden": true
   },
   "source": [
    "❓How would you calculate the recency? (hint: what date would you use to compare with the purchase date? Today? probably not...)"
   ]
  },
  {
   "cell_type": "code",
   "execution_count": 99,
   "id": "537c40bb",
   "metadata": {
    "hidden": true
   },
   "outputs": [
    {
     "data": {
      "text/plain": [
       "Timestamp('2018-09-04 09:06:57')"
      ]
     },
     "execution_count": 99,
     "metadata": {},
     "output_type": "execute_result"
    }
   ],
   "source": [
    "recens_date = df['order_purchase_timestamp'].max() + timedelta(days=1)\n",
    "recens_date"
   ]
  },
  {
   "cell_type": "code",
   "execution_count": 100,
   "id": "4f9baff2",
   "metadata": {
    "hidden": true
   },
   "outputs": [
    {
     "data": {
      "text/html": [
       "<div>\n",
       "<style scoped>\n",
       "    .dataframe tbody tr th:only-of-type {\n",
       "        vertical-align: middle;\n",
       "    }\n",
       "\n",
       "    .dataframe tbody tr th {\n",
       "        vertical-align: top;\n",
       "    }\n",
       "\n",
       "    .dataframe thead th {\n",
       "        text-align: right;\n",
       "    }\n",
       "</style>\n",
       "<table border=\"1\" class=\"dataframe\">\n",
       "  <thead>\n",
       "    <tr style=\"text-align: right;\">\n",
       "      <th></th>\n",
       "      <th>CustomerID</th>\n",
       "      <th>LastOrder</th>\n",
       "    </tr>\n",
       "  </thead>\n",
       "  <tbody>\n",
       "    <tr>\n",
       "      <th>0</th>\n",
       "      <td>0000366f3b9a7992bf8c76cfdf3221e2</td>\n",
       "      <td>2018-05-10 10:56:27</td>\n",
       "    </tr>\n",
       "    <tr>\n",
       "      <th>1</th>\n",
       "      <td>0000b849f77a49e4a4ce2b2a4ca5be3f</td>\n",
       "      <td>2018-05-07 11:11:27</td>\n",
       "    </tr>\n",
       "    <tr>\n",
       "      <th>2</th>\n",
       "      <td>0000f46a3911fa3c0805444483337064</td>\n",
       "      <td>2017-03-10 21:05:03</td>\n",
       "    </tr>\n",
       "    <tr>\n",
       "      <th>3</th>\n",
       "      <td>0000f6ccb0745a6a4b88665a16c9f078</td>\n",
       "      <td>2017-10-12 20:29:41</td>\n",
       "    </tr>\n",
       "    <tr>\n",
       "      <th>4</th>\n",
       "      <td>0004aac84e0df4da2b147fca70cf8255</td>\n",
       "      <td>2017-11-14 19:45:42</td>\n",
       "    </tr>\n",
       "  </tbody>\n",
       "</table>\n",
       "</div>"
      ],
      "text/plain": [
       "                         CustomerID           LastOrder\n",
       "0  0000366f3b9a7992bf8c76cfdf3221e2 2018-05-10 10:56:27\n",
       "1  0000b849f77a49e4a4ce2b2a4ca5be3f 2018-05-07 11:11:27\n",
       "2  0000f46a3911fa3c0805444483337064 2017-03-10 21:05:03\n",
       "3  0000f6ccb0745a6a4b88665a16c9f078 2017-10-12 20:29:41\n",
       "4  0004aac84e0df4da2b147fca70cf8255 2017-11-14 19:45:42"
      ]
     },
     "execution_count": 100,
     "metadata": {},
     "output_type": "execute_result"
    }
   ],
   "source": [
    "# groupby for the recency \n",
    "recency_df = df.groupby(['customer_unique_id'],as_index=False)['order_purchase_timestamp'].max()\n",
    "# rename columns\n",
    "recency_df.columns = ['CustomerID', 'LastOrder']\n",
    "recency_df.head()"
   ]
  },
  {
   "cell_type": "code",
   "execution_count": 101,
   "id": "255ba7a6",
   "metadata": {
    "hidden": true
   },
   "outputs": [
    {
     "data": {
      "text/html": [
       "<div>\n",
       "<style scoped>\n",
       "    .dataframe tbody tr th:only-of-type {\n",
       "        vertical-align: middle;\n",
       "    }\n",
       "\n",
       "    .dataframe tbody tr th {\n",
       "        vertical-align: top;\n",
       "    }\n",
       "\n",
       "    .dataframe thead th {\n",
       "        text-align: right;\n",
       "    }\n",
       "</style>\n",
       "<table border=\"1\" class=\"dataframe\">\n",
       "  <thead>\n",
       "    <tr style=\"text-align: right;\">\n",
       "      <th></th>\n",
       "      <th>CustomerID</th>\n",
       "      <th>LastOrder</th>\n",
       "      <th>Recency</th>\n",
       "    </tr>\n",
       "  </thead>\n",
       "  <tbody>\n",
       "    <tr>\n",
       "      <th>0</th>\n",
       "      <td>0000366f3b9a7992bf8c76cfdf3221e2</td>\n",
       "      <td>2018-05-10 10:56:27</td>\n",
       "      <td>116</td>\n",
       "    </tr>\n",
       "    <tr>\n",
       "      <th>1</th>\n",
       "      <td>0000b849f77a49e4a4ce2b2a4ca5be3f</td>\n",
       "      <td>2018-05-07 11:11:27</td>\n",
       "      <td>119</td>\n",
       "    </tr>\n",
       "    <tr>\n",
       "      <th>2</th>\n",
       "      <td>0000f46a3911fa3c0805444483337064</td>\n",
       "      <td>2017-03-10 21:05:03</td>\n",
       "      <td>542</td>\n",
       "    </tr>\n",
       "    <tr>\n",
       "      <th>3</th>\n",
       "      <td>0000f6ccb0745a6a4b88665a16c9f078</td>\n",
       "      <td>2017-10-12 20:29:41</td>\n",
       "      <td>326</td>\n",
       "    </tr>\n",
       "    <tr>\n",
       "      <th>4</th>\n",
       "      <td>0004aac84e0df4da2b147fca70cf8255</td>\n",
       "      <td>2017-11-14 19:45:42</td>\n",
       "      <td>293</td>\n",
       "    </tr>\n",
       "  </tbody>\n",
       "</table>\n",
       "</div>"
      ],
      "text/plain": [
       "                         CustomerID           LastOrder  Recency\n",
       "0  0000366f3b9a7992bf8c76cfdf3221e2 2018-05-10 10:56:27      116\n",
       "1  0000b849f77a49e4a4ce2b2a4ca5be3f 2018-05-07 11:11:27      119\n",
       "2  0000f46a3911fa3c0805444483337064 2017-03-10 21:05:03      542\n",
       "3  0000f6ccb0745a6a4b88665a16c9f078 2017-10-12 20:29:41      326\n",
       "4  0004aac84e0df4da2b147fca70cf8255 2017-11-14 19:45:42      293"
      ]
     },
     "execution_count": 101,
     "metadata": {},
     "output_type": "execute_result"
    }
   ],
   "source": [
    "# add columns recency to dataset\n",
    "recency_df['Recency'] = recency_df.LastOrder.apply(lambda x : (recens_date - x).days)\n",
    "recency_df.head()"
   ]
  },
  {
   "cell_type": "code",
   "execution_count": 102,
   "id": "664293ac",
   "metadata": {
    "hidden": true
   },
   "outputs": [
    {
     "data": {
      "text/html": [
       "<div>\n",
       "<style scoped>\n",
       "    .dataframe tbody tr th:only-of-type {\n",
       "        vertical-align: middle;\n",
       "    }\n",
       "\n",
       "    .dataframe tbody tr th {\n",
       "        vertical-align: top;\n",
       "    }\n",
       "\n",
       "    .dataframe thead th {\n",
       "        text-align: right;\n",
       "    }\n",
       "</style>\n",
       "<table border=\"1\" class=\"dataframe\">\n",
       "  <thead>\n",
       "    <tr style=\"text-align: right;\">\n",
       "      <th></th>\n",
       "      <th>CustomerID</th>\n",
       "      <th>Frequency</th>\n",
       "    </tr>\n",
       "  </thead>\n",
       "  <tbody>\n",
       "    <tr>\n",
       "      <th>0</th>\n",
       "      <td>0000366f3b9a7992bf8c76cfdf3221e2</td>\n",
       "      <td>1</td>\n",
       "    </tr>\n",
       "    <tr>\n",
       "      <th>1</th>\n",
       "      <td>0000b849f77a49e4a4ce2b2a4ca5be3f</td>\n",
       "      <td>1</td>\n",
       "    </tr>\n",
       "    <tr>\n",
       "      <th>2</th>\n",
       "      <td>0000f46a3911fa3c0805444483337064</td>\n",
       "      <td>1</td>\n",
       "    </tr>\n",
       "    <tr>\n",
       "      <th>3</th>\n",
       "      <td>0000f6ccb0745a6a4b88665a16c9f078</td>\n",
       "      <td>1</td>\n",
       "    </tr>\n",
       "    <tr>\n",
       "      <th>4</th>\n",
       "      <td>0004aac84e0df4da2b147fca70cf8255</td>\n",
       "      <td>1</td>\n",
       "    </tr>\n",
       "    <tr>\n",
       "      <th>...</th>\n",
       "      <td>...</td>\n",
       "      <td>...</td>\n",
       "    </tr>\n",
       "    <tr>\n",
       "      <th>94394</th>\n",
       "      <td>fffcf5a5ff07b0908bd4e2dbc735a684</td>\n",
       "      <td>1</td>\n",
       "    </tr>\n",
       "    <tr>\n",
       "      <th>94395</th>\n",
       "      <td>fffea47cd6d3cc0a88bd621562a9d061</td>\n",
       "      <td>1</td>\n",
       "    </tr>\n",
       "    <tr>\n",
       "      <th>94396</th>\n",
       "      <td>ffff371b4d645b6ecea244b27531430a</td>\n",
       "      <td>1</td>\n",
       "    </tr>\n",
       "    <tr>\n",
       "      <th>94397</th>\n",
       "      <td>ffff5962728ec6157033ef9805bacc48</td>\n",
       "      <td>1</td>\n",
       "    </tr>\n",
       "    <tr>\n",
       "      <th>94398</th>\n",
       "      <td>ffffd2657e2aad2907e67c3e9daecbeb</td>\n",
       "      <td>1</td>\n",
       "    </tr>\n",
       "  </tbody>\n",
       "</table>\n",
       "<p>94399 rows × 2 columns</p>\n",
       "</div>"
      ],
      "text/plain": [
       "                             CustomerID  Frequency\n",
       "0      0000366f3b9a7992bf8c76cfdf3221e2          1\n",
       "1      0000b849f77a49e4a4ce2b2a4ca5be3f          1\n",
       "2      0000f46a3911fa3c0805444483337064          1\n",
       "3      0000f6ccb0745a6a4b88665a16c9f078          1\n",
       "4      0004aac84e0df4da2b147fca70cf8255          1\n",
       "...                                 ...        ...\n",
       "94394  fffcf5a5ff07b0908bd4e2dbc735a684          1\n",
       "94395  fffea47cd6d3cc0a88bd621562a9d061          1\n",
       "94396  ffff371b4d645b6ecea244b27531430a          1\n",
       "94397  ffff5962728ec6157033ef9805bacc48          1\n",
       "94398  ffffd2657e2aad2907e67c3e9daecbeb          1\n",
       "\n",
       "[94399 rows x 2 columns]"
      ]
     },
     "execution_count": 102,
     "metadata": {},
     "output_type": "execute_result"
    }
   ],
   "source": [
    "# groupby for the frequency\n",
    "freq_df = df_RFM.copy()\n",
    "freq_df = df.groupby(['customer_unique_id'],as_index=False)['order_id'].count()\n",
    "# rename columns\n",
    "freq_df.columns = ['CustomerID', 'Frequency']\n",
    "freq_df"
   ]
  },
  {
   "cell_type": "code",
   "execution_count": 103,
   "id": "32820e36",
   "metadata": {
    "hidden": true
   },
   "outputs": [
    {
     "data": {
      "text/plain": [
       "1     88115\n",
       "2      4990\n",
       "3       765\n",
       "4       279\n",
       "5        85\n",
       "6        68\n",
       "7        32\n",
       "8        14\n",
       "9        10\n",
       "11        7\n",
       "12        7\n",
       "10        6\n",
       "13        4\n",
       "14        3\n",
       "15        3\n",
       "24        3\n",
       "19        2\n",
       "16        1\n",
       "22        1\n",
       "23        1\n",
       "26        1\n",
       "29        1\n",
       "54        1\n",
       "Name: Frequency, dtype: int64"
      ]
     },
     "execution_count": 103,
     "metadata": {},
     "output_type": "execute_result"
    }
   ],
   "source": [
    "freq_df['Frequency'].value_counts()"
   ]
  },
  {
   "cell_type": "code",
   "execution_count": 104,
   "id": "e3e38cc7",
   "metadata": {
    "hidden": true
   },
   "outputs": [
    {
     "data": {
      "text/html": [
       "<div>\n",
       "<style scoped>\n",
       "    .dataframe tbody tr th:only-of-type {\n",
       "        vertical-align: middle;\n",
       "    }\n",
       "\n",
       "    .dataframe tbody tr th {\n",
       "        vertical-align: top;\n",
       "    }\n",
       "\n",
       "    .dataframe thead th {\n",
       "        text-align: right;\n",
       "    }\n",
       "</style>\n",
       "<table border=\"1\" class=\"dataframe\">\n",
       "  <thead>\n",
       "    <tr style=\"text-align: right;\">\n",
       "      <th></th>\n",
       "      <th>CustomerID</th>\n",
       "      <th>Monetary</th>\n",
       "    </tr>\n",
       "  </thead>\n",
       "  <tbody>\n",
       "    <tr>\n",
       "      <th>0</th>\n",
       "      <td>0000366f3b9a7992bf8c76cfdf3221e2</td>\n",
       "      <td>141.90</td>\n",
       "    </tr>\n",
       "    <tr>\n",
       "      <th>1</th>\n",
       "      <td>0000b849f77a49e4a4ce2b2a4ca5be3f</td>\n",
       "      <td>27.19</td>\n",
       "    </tr>\n",
       "    <tr>\n",
       "      <th>2</th>\n",
       "      <td>0000f46a3911fa3c0805444483337064</td>\n",
       "      <td>86.22</td>\n",
       "    </tr>\n",
       "    <tr>\n",
       "      <th>3</th>\n",
       "      <td>0000f6ccb0745a6a4b88665a16c9f078</td>\n",
       "      <td>43.62</td>\n",
       "    </tr>\n",
       "    <tr>\n",
       "      <th>4</th>\n",
       "      <td>0004aac84e0df4da2b147fca70cf8255</td>\n",
       "      <td>196.89</td>\n",
       "    </tr>\n",
       "    <tr>\n",
       "      <th>...</th>\n",
       "      <td>...</td>\n",
       "      <td>...</td>\n",
       "    </tr>\n",
       "    <tr>\n",
       "      <th>94394</th>\n",
       "      <td>fffcf5a5ff07b0908bd4e2dbc735a684</td>\n",
       "      <td>2067.42</td>\n",
       "    </tr>\n",
       "    <tr>\n",
       "      <th>94395</th>\n",
       "      <td>fffea47cd6d3cc0a88bd621562a9d061</td>\n",
       "      <td>84.58</td>\n",
       "    </tr>\n",
       "    <tr>\n",
       "      <th>94396</th>\n",
       "      <td>ffff371b4d645b6ecea244b27531430a</td>\n",
       "      <td>112.46</td>\n",
       "    </tr>\n",
       "    <tr>\n",
       "      <th>94397</th>\n",
       "      <td>ffff5962728ec6157033ef9805bacc48</td>\n",
       "      <td>133.69</td>\n",
       "    </tr>\n",
       "    <tr>\n",
       "      <th>94398</th>\n",
       "      <td>ffffd2657e2aad2907e67c3e9daecbeb</td>\n",
       "      <td>71.56</td>\n",
       "    </tr>\n",
       "  </tbody>\n",
       "</table>\n",
       "<p>94399 rows × 2 columns</p>\n",
       "</div>"
      ],
      "text/plain": [
       "                             CustomerID  Monetary\n",
       "0      0000366f3b9a7992bf8c76cfdf3221e2    141.90\n",
       "1      0000b849f77a49e4a4ce2b2a4ca5be3f     27.19\n",
       "2      0000f46a3911fa3c0805444483337064     86.22\n",
       "3      0000f6ccb0745a6a4b88665a16c9f078     43.62\n",
       "4      0004aac84e0df4da2b147fca70cf8255    196.89\n",
       "...                                 ...       ...\n",
       "94394  fffcf5a5ff07b0908bd4e2dbc735a684   2067.42\n",
       "94395  fffea47cd6d3cc0a88bd621562a9d061     84.58\n",
       "94396  ffff371b4d645b6ecea244b27531430a    112.46\n",
       "94397  ffff5962728ec6157033ef9805bacc48    133.69\n",
       "94398  ffffd2657e2aad2907e67c3e9daecbeb     71.56\n",
       "\n",
       "[94399 rows x 2 columns]"
      ]
     },
     "execution_count": 104,
     "metadata": {},
     "output_type": "execute_result"
    }
   ],
   "source": [
    "# groupby for the montant\n",
    "montant_df=df.groupby('customer_unique_id',as_index=False)['payment_value'].sum()\n",
    "# rename columns\n",
    "montant_df.columns = ['CustomerID','Monetary']\n",
    "montant_df"
   ]
  },
  {
   "cell_type": "code",
   "execution_count": 105,
   "id": "bb579ed5",
   "metadata": {
    "hidden": true
   },
   "outputs": [],
   "source": [
    "# merge recency_df + freq_df\n",
    "df_merge1 = recency_df.merge(freq_df,left_on='CustomerID',right_on='CustomerID')\n",
    "# merge df_merge1 + montant_df\n",
    "super_data = df_merge1.merge(montant_df,left_on='CustomerID',right_on='CustomerID')"
   ]
  },
  {
   "cell_type": "code",
   "execution_count": 106,
   "id": "da2b7f98",
   "metadata": {
    "hidden": true
   },
   "outputs": [
    {
     "data": {
      "text/html": [
       "<div>\n",
       "<style scoped>\n",
       "    .dataframe tbody tr th:only-of-type {\n",
       "        vertical-align: middle;\n",
       "    }\n",
       "\n",
       "    .dataframe tbody tr th {\n",
       "        vertical-align: top;\n",
       "    }\n",
       "\n",
       "    .dataframe thead th {\n",
       "        text-align: right;\n",
       "    }\n",
       "</style>\n",
       "<table border=\"1\" class=\"dataframe\">\n",
       "  <thead>\n",
       "    <tr style=\"text-align: right;\">\n",
       "      <th></th>\n",
       "      <th>CustomerID</th>\n",
       "      <th>LastOrder</th>\n",
       "      <th>Recency</th>\n",
       "      <th>Frequency</th>\n",
       "      <th>Monetary</th>\n",
       "    </tr>\n",
       "  </thead>\n",
       "  <tbody>\n",
       "    <tr>\n",
       "      <th>0</th>\n",
       "      <td>0000366f3b9a7992bf8c76cfdf3221e2</td>\n",
       "      <td>2018-05-10 10:56:27</td>\n",
       "      <td>116</td>\n",
       "      <td>1</td>\n",
       "      <td>141.90</td>\n",
       "    </tr>\n",
       "    <tr>\n",
       "      <th>1</th>\n",
       "      <td>0000b849f77a49e4a4ce2b2a4ca5be3f</td>\n",
       "      <td>2018-05-07 11:11:27</td>\n",
       "      <td>119</td>\n",
       "      <td>1</td>\n",
       "      <td>27.19</td>\n",
       "    </tr>\n",
       "    <tr>\n",
       "      <th>2</th>\n",
       "      <td>0000f46a3911fa3c0805444483337064</td>\n",
       "      <td>2017-03-10 21:05:03</td>\n",
       "      <td>542</td>\n",
       "      <td>1</td>\n",
       "      <td>86.22</td>\n",
       "    </tr>\n",
       "    <tr>\n",
       "      <th>3</th>\n",
       "      <td>0000f6ccb0745a6a4b88665a16c9f078</td>\n",
       "      <td>2017-10-12 20:29:41</td>\n",
       "      <td>326</td>\n",
       "      <td>1</td>\n",
       "      <td>43.62</td>\n",
       "    </tr>\n",
       "    <tr>\n",
       "      <th>4</th>\n",
       "      <td>0004aac84e0df4da2b147fca70cf8255</td>\n",
       "      <td>2017-11-14 19:45:42</td>\n",
       "      <td>293</td>\n",
       "      <td>1</td>\n",
       "      <td>196.89</td>\n",
       "    </tr>\n",
       "    <tr>\n",
       "      <th>...</th>\n",
       "      <td>...</td>\n",
       "      <td>...</td>\n",
       "      <td>...</td>\n",
       "      <td>...</td>\n",
       "      <td>...</td>\n",
       "    </tr>\n",
       "    <tr>\n",
       "      <th>94394</th>\n",
       "      <td>fffcf5a5ff07b0908bd4e2dbc735a684</td>\n",
       "      <td>2017-06-08 21:00:36</td>\n",
       "      <td>452</td>\n",
       "      <td>1</td>\n",
       "      <td>2067.42</td>\n",
       "    </tr>\n",
       "    <tr>\n",
       "      <th>94395</th>\n",
       "      <td>fffea47cd6d3cc0a88bd621562a9d061</td>\n",
       "      <td>2017-12-10 20:07:56</td>\n",
       "      <td>267</td>\n",
       "      <td>1</td>\n",
       "      <td>84.58</td>\n",
       "    </tr>\n",
       "    <tr>\n",
       "      <th>94396</th>\n",
       "      <td>ffff371b4d645b6ecea244b27531430a</td>\n",
       "      <td>2017-02-07 15:49:16</td>\n",
       "      <td>573</td>\n",
       "      <td>1</td>\n",
       "      <td>112.46</td>\n",
       "    </tr>\n",
       "    <tr>\n",
       "      <th>94397</th>\n",
       "      <td>ffff5962728ec6157033ef9805bacc48</td>\n",
       "      <td>2018-05-02 15:17:41</td>\n",
       "      <td>124</td>\n",
       "      <td>1</td>\n",
       "      <td>133.69</td>\n",
       "    </tr>\n",
       "    <tr>\n",
       "      <th>94398</th>\n",
       "      <td>ffffd2657e2aad2907e67c3e9daecbeb</td>\n",
       "      <td>2017-05-02 20:18:45</td>\n",
       "      <td>489</td>\n",
       "      <td>1</td>\n",
       "      <td>71.56</td>\n",
       "    </tr>\n",
       "  </tbody>\n",
       "</table>\n",
       "<p>94399 rows × 5 columns</p>\n",
       "</div>"
      ],
      "text/plain": [
       "                             CustomerID           LastOrder  Recency  \\\n",
       "0      0000366f3b9a7992bf8c76cfdf3221e2 2018-05-10 10:56:27      116   \n",
       "1      0000b849f77a49e4a4ce2b2a4ca5be3f 2018-05-07 11:11:27      119   \n",
       "2      0000f46a3911fa3c0805444483337064 2017-03-10 21:05:03      542   \n",
       "3      0000f6ccb0745a6a4b88665a16c9f078 2017-10-12 20:29:41      326   \n",
       "4      0004aac84e0df4da2b147fca70cf8255 2017-11-14 19:45:42      293   \n",
       "...                                 ...                 ...      ...   \n",
       "94394  fffcf5a5ff07b0908bd4e2dbc735a684 2017-06-08 21:00:36      452   \n",
       "94395  fffea47cd6d3cc0a88bd621562a9d061 2017-12-10 20:07:56      267   \n",
       "94396  ffff371b4d645b6ecea244b27531430a 2017-02-07 15:49:16      573   \n",
       "94397  ffff5962728ec6157033ef9805bacc48 2018-05-02 15:17:41      124   \n",
       "94398  ffffd2657e2aad2907e67c3e9daecbeb 2017-05-02 20:18:45      489   \n",
       "\n",
       "       Frequency  Monetary  \n",
       "0              1    141.90  \n",
       "1              1     27.19  \n",
       "2              1     86.22  \n",
       "3              1     43.62  \n",
       "4              1    196.89  \n",
       "...          ...       ...  \n",
       "94394          1   2067.42  \n",
       "94395          1     84.58  \n",
       "94396          1    112.46  \n",
       "94397          1    133.69  \n",
       "94398          1     71.56  \n",
       "\n",
       "[94399 rows x 5 columns]"
      ]
     },
     "execution_count": 106,
     "metadata": {},
     "output_type": "execute_result"
    }
   ],
   "source": [
    "# tadaaaaaaaaaaaaaaaam !\n",
    "super_data"
   ]
  },
  {
   "cell_type": "markdown",
   "id": "5d61da62",
   "metadata": {
    "heading_collapsed": true
   },
   "source": [
    "# Clustering - RFM Score"
   ]
  },
  {
   "cell_type": "markdown",
   "id": "258ca32b",
   "metadata": {
    "hidden": true
   },
   "source": [
    "Now that you have created a new dataset with the right columns, explore it to understand what you created."
   ]
  },
  {
   "cell_type": "markdown",
   "id": "813d87c9",
   "metadata": {
    "hidden": true
   },
   "source": [
    "❓Which column is the R? The F? The M?"
   ]
  },
  {
   "cell_type": "markdown",
   "id": "ad0ca9cf",
   "metadata": {
    "hidden": true
   },
   "source": [
    "R = Recensy<br>\n",
    "F = Frequency<br>\n",
    "M = Monetary"
   ]
  },
  {
   "cell_type": "markdown",
   "id": "06477a58",
   "metadata": {
    "hidden": true
   },
   "source": [
    "Now for each metric independantly, build clutsers (Hint 1: you can use `.describe()` to have insights about each metrics. Hint 2: Don't choose more than 3 clusters)"
   ]
  },
  {
   "cell_type": "code",
   "execution_count": 87,
   "id": "50619e6f",
   "metadata": {
    "hidden": true
   },
   "outputs": [
    {
     "data": {
      "text/html": [
       "<div>\n",
       "<style scoped>\n",
       "    .dataframe tbody tr th:only-of-type {\n",
       "        vertical-align: middle;\n",
       "    }\n",
       "\n",
       "    .dataframe tbody tr th {\n",
       "        vertical-align: top;\n",
       "    }\n",
       "\n",
       "    .dataframe thead th {\n",
       "        text-align: right;\n",
       "    }\n",
       "</style>\n",
       "<table border=\"1\" class=\"dataframe\">\n",
       "  <thead>\n",
       "    <tr style=\"text-align: right;\">\n",
       "      <th></th>\n",
       "      <th>count</th>\n",
       "      <th>mean</th>\n",
       "      <th>std</th>\n",
       "      <th>min</th>\n",
       "      <th>20%</th>\n",
       "      <th>50%</th>\n",
       "      <th>max</th>\n",
       "    </tr>\n",
       "  </thead>\n",
       "  <tbody>\n",
       "    <tr>\n",
       "      <th>Recency</th>\n",
       "      <td>94399.0</td>\n",
       "      <td>242.864162</td>\n",
       "      <td>152.723176</td>\n",
       "      <td>1.0</td>\n",
       "      <td>97.00</td>\n",
       "      <td>224.0</td>\n",
       "      <td>729.00</td>\n",
       "    </tr>\n",
       "    <tr>\n",
       "      <th>Frequency</th>\n",
       "      <td>94399.0</td>\n",
       "      <td>1.095404</td>\n",
       "      <td>0.530304</td>\n",
       "      <td>1.0</td>\n",
       "      <td>1.00</td>\n",
       "      <td>1.0</td>\n",
       "      <td>54.00</td>\n",
       "    </tr>\n",
       "    <tr>\n",
       "      <th>Monetary</th>\n",
       "      <td>94399.0</td>\n",
       "      <td>168.250134</td>\n",
       "      <td>232.880460</td>\n",
       "      <td>0.0</td>\n",
       "      <td>55.37</td>\n",
       "      <td>108.1</td>\n",
       "      <td>13664.08</td>\n",
       "    </tr>\n",
       "  </tbody>\n",
       "</table>\n",
       "</div>"
      ],
      "text/plain": [
       "             count        mean         std  min    20%    50%       max\n",
       "Recency    94399.0  242.864162  152.723176  1.0  97.00  224.0    729.00\n",
       "Frequency  94399.0    1.095404    0.530304  1.0   1.00    1.0     54.00\n",
       "Monetary   94399.0  168.250134  232.880460  0.0  55.37  108.1  13664.08"
      ]
     },
     "execution_count": 87,
     "metadata": {},
     "output_type": "execute_result"
    }
   ],
   "source": [
    "super_data.describe([0.20]).T"
   ]
  },
  {
   "cell_type": "code",
   "execution_count": 107,
   "id": "5e863616",
   "metadata": {
    "hidden": true
   },
   "outputs": [],
   "source": [
    "#Cluster RFM SCORE\n",
    "\n",
    "# Recency\n",
    "super_data[\"R\"] = [1 if x > 270  else 2 for x in super_data['Recency']]\n",
    "\n",
    "# Frequency\n",
    "super_data[\"F\"] = [2 if x > 1  else 1 for x in super_data['Frequency']]\n",
    "\n",
    "# Monetary\n",
    "def m_score (x):\n",
    "    if x <= super_data['Monetary'][200]:\n",
    "        return 3\n",
    "    elif x <= super_data['Monetary'][100]:\n",
    "        return 2\n",
    "    else:\n",
    "        return 1\n",
    "\n",
    "super_data['M'] = super_data['Monetary'].apply(lambda x: m_score(x))"
   ]
  },
  {
   "cell_type": "code",
   "execution_count": 108,
   "id": "1db350c0",
   "metadata": {
    "hidden": true
   },
   "outputs": [
    {
     "data": {
      "text/html": [
       "<div>\n",
       "<style scoped>\n",
       "    .dataframe tbody tr th:only-of-type {\n",
       "        vertical-align: middle;\n",
       "    }\n",
       "\n",
       "    .dataframe tbody tr th {\n",
       "        vertical-align: top;\n",
       "    }\n",
       "\n",
       "    .dataframe thead th {\n",
       "        text-align: right;\n",
       "    }\n",
       "</style>\n",
       "<table border=\"1\" class=\"dataframe\">\n",
       "  <thead>\n",
       "    <tr style=\"text-align: right;\">\n",
       "      <th></th>\n",
       "      <th>CustomerID</th>\n",
       "      <th>LastOrder</th>\n",
       "      <th>Recency</th>\n",
       "      <th>Frequency</th>\n",
       "      <th>Monetary</th>\n",
       "      <th>R</th>\n",
       "      <th>F</th>\n",
       "      <th>M</th>\n",
       "      <th>RFM Score</th>\n",
       "    </tr>\n",
       "  </thead>\n",
       "  <tbody>\n",
       "    <tr>\n",
       "      <th>0</th>\n",
       "      <td>0000366f3b9a7992bf8c76cfdf3221e2</td>\n",
       "      <td>2018-05-10 10:56:27</td>\n",
       "      <td>116</td>\n",
       "      <td>1</td>\n",
       "      <td>141.90</td>\n",
       "      <td>2</td>\n",
       "      <td>1</td>\n",
       "      <td>1</td>\n",
       "      <td>211</td>\n",
       "    </tr>\n",
       "    <tr>\n",
       "      <th>1</th>\n",
       "      <td>0000b849f77a49e4a4ce2b2a4ca5be3f</td>\n",
       "      <td>2018-05-07 11:11:27</td>\n",
       "      <td>119</td>\n",
       "      <td>1</td>\n",
       "      <td>27.19</td>\n",
       "      <td>2</td>\n",
       "      <td>1</td>\n",
       "      <td>3</td>\n",
       "      <td>213</td>\n",
       "    </tr>\n",
       "    <tr>\n",
       "      <th>2</th>\n",
       "      <td>0000f46a3911fa3c0805444483337064</td>\n",
       "      <td>2017-03-10 21:05:03</td>\n",
       "      <td>542</td>\n",
       "      <td>1</td>\n",
       "      <td>86.22</td>\n",
       "      <td>1</td>\n",
       "      <td>1</td>\n",
       "      <td>1</td>\n",
       "      <td>111</td>\n",
       "    </tr>\n",
       "    <tr>\n",
       "      <th>3</th>\n",
       "      <td>0000f6ccb0745a6a4b88665a16c9f078</td>\n",
       "      <td>2017-10-12 20:29:41</td>\n",
       "      <td>326</td>\n",
       "      <td>1</td>\n",
       "      <td>43.62</td>\n",
       "      <td>1</td>\n",
       "      <td>1</td>\n",
       "      <td>3</td>\n",
       "      <td>113</td>\n",
       "    </tr>\n",
       "    <tr>\n",
       "      <th>4</th>\n",
       "      <td>0004aac84e0df4da2b147fca70cf8255</td>\n",
       "      <td>2017-11-14 19:45:42</td>\n",
       "      <td>293</td>\n",
       "      <td>1</td>\n",
       "      <td>196.89</td>\n",
       "      <td>1</td>\n",
       "      <td>1</td>\n",
       "      <td>1</td>\n",
       "      <td>111</td>\n",
       "    </tr>\n",
       "  </tbody>\n",
       "</table>\n",
       "</div>"
      ],
      "text/plain": [
       "                         CustomerID           LastOrder  Recency  Frequency  \\\n",
       "0  0000366f3b9a7992bf8c76cfdf3221e2 2018-05-10 10:56:27      116          1   \n",
       "1  0000b849f77a49e4a4ce2b2a4ca5be3f 2018-05-07 11:11:27      119          1   \n",
       "2  0000f46a3911fa3c0805444483337064 2017-03-10 21:05:03      542          1   \n",
       "3  0000f6ccb0745a6a4b88665a16c9f078 2017-10-12 20:29:41      326          1   \n",
       "4  0004aac84e0df4da2b147fca70cf8255 2017-11-14 19:45:42      293          1   \n",
       "\n",
       "   Monetary  R  F  M RFM Score  \n",
       "0    141.90  2  1  1       211  \n",
       "1     27.19  2  1  3       213  \n",
       "2     86.22  1  1  1       111  \n",
       "3     43.62  1  1  3       113  \n",
       "4    196.89  1  1  1       111  "
      ]
     },
     "execution_count": 108,
     "metadata": {},
     "output_type": "execute_result"
    }
   ],
   "source": [
    "# add columns with score R F M\n",
    "super_data['RFM Score'] = super_data['R'].map(str) + super_data['F'].map(str) + super_data['M'].map(str)\n",
    "super_data.head()"
   ]
  },
  {
   "cell_type": "code",
   "execution_count": 90,
   "id": "cc3727fb",
   "metadata": {
    "hidden": true
   },
   "outputs": [
    {
     "data": {
      "text/plain": [
       "211    38155\n",
       "111    26072\n",
       "213    14160\n",
       "113     9728\n",
       "221     3247\n",
       "121     2221\n",
       "223      441\n",
       "123      375\n",
       "Name: RFM Score, dtype: int64"
      ]
     },
     "execution_count": 90,
     "metadata": {},
     "output_type": "execute_result"
    }
   ],
   "source": [
    "super_data['RFM Score'].value_counts()"
   ]
  },
  {
   "cell_type": "code",
   "execution_count": 109,
   "id": "1497dd48",
   "metadata": {
    "hidden": true
   },
   "outputs": [],
   "source": [
    "# define clients status according to the RFM Score\n",
    "def categ(x):\n",
    "    if x in[\"111\", \"112\", \"113\"]:\n",
    "        return \"Lost\"\n",
    "    elif x in[\"221\", \"222\"]:\n",
    "         return \"Fidèle\"\n",
    "    elif x in[\"123\", \"223\"]:\n",
    "        return \"Premium\"\n",
    "    else:\n",
    "        return \"Lambda\""
   ]
  },
  {
   "cell_type": "code",
   "execution_count": 110,
   "id": "014831ba",
   "metadata": {
    "hidden": true
   },
   "outputs": [
    {
     "data": {
      "text/html": [
       "<div>\n",
       "<style scoped>\n",
       "    .dataframe tbody tr th:only-of-type {\n",
       "        vertical-align: middle;\n",
       "    }\n",
       "\n",
       "    .dataframe tbody tr th {\n",
       "        vertical-align: top;\n",
       "    }\n",
       "\n",
       "    .dataframe thead th {\n",
       "        text-align: right;\n",
       "    }\n",
       "</style>\n",
       "<table border=\"1\" class=\"dataframe\">\n",
       "  <thead>\n",
       "    <tr style=\"text-align: right;\">\n",
       "      <th></th>\n",
       "      <th>CustomerID</th>\n",
       "      <th>LastOrder</th>\n",
       "      <th>Recency</th>\n",
       "      <th>Frequency</th>\n",
       "      <th>Monetary</th>\n",
       "      <th>R</th>\n",
       "      <th>F</th>\n",
       "      <th>M</th>\n",
       "      <th>RFM Score</th>\n",
       "      <th>Customer Status</th>\n",
       "    </tr>\n",
       "  </thead>\n",
       "  <tbody>\n",
       "    <tr>\n",
       "      <th>0</th>\n",
       "      <td>0000366f3b9a7992bf8c76cfdf3221e2</td>\n",
       "      <td>2018-05-10 10:56:27</td>\n",
       "      <td>116</td>\n",
       "      <td>1</td>\n",
       "      <td>141.90</td>\n",
       "      <td>2</td>\n",
       "      <td>1</td>\n",
       "      <td>1</td>\n",
       "      <td>211</td>\n",
       "      <td>Lambda</td>\n",
       "    </tr>\n",
       "    <tr>\n",
       "      <th>1</th>\n",
       "      <td>0000b849f77a49e4a4ce2b2a4ca5be3f</td>\n",
       "      <td>2018-05-07 11:11:27</td>\n",
       "      <td>119</td>\n",
       "      <td>1</td>\n",
       "      <td>27.19</td>\n",
       "      <td>2</td>\n",
       "      <td>1</td>\n",
       "      <td>3</td>\n",
       "      <td>213</td>\n",
       "      <td>Lambda</td>\n",
       "    </tr>\n",
       "    <tr>\n",
       "      <th>2</th>\n",
       "      <td>0000f46a3911fa3c0805444483337064</td>\n",
       "      <td>2017-03-10 21:05:03</td>\n",
       "      <td>542</td>\n",
       "      <td>1</td>\n",
       "      <td>86.22</td>\n",
       "      <td>1</td>\n",
       "      <td>1</td>\n",
       "      <td>1</td>\n",
       "      <td>111</td>\n",
       "      <td>Lost</td>\n",
       "    </tr>\n",
       "    <tr>\n",
       "      <th>3</th>\n",
       "      <td>0000f6ccb0745a6a4b88665a16c9f078</td>\n",
       "      <td>2017-10-12 20:29:41</td>\n",
       "      <td>326</td>\n",
       "      <td>1</td>\n",
       "      <td>43.62</td>\n",
       "      <td>1</td>\n",
       "      <td>1</td>\n",
       "      <td>3</td>\n",
       "      <td>113</td>\n",
       "      <td>Lost</td>\n",
       "    </tr>\n",
       "    <tr>\n",
       "      <th>4</th>\n",
       "      <td>0004aac84e0df4da2b147fca70cf8255</td>\n",
       "      <td>2017-11-14 19:45:42</td>\n",
       "      <td>293</td>\n",
       "      <td>1</td>\n",
       "      <td>196.89</td>\n",
       "      <td>1</td>\n",
       "      <td>1</td>\n",
       "      <td>1</td>\n",
       "      <td>111</td>\n",
       "      <td>Lost</td>\n",
       "    </tr>\n",
       "  </tbody>\n",
       "</table>\n",
       "</div>"
      ],
      "text/plain": [
       "                         CustomerID           LastOrder  Recency  Frequency  \\\n",
       "0  0000366f3b9a7992bf8c76cfdf3221e2 2018-05-10 10:56:27      116          1   \n",
       "1  0000b849f77a49e4a4ce2b2a4ca5be3f 2018-05-07 11:11:27      119          1   \n",
       "2  0000f46a3911fa3c0805444483337064 2017-03-10 21:05:03      542          1   \n",
       "3  0000f6ccb0745a6a4b88665a16c9f078 2017-10-12 20:29:41      326          1   \n",
       "4  0004aac84e0df4da2b147fca70cf8255 2017-11-14 19:45:42      293          1   \n",
       "\n",
       "   Monetary  R  F  M RFM Score Customer Status  \n",
       "0    141.90  2  1  1       211          Lambda  \n",
       "1     27.19  2  1  3       213          Lambda  \n",
       "2     86.22  1  1  1       111            Lost  \n",
       "3     43.62  1  1  3       113            Lost  \n",
       "4    196.89  1  1  1       111            Lost  "
      ]
     },
     "execution_count": 110,
     "metadata": {},
     "output_type": "execute_result"
    }
   ],
   "source": [
    "# make dataframe with \"Customer Status\" column\n",
    "super_data['Customer Status'] = super_data['RFM Score'].apply(categ)\n",
    "super_data.head()"
   ]
  },
  {
   "cell_type": "code",
   "execution_count": 112,
   "id": "b732ad8f",
   "metadata": {
    "hidden": true
   },
   "outputs": [
    {
     "data": {
      "text/plain": [
       "Lambda     0.577718\n",
       "Lost       0.379241\n",
       "Fidèle     0.034397\n",
       "Premium    0.008644\n",
       "Name: Customer Status, dtype: float64"
      ]
     },
     "execution_count": 112,
     "metadata": {},
     "output_type": "execute_result"
    }
   ],
   "source": [
    "super_data['Customer Status'].value_counts(normalize=True)"
   ]
  },
  {
   "cell_type": "code",
   "execution_count": 114,
   "id": "666f587f",
   "metadata": {
    "hidden": true
   },
   "outputs": [
    {
     "data": {
      "image/png": "[encoded data removed]",
      "text/plain": [
       "<Figure size 432x288 with 1 Axes>"
      ]
     },
     "metadata": {
      "needs_background": "light"
     },
     "output_type": "display_data"
    }
   ],
   "source": [
    "# customers in each status\n",
    "categ_counts = super_data['Customer Status'].value_counts().sort_values(ascending=True)\n",
    "\n",
    "fig, ax = plt.subplots()\n",
    "\n",
    "bars = ax.barh(range(len(categ_counts)),\n",
    "              categ_counts,\n",
    "              color='silver')\n",
    "ax.set_yticks(range(len(categ_counts)))\n",
    "ax.set_yticklabels(categ_counts.index)\n",
    "\n",
    "for i, bar in enumerate(bars):\n",
    "        value = bar.get_width()\n",
    "        if categ_counts.index[i] in ['Premium']:\n",
    "            bar.set_color('firebrick')\n",
    "        ax.text(value,\n",
    "                bar.get_y() + bar.get_height()/2,\n",
    "                '{:,} ({:}%)'.format(int(value),\n",
    "                                   int(value*100/categ_counts.sum())),\n",
    "                va='center',\n",
    "                ha='left'\n",
    "               )\n",
    "\n",
    "plt.show()"
   ]
  },
  {
   "cell_type": "code",
   "execution_count": 119,
   "id": "3cb7060d",
   "metadata": {
    "hidden": true
   },
   "outputs": [
    {
     "data": {
      "image/png": "[encoded data removed]",
      "text/plain": [
       "<Figure size 1080x360 with 1 Axes>"
      ]
     },
     "metadata": {
      "needs_background": "light"
     },
     "output_type": "display_data"
    }
   ],
   "source": [
    "# visualisation squarify\n",
    "y = super_data['Customer Status'].value_counts()\n",
    "plt.rcParams['figure.figsize'] = (15, 5)\n",
    "color = plt.cm.tab20c(np.linspace(0, 1, 15))\n",
    "squarify.plot(sizes = y.values, label = y.index, alpha=.8, color = color)\n",
    "plt.title('Your clients are...', fontsize = 20)\n",
    "plt.axis('off')\n",
    "plt.show()"
   ]
  },
  {
   "cell_type": "markdown",
   "id": "35e5c910",
   "metadata": {
    "heading_collapsed": true
   },
   "source": [
    "# Working with cohorts"
   ]
  },
  {
   "cell_type": "markdown",
   "id": "dfff1220",
   "metadata": {
    "hidden": true
   },
   "source": [
    "❓What is a cohort? "
   ]
  },
  {
   "cell_type": "markdown",
   "id": "62d8410c",
   "metadata": {
    "hidden": true
   },
   "source": [
    "A cohort represents a group of a population which shares something in common within a specified period"
   ]
  },
  {
   "cell_type": "markdown",
   "id": "52799839",
   "metadata": {
    "hidden": true
   },
   "source": [
    "❓Why is it interesting to analyse cohorts ? "
   ]
  },
  {
   "cell_type": "markdown",
   "id": "07f21abe",
   "metadata": {
    "hidden": true
   },
   "source": [
    "It helps to analyze the customers"
   ]
  },
  {
   "cell_type": "markdown",
   "id": "6b920111",
   "metadata": {
    "ExecuteTime": {
     "end_time": "2021-10-02T12:45:56.885240Z",
     "start_time": "2021-10-02T12:45:56.851306Z"
    },
    "hidden": true
   },
   "source": [
    "❓What data (already existing in the original dataset) do we need to build a cohort? "
   ]
  },
  {
   "cell_type": "markdown",
   "id": "0648c366",
   "metadata": {
    "hidden": true
   },
   "source": [
    "- order_purchase_timestamp<br>\n",
    "- order_id<br>\n",
    "- customer_unique_id<br>"
   ]
  },
  {
   "cell_type": "markdown",
   "id": "cc8dda95",
   "metadata": {
    "ExecuteTime": {
     "end_time": "2021-10-02T12:49:04.915097Z",
     "start_time": "2021-10-02T12:49:04.910544Z"
    },
    "hidden": true
   },
   "source": [
    "Build a new df with just these 3 features"
   ]
  },
  {
   "cell_type": "code",
   "execution_count": 144,
   "id": "0cca0c76",
   "metadata": {
    "hidden": true
   },
   "outputs": [],
   "source": [
    "df_cohort = df[['customer_unique_id', 'order_id', 'order_purchase_timestamp']].drop_duplicates()"
   ]
  },
  {
   "cell_type": "markdown",
   "id": "51ebf23b",
   "metadata": {
    "hidden": true
   },
   "source": [
    "Using the `pandas.Serie.dt.to_period()` methode, create a new feature converting `order_purchase_timestamp` in months"
   ]
  },
  {
   "cell_type": "code",
   "execution_count": 145,
   "id": "5af63086",
   "metadata": {
    "hidden": true
   },
   "outputs": [],
   "source": [
    "df['order_purchase_timestamp'] = df['order_purchase_timestamp'].apply(pd.to_datetime)"
   ]
  },
  {
   "cell_type": "code",
   "execution_count": 146,
   "id": "89b4ba0c",
   "metadata": {
    "hidden": true
   },
   "outputs": [],
   "source": [
    "df_cohort['order_time_month'] = df_cohort['order_purchase_timestamp'].dt.to_period('M')"
   ]
  },
  {
   "cell_type": "markdown",
   "id": "453dcc64",
   "metadata": {
    "hidden": true
   },
   "source": [
    "Create a new feature called `cohort` by grouping the previous df by `customer_unique_id`, and tranforming it's minimum value in months (with the same `pandas.Serie.dt.to_period()` as before)"
   ]
  },
  {
   "cell_type": "code",
   "execution_count": 147,
   "id": "40b375fa",
   "metadata": {
    "hidden": true
   },
   "outputs": [],
   "source": [
    "df_cohort['cohort'] = df_cohort.groupby('customer_unique_id')['order_purchase_timestamp'].transform('min').dt.to_period('M') "
   ]
  },
  {
   "cell_type": "code",
   "execution_count": 148,
   "id": "d9e6e7c6",
   "metadata": {
    "hidden": true
   },
   "outputs": [],
   "source": [
    "# For the teachers, To filter by only the customer that have done 2 or more purchases\n",
    "df_more =pd.DataFrame(df_cohort.groupby('customer_unique_id').size()[df_cohort.groupby('customer_unique_id').size() > 1])\n",
    "df_cohort = df_cohort.merge(df_more, how='left', on='customer_unique_id').rename(columns={0:'na'})\n",
    "\n",
    "df_cohort = df_cohort[df_cohort['na'].notna()]"
   ]
  },
  {
   "cell_type": "code",
   "execution_count": 149,
   "id": "349c4212",
   "metadata": {
    "hidden": true
   },
   "outputs": [
    {
     "data": {
      "text/html": [
       "<div>\n",
       "<style scoped>\n",
       "    .dataframe tbody tr th:only-of-type {\n",
       "        vertical-align: middle;\n",
       "    }\n",
       "\n",
       "    .dataframe tbody tr th {\n",
       "        vertical-align: top;\n",
       "    }\n",
       "\n",
       "    .dataframe thead th {\n",
       "        text-align: right;\n",
       "    }\n",
       "</style>\n",
       "<table border=\"1\" class=\"dataframe\">\n",
       "  <thead>\n",
       "    <tr style=\"text-align: right;\">\n",
       "      <th></th>\n",
       "      <th>customer_unique_id</th>\n",
       "      <th>order_id</th>\n",
       "      <th>order_purchase_timestamp</th>\n",
       "      <th>order_time_month</th>\n",
       "      <th>cohort</th>\n",
       "      <th>na</th>\n",
       "    </tr>\n",
       "  </thead>\n",
       "  <tbody>\n",
       "    <tr>\n",
       "      <th>0</th>\n",
       "      <td>7c396fd4830fd04220f754e42b4e5bff</td>\n",
       "      <td>e481f51cbdc54678b7cc49136f2d6af7</td>\n",
       "      <td>2017-10-02 10:56:33</td>\n",
       "      <td>2017-10</td>\n",
       "      <td>2017-09</td>\n",
       "      <td>2.0</td>\n",
       "    </tr>\n",
       "    <tr>\n",
       "      <th>14</th>\n",
       "      <td>ccafc1c3f270410521c3c6f3b249870f</td>\n",
       "      <td>dcb36b511fcac050b97cd5c05de84dc3</td>\n",
       "      <td>2018-06-07 19:03:12</td>\n",
       "      <td>2018-06</td>\n",
       "      <td>2016-10</td>\n",
       "      <td>2.0</td>\n",
       "    </tr>\n",
       "    <tr>\n",
       "      <th>15</th>\n",
       "      <td>6e26bbeaa107ec34112c64e1ee31c0f5</td>\n",
       "      <td>403b97836b0c04a622354cf531062e5f</td>\n",
       "      <td>2018-01-02 19:00:43</td>\n",
       "      <td>2018-01</td>\n",
       "      <td>2017-07</td>\n",
       "      <td>2.0</td>\n",
       "    </tr>\n",
       "    <tr>\n",
       "      <th>43</th>\n",
       "      <td>08fb46d35bb3ab4037202c23592d1259</td>\n",
       "      <td>ee64d42b8cf066f35eac1cf57de1aa85</td>\n",
       "      <td>2018-06-04 16:44:48</td>\n",
       "      <td>2018-06</td>\n",
       "      <td>2018-06</td>\n",
       "      <td>2.0</td>\n",
       "    </tr>\n",
       "    <tr>\n",
       "      <th>45</th>\n",
       "      <td>c2551ea089b7ebbc67a2ea8757152514</td>\n",
       "      <td>d17dc4a904426827ca80f2ccb3a6be56</td>\n",
       "      <td>2017-05-14 20:28:25</td>\n",
       "      <td>2017-05</td>\n",
       "      <td>2017-05</td>\n",
       "      <td>2.0</td>\n",
       "    </tr>\n",
       "  </tbody>\n",
       "</table>\n",
       "</div>"
      ],
      "text/plain": [
       "                  customer_unique_id                          order_id  \\\n",
       "0   7c396fd4830fd04220f754e42b4e5bff  e481f51cbdc54678b7cc49136f2d6af7   \n",
       "14  ccafc1c3f270410521c3c6f3b249870f  dcb36b511fcac050b97cd5c05de84dc3   \n",
       "15  6e26bbeaa107ec34112c64e1ee31c0f5  403b97836b0c04a622354cf531062e5f   \n",
       "43  08fb46d35bb3ab4037202c23592d1259  ee64d42b8cf066f35eac1cf57de1aa85   \n",
       "45  c2551ea089b7ebbc67a2ea8757152514  d17dc4a904426827ca80f2ccb3a6be56   \n",
       "\n",
       "   order_purchase_timestamp order_time_month   cohort   na  \n",
       "0       2017-10-02 10:56:33          2017-10  2017-09  2.0  \n",
       "14      2018-06-07 19:03:12          2018-06  2016-10  2.0  \n",
       "15      2018-01-02 19:00:43          2018-01  2017-07  2.0  \n",
       "43      2018-06-04 16:44:48          2018-06  2018-06  2.0  \n",
       "45      2017-05-14 20:28:25          2017-05  2017-05  2.0  "
      ]
     },
     "execution_count": 149,
     "metadata": {},
     "output_type": "execute_result"
    }
   ],
   "source": [
    "df_cohort.head()"
   ]
  },
  {
   "cell_type": "markdown",
   "id": "f4922f0d",
   "metadata": {
    "hidden": true
   },
   "source": [
    "Now groupby `['cohort', 'order_month']` and aggregate by `nunique()` `customer_unique_id`"
   ]
  },
  {
   "cell_type": "code",
   "execution_count": 150,
   "id": "1825900f",
   "metadata": {
    "hidden": true
   },
   "outputs": [],
   "source": [
    "df_c = df_cohort.groupby(['cohort', 'order_time_month']) \\\n",
    "              .agg(n_customers=('customer_unique_id', 'nunique')) \\\n",
    "              .reset_index(drop=False)"
   ]
  },
  {
   "cell_type": "markdown",
   "id": "76bcaf82",
   "metadata": {
    "hidden": true
   },
   "source": [
    "Finally, create a feature called `['period_number']` where you substract the `cohort` to the `order_month` and get the `'n'` attribute thanks to the `operator.attrgetter` method"
   ]
  },
  {
   "cell_type": "code",
   "execution_count": 152,
   "id": "6904f60a",
   "metadata": {
    "hidden": true
   },
   "outputs": [],
   "source": [
    "df_c['period_number'] = (df_c.order_time_month - df_c.cohort).apply(attrgetter('n'))"
   ]
  },
  {
   "cell_type": "markdown",
   "id": "cd9c4c0a",
   "metadata": {
    "ExecuteTime": {
     "end_time": "2021-10-03T13:45:27.180256Z",
     "start_time": "2021-10-03T13:45:27.158955Z"
    },
    "hidden": true
   },
   "source": [
    "Explore a cohort (for example 2017-01) and try to understand what it shows"
   ]
  },
  {
   "cell_type": "code",
   "execution_count": 153,
   "id": "367b46ff",
   "metadata": {
    "hidden": true
   },
   "outputs": [
    {
     "data": {
      "text/html": [
       "<div>\n",
       "<style scoped>\n",
       "    .dataframe tbody tr th:only-of-type {\n",
       "        vertical-align: middle;\n",
       "    }\n",
       "\n",
       "    .dataframe tbody tr th {\n",
       "        vertical-align: top;\n",
       "    }\n",
       "\n",
       "    .dataframe thead th {\n",
       "        text-align: right;\n",
       "    }\n",
       "</style>\n",
       "<table border=\"1\" class=\"dataframe\">\n",
       "  <thead>\n",
       "    <tr style=\"text-align: right;\">\n",
       "      <th></th>\n",
       "      <th>cohort</th>\n",
       "      <th>order_time_month</th>\n",
       "      <th>n_customers</th>\n",
       "      <th>period_number</th>\n",
       "    </tr>\n",
       "  </thead>\n",
       "  <tbody>\n",
       "    <tr>\n",
       "      <th>11</th>\n",
       "      <td>2017-01</td>\n",
       "      <td>2017-01</td>\n",
       "      <td>55</td>\n",
       "      <td>0</td>\n",
       "    </tr>\n",
       "    <tr>\n",
       "      <th>12</th>\n",
       "      <td>2017-01</td>\n",
       "      <td>2017-02</td>\n",
       "      <td>3</td>\n",
       "      <td>1</td>\n",
       "    </tr>\n",
       "    <tr>\n",
       "      <th>13</th>\n",
       "      <td>2017-01</td>\n",
       "      <td>2017-03</td>\n",
       "      <td>2</td>\n",
       "      <td>2</td>\n",
       "    </tr>\n",
       "    <tr>\n",
       "      <th>14</th>\n",
       "      <td>2017-01</td>\n",
       "      <td>2017-04</td>\n",
       "      <td>1</td>\n",
       "      <td>3</td>\n",
       "    </tr>\n",
       "    <tr>\n",
       "      <th>15</th>\n",
       "      <td>2017-01</td>\n",
       "      <td>2017-05</td>\n",
       "      <td>3</td>\n",
       "      <td>4</td>\n",
       "    </tr>\n",
       "    <tr>\n",
       "      <th>16</th>\n",
       "      <td>2017-01</td>\n",
       "      <td>2017-06</td>\n",
       "      <td>1</td>\n",
       "      <td>5</td>\n",
       "    </tr>\n",
       "    <tr>\n",
       "      <th>17</th>\n",
       "      <td>2017-01</td>\n",
       "      <td>2017-07</td>\n",
       "      <td>3</td>\n",
       "      <td>6</td>\n",
       "    </tr>\n",
       "    <tr>\n",
       "      <th>18</th>\n",
       "      <td>2017-01</td>\n",
       "      <td>2017-08</td>\n",
       "      <td>1</td>\n",
       "      <td>7</td>\n",
       "    </tr>\n",
       "    <tr>\n",
       "      <th>19</th>\n",
       "      <td>2017-01</td>\n",
       "      <td>2017-09</td>\n",
       "      <td>1</td>\n",
       "      <td>8</td>\n",
       "    </tr>\n",
       "    <tr>\n",
       "      <th>20</th>\n",
       "      <td>2017-01</td>\n",
       "      <td>2017-11</td>\n",
       "      <td>3</td>\n",
       "      <td>10</td>\n",
       "    </tr>\n",
       "    <tr>\n",
       "      <th>21</th>\n",
       "      <td>2017-01</td>\n",
       "      <td>2017-12</td>\n",
       "      <td>1</td>\n",
       "      <td>11</td>\n",
       "    </tr>\n",
       "    <tr>\n",
       "      <th>22</th>\n",
       "      <td>2017-01</td>\n",
       "      <td>2018-01</td>\n",
       "      <td>5</td>\n",
       "      <td>12</td>\n",
       "    </tr>\n",
       "    <tr>\n",
       "      <th>23</th>\n",
       "      <td>2017-01</td>\n",
       "      <td>2018-02</td>\n",
       "      <td>3</td>\n",
       "      <td>13</td>\n",
       "    </tr>\n",
       "    <tr>\n",
       "      <th>24</th>\n",
       "      <td>2017-01</td>\n",
       "      <td>2018-03</td>\n",
       "      <td>1</td>\n",
       "      <td>14</td>\n",
       "    </tr>\n",
       "    <tr>\n",
       "      <th>25</th>\n",
       "      <td>2017-01</td>\n",
       "      <td>2018-04</td>\n",
       "      <td>1</td>\n",
       "      <td>15</td>\n",
       "    </tr>\n",
       "    <tr>\n",
       "      <th>26</th>\n",
       "      <td>2017-01</td>\n",
       "      <td>2018-05</td>\n",
       "      <td>2</td>\n",
       "      <td>16</td>\n",
       "    </tr>\n",
       "    <tr>\n",
       "      <th>27</th>\n",
       "      <td>2017-01</td>\n",
       "      <td>2018-06</td>\n",
       "      <td>3</td>\n",
       "      <td>17</td>\n",
       "    </tr>\n",
       "    <tr>\n",
       "      <th>28</th>\n",
       "      <td>2017-01</td>\n",
       "      <td>2018-08</td>\n",
       "      <td>1</td>\n",
       "      <td>19</td>\n",
       "    </tr>\n",
       "  </tbody>\n",
       "</table>\n",
       "</div>"
      ],
      "text/plain": [
       "     cohort order_time_month  n_customers  period_number\n",
       "11  2017-01          2017-01           55              0\n",
       "12  2017-01          2017-02            3              1\n",
       "13  2017-01          2017-03            2              2\n",
       "14  2017-01          2017-04            1              3\n",
       "15  2017-01          2017-05            3              4\n",
       "16  2017-01          2017-06            1              5\n",
       "17  2017-01          2017-07            3              6\n",
       "18  2017-01          2017-08            1              7\n",
       "19  2017-01          2017-09            1              8\n",
       "20  2017-01          2017-11            3             10\n",
       "21  2017-01          2017-12            1             11\n",
       "22  2017-01          2018-01            5             12\n",
       "23  2017-01          2018-02            3             13\n",
       "24  2017-01          2018-03            1             14\n",
       "25  2017-01          2018-04            1             15\n",
       "26  2017-01          2018-05            2             16\n",
       "27  2017-01          2018-06            3             17\n",
       "28  2017-01          2018-08            1             19"
      ]
     },
     "execution_count": 153,
     "metadata": {},
     "output_type": "execute_result"
    }
   ],
   "source": [
    "view = df_c[df_c[\"cohort\"] == '2017-01']\n",
    "view"
   ]
  },
  {
   "cell_type": "markdown",
   "id": "fec1e6e7",
   "metadata": {
    "hidden": true
   },
   "source": [
    "Pivot the DataFrame using the methode : `DataFrame.pivot_table` (hint : use `'cohort'` as `index`, `'period_number'` as columns, and `'n_customers'` as `values`)"
   ]
  },
  {
   "cell_type": "code",
   "execution_count": 154,
   "id": "d273c874",
   "metadata": {
    "hidden": true
   },
   "outputs": [],
   "source": [
    "cohort_piv = df_c.pivot_table(index = 'cohort', columns = 'period_number',values = 'n_customers')"
   ]
  },
  {
   "cell_type": "markdown",
   "id": "fdf4935b",
   "metadata": {
    "hidden": true
   },
   "source": [
    "Now divide all the values (except you column 0) by the column 0 and name this new DataFrame `retention_matrix`"
   ]
  },
  {
   "cell_type": "code",
   "execution_count": 155,
   "id": "940f0007",
   "metadata": {
    "hidden": true
   },
   "outputs": [],
   "source": [
    "cohort_size = cohort_piv.iloc[:,0]\n",
    "retention_matrix = cohort_piv.divide(cohort_size, axis = 0)"
   ]
  },
  {
   "cell_type": "code",
   "execution_count": 156,
   "id": "6c9e9746",
   "metadata": {
    "hidden": true
   },
   "outputs": [
    {
     "data": {
      "text/html": [
       "<div>\n",
       "<style scoped>\n",
       "    .dataframe tbody tr th:only-of-type {\n",
       "        vertical-align: middle;\n",
       "    }\n",
       "\n",
       "    .dataframe tbody tr th {\n",
       "        vertical-align: top;\n",
       "    }\n",
       "\n",
       "    .dataframe thead th {\n",
       "        text-align: right;\n",
       "    }\n",
       "</style>\n",
       "<table border=\"1\" class=\"dataframe\">\n",
       "  <thead>\n",
       "    <tr style=\"text-align: right;\">\n",
       "      <th></th>\n",
       "      <th>cohort</th>\n",
       "      <th>order_time_month</th>\n",
       "      <th>n_customers</th>\n",
       "      <th>period_number</th>\n",
       "    </tr>\n",
       "  </thead>\n",
       "  <tbody>\n",
       "    <tr>\n",
       "      <th>0</th>\n",
       "      <td>2016-10</td>\n",
       "      <td>2016-10</td>\n",
       "      <td>12</td>\n",
       "      <td>0</td>\n",
       "    </tr>\n",
       "    <tr>\n",
       "      <th>1</th>\n",
       "      <td>2016-10</td>\n",
       "      <td>2017-04</td>\n",
       "      <td>1</td>\n",
       "      <td>6</td>\n",
       "    </tr>\n",
       "    <tr>\n",
       "      <th>2</th>\n",
       "      <td>2016-10</td>\n",
       "      <td>2017-07</td>\n",
       "      <td>1</td>\n",
       "      <td>9</td>\n",
       "    </tr>\n",
       "    <tr>\n",
       "      <th>3</th>\n",
       "      <td>2016-10</td>\n",
       "      <td>2017-09</td>\n",
       "      <td>1</td>\n",
       "      <td>11</td>\n",
       "    </tr>\n",
       "    <tr>\n",
       "      <th>4</th>\n",
       "      <td>2016-10</td>\n",
       "      <td>2017-11</td>\n",
       "      <td>1</td>\n",
       "      <td>13</td>\n",
       "    </tr>\n",
       "  </tbody>\n",
       "</table>\n",
       "</div>"
      ],
      "text/plain": [
       "    cohort order_time_month  n_customers  period_number\n",
       "0  2016-10          2016-10           12              0\n",
       "1  2016-10          2017-04            1              6\n",
       "2  2016-10          2017-07            1              9\n",
       "3  2016-10          2017-09            1             11\n",
       "4  2016-10          2017-11            1             13"
      ]
     },
     "execution_count": 156,
     "metadata": {},
     "output_type": "execute_result"
    }
   ],
   "source": [
    "df_c.head()"
   ]
  },
  {
   "cell_type": "markdown",
   "id": "cb7a4322",
   "metadata": {
    "hidden": true
   },
   "source": [
    "Plot your `retention matrix` using the code below : "
   ]
  },
  {
   "cell_type": "code",
   "execution_count": 160,
   "id": "4387f22d",
   "metadata": {
    "ExecuteTime": {
     "end_time": "2021-10-03T11:53:03.187978Z",
     "start_time": "2021-10-03T11:53:00.110548Z"
    },
    "hidden": true
   },
   "outputs": [
    {
     "data": {
      "image/png": "[encoded data removed]",
      "text/plain": [
       "<Figure size 864x576 with 3 Axes>"
      ]
     },
     "metadata": {},
     "output_type": "display_data"
    }
   ],
   "source": [
    "with sns.axes_style(\"white\"):\n",
    "    fig, ax = plt.subplots(1, 2, figsize=(12, 8), sharey=True, gridspec_kw={'width_ratios': [1, 11]})\n",
    "    \n",
    "    # retention matrix\n",
    "    sns.heatmap(retention_matrix, \n",
    "                mask=retention_matrix.isnull(), \n",
    "                annot=True, \n",
    "                fmt='.0%', \n",
    "                cmap='Blues', \n",
    "                ax=ax[1])\n",
    "    ax[1].set_title('Monthly Cohorts: User Retention', fontsize=16)\n",
    "    ax[1].set(xlabel='months of periods',\n",
    "              ylabel='')\n",
    "\n",
    "    # cohort size\n",
    "    cohort_size_df = pd.DataFrame(cohort_size).rename(columns={0: 'cohort_size'})\n",
    "    white_cmap = mcolors.ListedColormap(['grey'])\n",
    "    sns.heatmap(cohort_size_df, \n",
    "                annot=True, \n",
    "                cbar=False, \n",
    "                fmt='g', \n",
    "                cmap=white_cmap, \n",
    "                ax=ax[0])\n",
    "\n",
    "    fig.tight_layout()\n"
   ]
  },
  {
   "cell_type": "markdown",
   "id": "f84e2c4d",
   "metadata": {
    "hidden": true
   },
   "source": [
    "What do you notice? "
   ]
  },
  {
   "cell_type": "markdown",
   "id": "967b5e46",
   "metadata": {
    "hidden": true
   },
   "source": [
    "The retention matrix is with the customers that have done 2 or more purchases so little percent of the total of customers.<br>\n",
    "From 04/2018, there is a clear increase over period 1. "
   ]
  },
  {
   "cell_type": "markdown",
   "id": "f3bc8b49",
   "metadata": {
    "hidden": true
   },
   "source": [
    "How could we have know that before? (hint : Calculate the percentage of customers who have ordered more than once)"
   ]
  },
  {
   "cell_type": "code",
   "execution_count": 161,
   "id": "2b0bd39f",
   "metadata": {
    "hidden": true
   },
   "outputs": [
    {
     "data": {
      "text/plain": [
       "3.0307524444114877"
      ]
     },
     "execution_count": 161,
     "metadata": {},
     "output_type": "execute_result"
    }
   ],
   "source": [
    "n_orders = df.groupby(['customer_unique_id'])['order_id'].nunique()\n",
    "orders_perc2 = np.sum(n_orders > 1) / df['customer_unique_id'].nunique()\n",
    "# 3,12% of customers have ordered more than once\n",
    "orders_perc2*100"
   ]
  }
 ],
 "metadata": {
  "hide_input": false,
  "kernelspec": {
   "display_name": "Python 3",
   "language": "python",
   "name": "python3"
  },
  "language_info": {
   "codemirror_mode": {
    "name": "ipython",
    "version": 3
   },
   "file_extension": ".py",
   "mimetype": "text/x-python",
   "name": "python",
   "nbconvert_exporter": "python",
   "pygments_lexer": "ipython3",
   "version": "3.8.8"
  },
  "toc": {
   "base_numbering": 1,
   "nav_menu": {},
   "number_sections": true,
   "sideBar": true,
   "skip_h1_title": false,
   "title_cell": "Table of Contents",
   "title_sidebar": "Contents",
   "toc_cell": false,
   "toc_position": {},
   "toc_section_display": true,
   "toc_window_display": false
  },
  "varInspector": {
   "cols": {
    "lenName": 16,
    "lenType": 16,
    "lenVar": 40
   },
   "kernels_config": {
    "python": {
     "delete_cmd_postfix": "",
     "delete_cmd_prefix": "del ",
     "library": "var_list.py",
     "varRefreshCmd": "print(var_dic_list())"
    },
    "r": {
     "delete_cmd_postfix": ") ",
     "delete_cmd_prefix": "rm(",
     "library": "var_list.r",
     "varRefreshCmd": "cat(var_dic_list()) "
    }
   },
   "types_to_exclude": [
    "module",
    "function",
    "builtin_function_or_method",
    "instance",
    "_Feature"
   ],
   "window_display": false
  }
 },
 "nbformat": 4,
 "nbformat_minor": 5
}
